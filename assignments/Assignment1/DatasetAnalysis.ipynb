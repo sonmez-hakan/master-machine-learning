{
 "nbformat": 4,
 "nbformat_minor": 0,
 "metadata": {
  "colab": {
   "provenance": []
  },
  "kernelspec": {
   "name": "python3",
   "language": "python",
   "display_name": "Python 3 (ipykernel)"
  },
  "language_info": {
   "name": "python"
  }
 },
 "cells": [
  {
   "cell_type": "code",
   "execution_count": 195,
   "metadata": {
    "id": "eAHAGFNOT9hI"
   },
   "outputs": [],
   "source": [
    "import pandas as pd\n",
    "import seaborn as sb\n",
    "import matplotlib.pyplot as plt\n",
    "\n",
    "pd.set_option(\"display.precision\", 2)"
   ]
  },
  {
   "cell_type": "markdown",
   "source": [
    "# **EnergyScore Veri Seti**"
   ],
   "metadata": {
    "id": "7FuTI6zRF-mt"
   }
  },
  {
   "cell_type": "code",
   "source": [
    "dataset = pd.read_excel('/content/drive/MyDrive/Colab Notebooks/Assignment1/Datasets/EnergyStarScore.xlsx', 'Sayfa1');"
   ],
   "metadata": {
    "id": "vWNtS8K9UKzw",
    "colab": {
     "base_uri": "https://localhost:8080/"
    },
    "outputId": "76c67746-7404-4fa1-f110-2645aad86ed9"
   },
   "execution_count": 196,
   "outputs": [
    {
     "output_type": "stream",
     "name": "stderr",
     "text": [
      "/usr/local/lib/python3.9/dist-packages/openpyxl/worksheet/_reader.py:312: UserWarning: Unknown extension is not supported and will be removed\n",
      "  warn(msg)\n"
     ]
    }
   ]
  },
  {
   "cell_type": "markdown",
   "source": [
    "## Sample\n",
    "\n",
    "Veri seti hakkında bilgi edinmek için verilerin rastgele %1'inin gösterilmiştir."
   ],
   "metadata": {
    "id": "QreY1HDyW8kE"
   }
  },
  {
   "cell_type": "code",
   "source": [
    "dataset.sample(frac=0.01)"
   ],
   "metadata": {
    "id": "QfOIYV7nVs3s",
    "outputId": "7b980cb9-5d08-40b7-883c-f906d633a5e8",
    "colab": {
     "base_uri": "https://localhost:8080/",
     "height": 363
    }
   },
   "execution_count": 197,
   "outputs": [
    {
     "output_type": "execute_result",
     "data": {
      "text/plain": [
       "                                  Bina Adı            Bina Tipi        BA  \\\n",
       "525                                  GAVIN          K-12 School  108387.0   \n",
       "780                       5 Channel Center               Office   52500.0   \n",
       "156  Marketplace Lofts Limited Partnership  Multifamily Housing   72600.0   \n",
       "872                        Park Associates  Multifamily Housing   40000.0   \n",
       "859                 DFCI - Yawkey Building       Medical Office  291451.0   \n",
       "928                      261 AUSONIA HOMES  Multifamily Housing   49500.0   \n",
       "90                      Bradley Properties  Multifamily Housing   67500.0   \n",
       "892                        101 CHARLESTOWN  Multifamily Housing  835225.0   \n",
       "104                     The langham Boston                Hotel  280000.0   \n",
       "111                     141 tremont street               Office   64884.0   \n",
       "\n",
       "       BEKY      SGE    SGY       BTE   ESS  \n",
       "525   43.50   298.50   2.80  4.71e+06  96.0  \n",
       "780   72.30   284.60   5.40  3.80e+06  64.0  \n",
       "156   40.00   237.20   3.30  2.90e+06  74.0  \n",
       "872  170.30   424.40  10.60  6.81e+06   6.0  \n",
       "859  413.70  8350.50  28.70  1.21e+08   4.0  \n",
       "928  161.61   501.97  10.14  8.00e+06   NaN  \n",
       "90   121.60   509.50   7.50  8.21e+06   6.0  \n",
       "892  150.31  7710.95   9.23  1.26e+08   NaN  \n",
       "104   75.50   274.90   0.98  2.11e+07  41.0  \n",
       "111   84.40   529.90   8.20  5.48e+06  38.0  "
      ],
      "text/html": [
       "\n",
       "  <div id=\"df-d4ab307c-84b6-4ded-bf04-f7c8a3ff10a3\">\n",
       "    <div class=\"colab-df-container\">\n",
       "      <div>\n",
       "<style scoped>\n",
       "    .dataframe tbody tr th:only-of-type {\n",
       "        vertical-align: middle;\n",
       "    }\n",
       "\n",
       "    .dataframe tbody tr th {\n",
       "        vertical-align: top;\n",
       "    }\n",
       "\n",
       "    .dataframe thead th {\n",
       "        text-align: right;\n",
       "    }\n",
       "</style>\n",
       "<table border=\"1\" class=\"dataframe\">\n",
       "  <thead>\n",
       "    <tr style=\"text-align: right;\">\n",
       "      <th></th>\n",
       "      <th>Bina Adı</th>\n",
       "      <th>Bina Tipi</th>\n",
       "      <th>BA</th>\n",
       "      <th>BEKY</th>\n",
       "      <th>SGE</th>\n",
       "      <th>SGY</th>\n",
       "      <th>BTE</th>\n",
       "      <th>ESS</th>\n",
       "    </tr>\n",
       "  </thead>\n",
       "  <tbody>\n",
       "    <tr>\n",
       "      <th>525</th>\n",
       "      <td>GAVIN</td>\n",
       "      <td>K-12 School</td>\n",
       "      <td>108387.0</td>\n",
       "      <td>43.50</td>\n",
       "      <td>298.50</td>\n",
       "      <td>2.80</td>\n",
       "      <td>4.71e+06</td>\n",
       "      <td>96.0</td>\n",
       "    </tr>\n",
       "    <tr>\n",
       "      <th>780</th>\n",
       "      <td>5 Channel Center</td>\n",
       "      <td>Office</td>\n",
       "      <td>52500.0</td>\n",
       "      <td>72.30</td>\n",
       "      <td>284.60</td>\n",
       "      <td>5.40</td>\n",
       "      <td>3.80e+06</td>\n",
       "      <td>64.0</td>\n",
       "    </tr>\n",
       "    <tr>\n",
       "      <th>156</th>\n",
       "      <td>Marketplace Lofts Limited Partnership</td>\n",
       "      <td>Multifamily Housing</td>\n",
       "      <td>72600.0</td>\n",
       "      <td>40.00</td>\n",
       "      <td>237.20</td>\n",
       "      <td>3.30</td>\n",
       "      <td>2.90e+06</td>\n",
       "      <td>74.0</td>\n",
       "    </tr>\n",
       "    <tr>\n",
       "      <th>872</th>\n",
       "      <td>Park Associates</td>\n",
       "      <td>Multifamily Housing</td>\n",
       "      <td>40000.0</td>\n",
       "      <td>170.30</td>\n",
       "      <td>424.40</td>\n",
       "      <td>10.60</td>\n",
       "      <td>6.81e+06</td>\n",
       "      <td>6.0</td>\n",
       "    </tr>\n",
       "    <tr>\n",
       "      <th>859</th>\n",
       "      <td>DFCI - Yawkey Building</td>\n",
       "      <td>Medical Office</td>\n",
       "      <td>291451.0</td>\n",
       "      <td>413.70</td>\n",
       "      <td>8350.50</td>\n",
       "      <td>28.70</td>\n",
       "      <td>1.21e+08</td>\n",
       "      <td>4.0</td>\n",
       "    </tr>\n",
       "    <tr>\n",
       "      <th>928</th>\n",
       "      <td>261 AUSONIA HOMES</td>\n",
       "      <td>Multifamily Housing</td>\n",
       "      <td>49500.0</td>\n",
       "      <td>161.61</td>\n",
       "      <td>501.97</td>\n",
       "      <td>10.14</td>\n",
       "      <td>8.00e+06</td>\n",
       "      <td>NaN</td>\n",
       "    </tr>\n",
       "    <tr>\n",
       "      <th>90</th>\n",
       "      <td>Bradley Properties</td>\n",
       "      <td>Multifamily Housing</td>\n",
       "      <td>67500.0</td>\n",
       "      <td>121.60</td>\n",
       "      <td>509.50</td>\n",
       "      <td>7.50</td>\n",
       "      <td>8.21e+06</td>\n",
       "      <td>6.0</td>\n",
       "    </tr>\n",
       "    <tr>\n",
       "      <th>892</th>\n",
       "      <td>101 CHARLESTOWN</td>\n",
       "      <td>Multifamily Housing</td>\n",
       "      <td>835225.0</td>\n",
       "      <td>150.31</td>\n",
       "      <td>7710.95</td>\n",
       "      <td>9.23</td>\n",
       "      <td>1.26e+08</td>\n",
       "      <td>NaN</td>\n",
       "    </tr>\n",
       "    <tr>\n",
       "      <th>104</th>\n",
       "      <td>The langham Boston</td>\n",
       "      <td>Hotel</td>\n",
       "      <td>280000.0</td>\n",
       "      <td>75.50</td>\n",
       "      <td>274.90</td>\n",
       "      <td>0.98</td>\n",
       "      <td>2.11e+07</td>\n",
       "      <td>41.0</td>\n",
       "    </tr>\n",
       "    <tr>\n",
       "      <th>111</th>\n",
       "      <td>141 tremont street</td>\n",
       "      <td>Office</td>\n",
       "      <td>64884.0</td>\n",
       "      <td>84.40</td>\n",
       "      <td>529.90</td>\n",
       "      <td>8.20</td>\n",
       "      <td>5.48e+06</td>\n",
       "      <td>38.0</td>\n",
       "    </tr>\n",
       "  </tbody>\n",
       "</table>\n",
       "</div>\n",
       "      <button class=\"colab-df-convert\" onclick=\"convertToInteractive('df-d4ab307c-84b6-4ded-bf04-f7c8a3ff10a3')\"\n",
       "              title=\"Convert this dataframe to an interactive table.\"\n",
       "              style=\"display:none;\">\n",
       "        \n",
       "  <svg xmlns=\"http://www.w3.org/2000/svg\" height=\"24px\"viewBox=\"0 0 24 24\"\n",
       "       width=\"24px\">\n",
       "    <path d=\"M0 0h24v24H0V0z\" fill=\"none\"/>\n",
       "    <path d=\"M18.56 5.44l.94 2.06.94-2.06 2.06-.94-2.06-.94-.94-2.06-.94 2.06-2.06.94zm-11 1L8.5 8.5l.94-2.06 2.06-.94-2.06-.94L8.5 2.5l-.94 2.06-2.06.94zm10 10l.94 2.06.94-2.06 2.06-.94-2.06-.94-.94-2.06-.94 2.06-2.06.94z\"/><path d=\"M17.41 7.96l-1.37-1.37c-.4-.4-.92-.59-1.43-.59-.52 0-1.04.2-1.43.59L10.3 9.45l-7.72 7.72c-.78.78-.78 2.05 0 2.83L4 21.41c.39.39.9.59 1.41.59.51 0 1.02-.2 1.41-.59l7.78-7.78 2.81-2.81c.8-.78.8-2.07 0-2.86zM5.41 20L4 18.59l7.72-7.72 1.47 1.35L5.41 20z\"/>\n",
       "  </svg>\n",
       "      </button>\n",
       "      \n",
       "  <style>\n",
       "    .colab-df-container {\n",
       "      display:flex;\n",
       "      flex-wrap:wrap;\n",
       "      gap: 12px;\n",
       "    }\n",
       "\n",
       "    .colab-df-convert {\n",
       "      background-color: #E8F0FE;\n",
       "      border: none;\n",
       "      border-radius: 50%;\n",
       "      cursor: pointer;\n",
       "      display: none;\n",
       "      fill: #1967D2;\n",
       "      height: 32px;\n",
       "      padding: 0 0 0 0;\n",
       "      width: 32px;\n",
       "    }\n",
       "\n",
       "    .colab-df-convert:hover {\n",
       "      background-color: #E2EBFA;\n",
       "      box-shadow: 0px 1px 2px rgba(60, 64, 67, 0.3), 0px 1px 3px 1px rgba(60, 64, 67, 0.15);\n",
       "      fill: #174EA6;\n",
       "    }\n",
       "\n",
       "    [theme=dark] .colab-df-convert {\n",
       "      background-color: #3B4455;\n",
       "      fill: #D2E3FC;\n",
       "    }\n",
       "\n",
       "    [theme=dark] .colab-df-convert:hover {\n",
       "      background-color: #434B5C;\n",
       "      box-shadow: 0px 1px 3px 1px rgba(0, 0, 0, 0.15);\n",
       "      filter: drop-shadow(0px 1px 2px rgba(0, 0, 0, 0.3));\n",
       "      fill: #FFFFFF;\n",
       "    }\n",
       "  </style>\n",
       "\n",
       "      <script>\n",
       "        const buttonEl =\n",
       "          document.querySelector('#df-d4ab307c-84b6-4ded-bf04-f7c8a3ff10a3 button.colab-df-convert');\n",
       "        buttonEl.style.display =\n",
       "          google.colab.kernel.accessAllowed ? 'block' : 'none';\n",
       "\n",
       "        async function convertToInteractive(key) {\n",
       "          const element = document.querySelector('#df-d4ab307c-84b6-4ded-bf04-f7c8a3ff10a3');\n",
       "          const dataTable =\n",
       "            await google.colab.kernel.invokeFunction('convertToInteractive',\n",
       "                                                     [key], {});\n",
       "          if (!dataTable) return;\n",
       "\n",
       "          const docLinkHtml = 'Like what you see? Visit the ' +\n",
       "            '<a target=\"_blank\" href=https://colab.research.google.com/notebooks/data_table.ipynb>data table notebook</a>'\n",
       "            + ' to learn more about interactive tables.';\n",
       "          element.innerHTML = '';\n",
       "          dataTable['output_type'] = 'display_data';\n",
       "          await google.colab.output.renderOutput(dataTable, element);\n",
       "          const docLink = document.createElement('div');\n",
       "          docLink.innerHTML = docLinkHtml;\n",
       "          element.appendChild(docLink);\n",
       "        }\n",
       "      </script>\n",
       "    </div>\n",
       "  </div>\n",
       "  "
      ]
     },
     "metadata": {},
     "execution_count": 197
    }
   ]
  },
  {
   "cell_type": "markdown",
   "source": [
    "## Sütunlara Erişmek\n",
    "\n",
    "BA ve SGE arasındaki sütünlardan rastgele %1'i gösterilmiştir."
   ],
   "metadata": {
    "id": "nbEwEZgnnEWK"
   }
  },
  {
   "cell_type": "code",
   "source": [
    "dataset.loc[:,\"BA\":\"SGE\"].sample(frac=0.01)"
   ],
   "metadata": {
    "colab": {
     "base_uri": "https://localhost:8080/",
     "height": 363
    },
    "id": "9Ix-ox-rnDGc",
    "outputId": "f7ebff37-74c4-4524-a6c3-4a253c317259"
   },
   "execution_count": 198,
   "outputs": [
    {
     "output_type": "execute_result",
     "data": {
      "text/plain": [
       "           BA    BEKY      SGE\n",
       "264   42860.0   99.40   328.20\n",
       "272   74655.0  126.60   565.70\n",
       "829  130204.0   27.30   259.00\n",
       "96   152212.0  104.00   923.80\n",
       "715  108832.0   63.60   408.20\n",
       "943  224000.0  146.05  2011.96\n",
       "666   27777.0   49.60    85.10\n",
       "496   39528.0   82.10   186.30\n",
       "89   127689.0  135.50  1372.20\n",
       "156   72600.0   40.00   237.20"
      ],
      "text/html": [
       "\n",
       "  <div id=\"df-fc5faac6-9a47-444c-bbfc-ac66e81e3c3b\">\n",
       "    <div class=\"colab-df-container\">\n",
       "      <div>\n",
       "<style scoped>\n",
       "    .dataframe tbody tr th:only-of-type {\n",
       "        vertical-align: middle;\n",
       "    }\n",
       "\n",
       "    .dataframe tbody tr th {\n",
       "        vertical-align: top;\n",
       "    }\n",
       "\n",
       "    .dataframe thead th {\n",
       "        text-align: right;\n",
       "    }\n",
       "</style>\n",
       "<table border=\"1\" class=\"dataframe\">\n",
       "  <thead>\n",
       "    <tr style=\"text-align: right;\">\n",
       "      <th></th>\n",
       "      <th>BA</th>\n",
       "      <th>BEKY</th>\n",
       "      <th>SGE</th>\n",
       "    </tr>\n",
       "  </thead>\n",
       "  <tbody>\n",
       "    <tr>\n",
       "      <th>264</th>\n",
       "      <td>42860.0</td>\n",
       "      <td>99.40</td>\n",
       "      <td>328.20</td>\n",
       "    </tr>\n",
       "    <tr>\n",
       "      <th>272</th>\n",
       "      <td>74655.0</td>\n",
       "      <td>126.60</td>\n",
       "      <td>565.70</td>\n",
       "    </tr>\n",
       "    <tr>\n",
       "      <th>829</th>\n",
       "      <td>130204.0</td>\n",
       "      <td>27.30</td>\n",
       "      <td>259.00</td>\n",
       "    </tr>\n",
       "    <tr>\n",
       "      <th>96</th>\n",
       "      <td>152212.0</td>\n",
       "      <td>104.00</td>\n",
       "      <td>923.80</td>\n",
       "    </tr>\n",
       "    <tr>\n",
       "      <th>715</th>\n",
       "      <td>108832.0</td>\n",
       "      <td>63.60</td>\n",
       "      <td>408.20</td>\n",
       "    </tr>\n",
       "    <tr>\n",
       "      <th>943</th>\n",
       "      <td>224000.0</td>\n",
       "      <td>146.05</td>\n",
       "      <td>2011.96</td>\n",
       "    </tr>\n",
       "    <tr>\n",
       "      <th>666</th>\n",
       "      <td>27777.0</td>\n",
       "      <td>49.60</td>\n",
       "      <td>85.10</td>\n",
       "    </tr>\n",
       "    <tr>\n",
       "      <th>496</th>\n",
       "      <td>39528.0</td>\n",
       "      <td>82.10</td>\n",
       "      <td>186.30</td>\n",
       "    </tr>\n",
       "    <tr>\n",
       "      <th>89</th>\n",
       "      <td>127689.0</td>\n",
       "      <td>135.50</td>\n",
       "      <td>1372.20</td>\n",
       "    </tr>\n",
       "    <tr>\n",
       "      <th>156</th>\n",
       "      <td>72600.0</td>\n",
       "      <td>40.00</td>\n",
       "      <td>237.20</td>\n",
       "    </tr>\n",
       "  </tbody>\n",
       "</table>\n",
       "</div>\n",
       "      <button class=\"colab-df-convert\" onclick=\"convertToInteractive('df-fc5faac6-9a47-444c-bbfc-ac66e81e3c3b')\"\n",
       "              title=\"Convert this dataframe to an interactive table.\"\n",
       "              style=\"display:none;\">\n",
       "        \n",
       "  <svg xmlns=\"http://www.w3.org/2000/svg\" height=\"24px\"viewBox=\"0 0 24 24\"\n",
       "       width=\"24px\">\n",
       "    <path d=\"M0 0h24v24H0V0z\" fill=\"none\"/>\n",
       "    <path d=\"M18.56 5.44l.94 2.06.94-2.06 2.06-.94-2.06-.94-.94-2.06-.94 2.06-2.06.94zm-11 1L8.5 8.5l.94-2.06 2.06-.94-2.06-.94L8.5 2.5l-.94 2.06-2.06.94zm10 10l.94 2.06.94-2.06 2.06-.94-2.06-.94-.94-2.06-.94 2.06-2.06.94z\"/><path d=\"M17.41 7.96l-1.37-1.37c-.4-.4-.92-.59-1.43-.59-.52 0-1.04.2-1.43.59L10.3 9.45l-7.72 7.72c-.78.78-.78 2.05 0 2.83L4 21.41c.39.39.9.59 1.41.59.51 0 1.02-.2 1.41-.59l7.78-7.78 2.81-2.81c.8-.78.8-2.07 0-2.86zM5.41 20L4 18.59l7.72-7.72 1.47 1.35L5.41 20z\"/>\n",
       "  </svg>\n",
       "      </button>\n",
       "      \n",
       "  <style>\n",
       "    .colab-df-container {\n",
       "      display:flex;\n",
       "      flex-wrap:wrap;\n",
       "      gap: 12px;\n",
       "    }\n",
       "\n",
       "    .colab-df-convert {\n",
       "      background-color: #E8F0FE;\n",
       "      border: none;\n",
       "      border-radius: 50%;\n",
       "      cursor: pointer;\n",
       "      display: none;\n",
       "      fill: #1967D2;\n",
       "      height: 32px;\n",
       "      padding: 0 0 0 0;\n",
       "      width: 32px;\n",
       "    }\n",
       "\n",
       "    .colab-df-convert:hover {\n",
       "      background-color: #E2EBFA;\n",
       "      box-shadow: 0px 1px 2px rgba(60, 64, 67, 0.3), 0px 1px 3px 1px rgba(60, 64, 67, 0.15);\n",
       "      fill: #174EA6;\n",
       "    }\n",
       "\n",
       "    [theme=dark] .colab-df-convert {\n",
       "      background-color: #3B4455;\n",
       "      fill: #D2E3FC;\n",
       "    }\n",
       "\n",
       "    [theme=dark] .colab-df-convert:hover {\n",
       "      background-color: #434B5C;\n",
       "      box-shadow: 0px 1px 3px 1px rgba(0, 0, 0, 0.15);\n",
       "      filter: drop-shadow(0px 1px 2px rgba(0, 0, 0, 0.3));\n",
       "      fill: #FFFFFF;\n",
       "    }\n",
       "  </style>\n",
       "\n",
       "      <script>\n",
       "        const buttonEl =\n",
       "          document.querySelector('#df-fc5faac6-9a47-444c-bbfc-ac66e81e3c3b button.colab-df-convert');\n",
       "        buttonEl.style.display =\n",
       "          google.colab.kernel.accessAllowed ? 'block' : 'none';\n",
       "\n",
       "        async function convertToInteractive(key) {\n",
       "          const element = document.querySelector('#df-fc5faac6-9a47-444c-bbfc-ac66e81e3c3b');\n",
       "          const dataTable =\n",
       "            await google.colab.kernel.invokeFunction('convertToInteractive',\n",
       "                                                     [key], {});\n",
       "          if (!dataTable) return;\n",
       "\n",
       "          const docLinkHtml = 'Like what you see? Visit the ' +\n",
       "            '<a target=\"_blank\" href=https://colab.research.google.com/notebooks/data_table.ipynb>data table notebook</a>'\n",
       "            + ' to learn more about interactive tables.';\n",
       "          element.innerHTML = '';\n",
       "          dataTable['output_type'] = 'display_data';\n",
       "          await google.colab.output.renderOutput(dataTable, element);\n",
       "          const docLink = document.createElement('div');\n",
       "          docLink.innerHTML = docLinkHtml;\n",
       "          element.appendChild(docLink);\n",
       "        }\n",
       "      </script>\n",
       "    </div>\n",
       "  </div>\n",
       "  "
      ]
     },
     "metadata": {},
     "execution_count": 198
    }
   ]
  },
  {
   "cell_type": "markdown",
   "source": [
    "## Info\n",
    "\n",
    "Verilerin sütunlara göre kaç adet non-null veri içerdiği ve veri tipinin gösterimi yapılmıştır."
   ],
   "metadata": {
    "id": "Uq_kUwjyXX2r"
   }
  },
  {
   "cell_type": "code",
   "source": [
    "dataset.info()"
   ],
   "metadata": {
    "colab": {
     "base_uri": "https://localhost:8080/"
    },
    "id": "5c0C5JClXZrb",
    "outputId": "b9db7119-f77e-4fab-f0bf-2a34f4584c49"
   },
   "execution_count": 199,
   "outputs": [
    {
     "output_type": "stream",
     "name": "stdout",
     "text": [
      "<class 'pandas.core.frame.DataFrame'>\n",
      "RangeIndex: 950 entries, 0 to 949\n",
      "Data columns (total 8 columns):\n",
      " #   Column     Non-Null Count  Dtype  \n",
      "---  ------     --------------  -----  \n",
      " 0   Bina Adı   950 non-null    object \n",
      " 1   Bina Tipi  936 non-null    object \n",
      " 2   BA         936 non-null    float64\n",
      " 3   BEKY       893 non-null    float64\n",
      " 4   SGE        934 non-null    float64\n",
      " 5   SGY        928 non-null    float64\n",
      " 6   BTE        896 non-null    float64\n",
      " 7   ESS        736 non-null    float64\n",
      "dtypes: float64(6), object(2)\n",
      "memory usage: 59.5+ KB\n"
     ]
    }
   ]
  },
  {
   "cell_type": "markdown",
   "source": [
    "## Describe\n",
    "\n",
    "Veri setinin istatiksel bilgilerinin gösterilmiştir (count mean std vb)"
   ],
   "metadata": {
    "id": "lGScsXqvYCg9"
   }
  },
  {
   "cell_type": "code",
   "source": [
    "dataset.describe().T"
   ],
   "metadata": {
    "colab": {
     "base_uri": "https://localhost:8080/",
     "height": 238
    },
    "id": "xjMdrAhsXVgm",
    "outputId": "822e88c8-821d-459f-d38c-15767d2c0665"
   },
   "execution_count": 200,
   "outputs": [
    {
     "output_type": "execute_result",
     "data": {
      "text/plain": [
       "      count      mean       std     min       25%       50%       75%  \\\n",
       "BA    936.0  2.08e+05  3.52e+05   100.0  5.58e+04  1.01e+05  2.03e+05   \n",
       "BEKY  893.0  8.32e+02  1.84e+04     0.1  5.43e+01  7.37e+01  1.04e+02   \n",
       "SGE   934.0  3.41e+03  3.26e+04  -211.7  2.23e+02  4.98e+02  1.21e+03   \n",
       "SGY   928.0  5.32e+01  1.20e+03    -0.4  3.60e+00  5.40e+00  7.39e+00   \n",
       "BTE   896.0  5.25e+07  5.19e+08  5524.0  3.54e+06  7.36e+06  1.69e+07   \n",
       "ESS   736.0  6.72e+01  3.04e+01     1.0  4.60e+01  7.70e+01  9.30e+01   \n",
       "\n",
       "           max  \n",
       "BA    4.64e+06  \n",
       "BEKY  5.46e+05  \n",
       "SGE   8.01e+05  \n",
       "SGY   3.62e+04  \n",
       "BTE   1.21e+10  \n",
       "ESS   1.00e+02  "
      ],
      "text/html": [
       "\n",
       "  <div id=\"df-16bceedd-9349-4a1b-a918-da1ccb9aa6fb\">\n",
       "    <div class=\"colab-df-container\">\n",
       "      <div>\n",
       "<style scoped>\n",
       "    .dataframe tbody tr th:only-of-type {\n",
       "        vertical-align: middle;\n",
       "    }\n",
       "\n",
       "    .dataframe tbody tr th {\n",
       "        vertical-align: top;\n",
       "    }\n",
       "\n",
       "    .dataframe thead th {\n",
       "        text-align: right;\n",
       "    }\n",
       "</style>\n",
       "<table border=\"1\" class=\"dataframe\">\n",
       "  <thead>\n",
       "    <tr style=\"text-align: right;\">\n",
       "      <th></th>\n",
       "      <th>count</th>\n",
       "      <th>mean</th>\n",
       "      <th>std</th>\n",
       "      <th>min</th>\n",
       "      <th>25%</th>\n",
       "      <th>50%</th>\n",
       "      <th>75%</th>\n",
       "      <th>max</th>\n",
       "    </tr>\n",
       "  </thead>\n",
       "  <tbody>\n",
       "    <tr>\n",
       "      <th>BA</th>\n",
       "      <td>936.0</td>\n",
       "      <td>2.08e+05</td>\n",
       "      <td>3.52e+05</td>\n",
       "      <td>100.0</td>\n",
       "      <td>5.58e+04</td>\n",
       "      <td>1.01e+05</td>\n",
       "      <td>2.03e+05</td>\n",
       "      <td>4.64e+06</td>\n",
       "    </tr>\n",
       "    <tr>\n",
       "      <th>BEKY</th>\n",
       "      <td>893.0</td>\n",
       "      <td>8.32e+02</td>\n",
       "      <td>1.84e+04</td>\n",
       "      <td>0.1</td>\n",
       "      <td>5.43e+01</td>\n",
       "      <td>7.37e+01</td>\n",
       "      <td>1.04e+02</td>\n",
       "      <td>5.46e+05</td>\n",
       "    </tr>\n",
       "    <tr>\n",
       "      <th>SGE</th>\n",
       "      <td>934.0</td>\n",
       "      <td>3.41e+03</td>\n",
       "      <td>3.26e+04</td>\n",
       "      <td>-211.7</td>\n",
       "      <td>2.23e+02</td>\n",
       "      <td>4.98e+02</td>\n",
       "      <td>1.21e+03</td>\n",
       "      <td>8.01e+05</td>\n",
       "    </tr>\n",
       "    <tr>\n",
       "      <th>SGY</th>\n",
       "      <td>928.0</td>\n",
       "      <td>5.32e+01</td>\n",
       "      <td>1.20e+03</td>\n",
       "      <td>-0.4</td>\n",
       "      <td>3.60e+00</td>\n",
       "      <td>5.40e+00</td>\n",
       "      <td>7.39e+00</td>\n",
       "      <td>3.62e+04</td>\n",
       "    </tr>\n",
       "    <tr>\n",
       "      <th>BTE</th>\n",
       "      <td>896.0</td>\n",
       "      <td>5.25e+07</td>\n",
       "      <td>5.19e+08</td>\n",
       "      <td>5524.0</td>\n",
       "      <td>3.54e+06</td>\n",
       "      <td>7.36e+06</td>\n",
       "      <td>1.69e+07</td>\n",
       "      <td>1.21e+10</td>\n",
       "    </tr>\n",
       "    <tr>\n",
       "      <th>ESS</th>\n",
       "      <td>736.0</td>\n",
       "      <td>6.72e+01</td>\n",
       "      <td>3.04e+01</td>\n",
       "      <td>1.0</td>\n",
       "      <td>4.60e+01</td>\n",
       "      <td>7.70e+01</td>\n",
       "      <td>9.30e+01</td>\n",
       "      <td>1.00e+02</td>\n",
       "    </tr>\n",
       "  </tbody>\n",
       "</table>\n",
       "</div>\n",
       "      <button class=\"colab-df-convert\" onclick=\"convertToInteractive('df-16bceedd-9349-4a1b-a918-da1ccb9aa6fb')\"\n",
       "              title=\"Convert this dataframe to an interactive table.\"\n",
       "              style=\"display:none;\">\n",
       "        \n",
       "  <svg xmlns=\"http://www.w3.org/2000/svg\" height=\"24px\"viewBox=\"0 0 24 24\"\n",
       "       width=\"24px\">\n",
       "    <path d=\"M0 0h24v24H0V0z\" fill=\"none\"/>\n",
       "    <path d=\"M18.56 5.44l.94 2.06.94-2.06 2.06-.94-2.06-.94-.94-2.06-.94 2.06-2.06.94zm-11 1L8.5 8.5l.94-2.06 2.06-.94-2.06-.94L8.5 2.5l-.94 2.06-2.06.94zm10 10l.94 2.06.94-2.06 2.06-.94-2.06-.94-.94-2.06-.94 2.06-2.06.94z\"/><path d=\"M17.41 7.96l-1.37-1.37c-.4-.4-.92-.59-1.43-.59-.52 0-1.04.2-1.43.59L10.3 9.45l-7.72 7.72c-.78.78-.78 2.05 0 2.83L4 21.41c.39.39.9.59 1.41.59.51 0 1.02-.2 1.41-.59l7.78-7.78 2.81-2.81c.8-.78.8-2.07 0-2.86zM5.41 20L4 18.59l7.72-7.72 1.47 1.35L5.41 20z\"/>\n",
       "  </svg>\n",
       "      </button>\n",
       "      \n",
       "  <style>\n",
       "    .colab-df-container {\n",
       "      display:flex;\n",
       "      flex-wrap:wrap;\n",
       "      gap: 12px;\n",
       "    }\n",
       "\n",
       "    .colab-df-convert {\n",
       "      background-color: #E8F0FE;\n",
       "      border: none;\n",
       "      border-radius: 50%;\n",
       "      cursor: pointer;\n",
       "      display: none;\n",
       "      fill: #1967D2;\n",
       "      height: 32px;\n",
       "      padding: 0 0 0 0;\n",
       "      width: 32px;\n",
       "    }\n",
       "\n",
       "    .colab-df-convert:hover {\n",
       "      background-color: #E2EBFA;\n",
       "      box-shadow: 0px 1px 2px rgba(60, 64, 67, 0.3), 0px 1px 3px 1px rgba(60, 64, 67, 0.15);\n",
       "      fill: #174EA6;\n",
       "    }\n",
       "\n",
       "    [theme=dark] .colab-df-convert {\n",
       "      background-color: #3B4455;\n",
       "      fill: #D2E3FC;\n",
       "    }\n",
       "\n",
       "    [theme=dark] .colab-df-convert:hover {\n",
       "      background-color: #434B5C;\n",
       "      box-shadow: 0px 1px 3px 1px rgba(0, 0, 0, 0.15);\n",
       "      filter: drop-shadow(0px 1px 2px rgba(0, 0, 0, 0.3));\n",
       "      fill: #FFFFFF;\n",
       "    }\n",
       "  </style>\n",
       "\n",
       "      <script>\n",
       "        const buttonEl =\n",
       "          document.querySelector('#df-16bceedd-9349-4a1b-a918-da1ccb9aa6fb button.colab-df-convert');\n",
       "        buttonEl.style.display =\n",
       "          google.colab.kernel.accessAllowed ? 'block' : 'none';\n",
       "\n",
       "        async function convertToInteractive(key) {\n",
       "          const element = document.querySelector('#df-16bceedd-9349-4a1b-a918-da1ccb9aa6fb');\n",
       "          const dataTable =\n",
       "            await google.colab.kernel.invokeFunction('convertToInteractive',\n",
       "                                                     [key], {});\n",
       "          if (!dataTable) return;\n",
       "\n",
       "          const docLinkHtml = 'Like what you see? Visit the ' +\n",
       "            '<a target=\"_blank\" href=https://colab.research.google.com/notebooks/data_table.ipynb>data table notebook</a>'\n",
       "            + ' to learn more about interactive tables.';\n",
       "          element.innerHTML = '';\n",
       "          dataTable['output_type'] = 'display_data';\n",
       "          await google.colab.output.renderOutput(dataTable, element);\n",
       "          const docLink = document.createElement('div');\n",
       "          docLink.innerHTML = docLinkHtml;\n",
       "          element.appendChild(docLink);\n",
       "        }\n",
       "      </script>\n",
       "    </div>\n",
       "  </div>\n",
       "  "
      ]
     },
     "metadata": {},
     "execution_count": 200
    }
   ]
  },
  {
   "cell_type": "markdown",
   "source": [
    "## Korelasyon\n",
    "\n",
    "Sürunlar arası korelasyon bilgisinin matrix olarak gösterilmiştir."
   ],
   "metadata": {
    "id": "kobDZi0Jb8ys"
   }
  },
  {
   "cell_type": "code",
   "source": [
    "dataset.corr()"
   ],
   "metadata": {
    "colab": {
     "base_uri": "https://localhost:8080/",
     "height": 238
    },
    "id": "BecsvMSGcA0J",
    "outputId": "18a8ab85-6ea6-4e87-fcdb-941b35ddbd8a"
   },
   "execution_count": 201,
   "outputs": [
    {
     "output_type": "execute_result",
     "data": {
      "text/plain": [
       "        BA  BEKY   SGE   SGY   BTE   ESS\n",
       "BA    1.00 -0.02  0.10 -0.02  0.08 -0.04\n",
       "BEKY -0.02  1.00  0.38  1.00  0.37 -0.10\n",
       "SGE   0.10  0.38  1.00  0.38  1.00 -0.17\n",
       "SGY  -0.02  1.00  0.38  1.00  0.37 -0.10\n",
       "BTE   0.08  0.37  1.00  0.37  1.00 -0.17\n",
       "ESS  -0.04 -0.10 -0.17 -0.10 -0.17  1.00"
      ],
      "text/html": [
       "\n",
       "  <div id=\"df-347ba9eb-4ed1-49b5-8572-b93b07be76cb\">\n",
       "    <div class=\"colab-df-container\">\n",
       "      <div>\n",
       "<style scoped>\n",
       "    .dataframe tbody tr th:only-of-type {\n",
       "        vertical-align: middle;\n",
       "    }\n",
       "\n",
       "    .dataframe tbody tr th {\n",
       "        vertical-align: top;\n",
       "    }\n",
       "\n",
       "    .dataframe thead th {\n",
       "        text-align: right;\n",
       "    }\n",
       "</style>\n",
       "<table border=\"1\" class=\"dataframe\">\n",
       "  <thead>\n",
       "    <tr style=\"text-align: right;\">\n",
       "      <th></th>\n",
       "      <th>BA</th>\n",
       "      <th>BEKY</th>\n",
       "      <th>SGE</th>\n",
       "      <th>SGY</th>\n",
       "      <th>BTE</th>\n",
       "      <th>ESS</th>\n",
       "    </tr>\n",
       "  </thead>\n",
       "  <tbody>\n",
       "    <tr>\n",
       "      <th>BA</th>\n",
       "      <td>1.00</td>\n",
       "      <td>-0.02</td>\n",
       "      <td>0.10</td>\n",
       "      <td>-0.02</td>\n",
       "      <td>0.08</td>\n",
       "      <td>-0.04</td>\n",
       "    </tr>\n",
       "    <tr>\n",
       "      <th>BEKY</th>\n",
       "      <td>-0.02</td>\n",
       "      <td>1.00</td>\n",
       "      <td>0.38</td>\n",
       "      <td>1.00</td>\n",
       "      <td>0.37</td>\n",
       "      <td>-0.10</td>\n",
       "    </tr>\n",
       "    <tr>\n",
       "      <th>SGE</th>\n",
       "      <td>0.10</td>\n",
       "      <td>0.38</td>\n",
       "      <td>1.00</td>\n",
       "      <td>0.38</td>\n",
       "      <td>1.00</td>\n",
       "      <td>-0.17</td>\n",
       "    </tr>\n",
       "    <tr>\n",
       "      <th>SGY</th>\n",
       "      <td>-0.02</td>\n",
       "      <td>1.00</td>\n",
       "      <td>0.38</td>\n",
       "      <td>1.00</td>\n",
       "      <td>0.37</td>\n",
       "      <td>-0.10</td>\n",
       "    </tr>\n",
       "    <tr>\n",
       "      <th>BTE</th>\n",
       "      <td>0.08</td>\n",
       "      <td>0.37</td>\n",
       "      <td>1.00</td>\n",
       "      <td>0.37</td>\n",
       "      <td>1.00</td>\n",
       "      <td>-0.17</td>\n",
       "    </tr>\n",
       "    <tr>\n",
       "      <th>ESS</th>\n",
       "      <td>-0.04</td>\n",
       "      <td>-0.10</td>\n",
       "      <td>-0.17</td>\n",
       "      <td>-0.10</td>\n",
       "      <td>-0.17</td>\n",
       "      <td>1.00</td>\n",
       "    </tr>\n",
       "  </tbody>\n",
       "</table>\n",
       "</div>\n",
       "      <button class=\"colab-df-convert\" onclick=\"convertToInteractive('df-347ba9eb-4ed1-49b5-8572-b93b07be76cb')\"\n",
       "              title=\"Convert this dataframe to an interactive table.\"\n",
       "              style=\"display:none;\">\n",
       "        \n",
       "  <svg xmlns=\"http://www.w3.org/2000/svg\" height=\"24px\"viewBox=\"0 0 24 24\"\n",
       "       width=\"24px\">\n",
       "    <path d=\"M0 0h24v24H0V0z\" fill=\"none\"/>\n",
       "    <path d=\"M18.56 5.44l.94 2.06.94-2.06 2.06-.94-2.06-.94-.94-2.06-.94 2.06-2.06.94zm-11 1L8.5 8.5l.94-2.06 2.06-.94-2.06-.94L8.5 2.5l-.94 2.06-2.06.94zm10 10l.94 2.06.94-2.06 2.06-.94-2.06-.94-.94-2.06-.94 2.06-2.06.94z\"/><path d=\"M17.41 7.96l-1.37-1.37c-.4-.4-.92-.59-1.43-.59-.52 0-1.04.2-1.43.59L10.3 9.45l-7.72 7.72c-.78.78-.78 2.05 0 2.83L4 21.41c.39.39.9.59 1.41.59.51 0 1.02-.2 1.41-.59l7.78-7.78 2.81-2.81c.8-.78.8-2.07 0-2.86zM5.41 20L4 18.59l7.72-7.72 1.47 1.35L5.41 20z\"/>\n",
       "  </svg>\n",
       "      </button>\n",
       "      \n",
       "  <style>\n",
       "    .colab-df-container {\n",
       "      display:flex;\n",
       "      flex-wrap:wrap;\n",
       "      gap: 12px;\n",
       "    }\n",
       "\n",
       "    .colab-df-convert {\n",
       "      background-color: #E8F0FE;\n",
       "      border: none;\n",
       "      border-radius: 50%;\n",
       "      cursor: pointer;\n",
       "      display: none;\n",
       "      fill: #1967D2;\n",
       "      height: 32px;\n",
       "      padding: 0 0 0 0;\n",
       "      width: 32px;\n",
       "    }\n",
       "\n",
       "    .colab-df-convert:hover {\n",
       "      background-color: #E2EBFA;\n",
       "      box-shadow: 0px 1px 2px rgba(60, 64, 67, 0.3), 0px 1px 3px 1px rgba(60, 64, 67, 0.15);\n",
       "      fill: #174EA6;\n",
       "    }\n",
       "\n",
       "    [theme=dark] .colab-df-convert {\n",
       "      background-color: #3B4455;\n",
       "      fill: #D2E3FC;\n",
       "    }\n",
       "\n",
       "    [theme=dark] .colab-df-convert:hover {\n",
       "      background-color: #434B5C;\n",
       "      box-shadow: 0px 1px 3px 1px rgba(0, 0, 0, 0.15);\n",
       "      filter: drop-shadow(0px 1px 2px rgba(0, 0, 0, 0.3));\n",
       "      fill: #FFFFFF;\n",
       "    }\n",
       "  </style>\n",
       "\n",
       "      <script>\n",
       "        const buttonEl =\n",
       "          document.querySelector('#df-347ba9eb-4ed1-49b5-8572-b93b07be76cb button.colab-df-convert');\n",
       "        buttonEl.style.display =\n",
       "          google.colab.kernel.accessAllowed ? 'block' : 'none';\n",
       "\n",
       "        async function convertToInteractive(key) {\n",
       "          const element = document.querySelector('#df-347ba9eb-4ed1-49b5-8572-b93b07be76cb');\n",
       "          const dataTable =\n",
       "            await google.colab.kernel.invokeFunction('convertToInteractive',\n",
       "                                                     [key], {});\n",
       "          if (!dataTable) return;\n",
       "\n",
       "          const docLinkHtml = 'Like what you see? Visit the ' +\n",
       "            '<a target=\"_blank\" href=https://colab.research.google.com/notebooks/data_table.ipynb>data table notebook</a>'\n",
       "            + ' to learn more about interactive tables.';\n",
       "          element.innerHTML = '';\n",
       "          dataTable['output_type'] = 'display_data';\n",
       "          await google.colab.output.renderOutput(dataTable, element);\n",
       "          const docLink = document.createElement('div');\n",
       "          docLink.innerHTML = docLinkHtml;\n",
       "          element.appendChild(docLink);\n",
       "        }\n",
       "      </script>\n",
       "    </div>\n",
       "  </div>\n",
       "  "
      ]
     },
     "metadata": {},
     "execution_count": 201
    }
   ]
  },
  {
   "cell_type": "markdown",
   "source": [
    "## Heatmap\n",
    "\n",
    "Heatmap ile sütünlar arası korelasyonun görselleştirilmiştir."
   ],
   "metadata": {
    "id": "li7u0naLcpoL"
   }
  },
  {
   "cell_type": "code",
   "source": [
    "sb.heatmap(dataset.corr(), annot=True, cmap=\"coolwarm\")"
   ],
   "metadata": {
    "colab": {
     "base_uri": "https://localhost:8080/",
     "height": 286
    },
    "id": "aQnpeDEscKkJ",
    "outputId": "9ba9d09f-03ba-4f6f-cb91-0984fb50e99c"
   },
   "execution_count": 202,
   "outputs": [
    {
     "output_type": "execute_result",
     "data": {
      "text/plain": [
       "<AxesSubplot:>"
      ]
     },
     "metadata": {},
     "execution_count": 202
    },
    {
     "output_type": "display_data",
     "data": {
      "text/plain": [
       "<Figure size 432x288 with 2 Axes>"
      ],
      "image/png": "[encoded data removed]"
     },
     "metadata": {
      "needs_background": "light"
     }
    }
   ]
  },
  {
   "cell_type": "markdown",
   "source": [
    "## Scatter \n",
    "\n",
    "Aralarında korelasyona göre güçlü bir ilişki bulunan SGE ve BEKY sütunlarının değer dağılımları scatter üstünde görselleştirilmiştir."
   ],
   "metadata": {
    "id": "eSv2u_qGGqD_"
   }
  },
  {
   "cell_type": "code",
   "source": [
    "plt.figure(figsize=(20,3))\n",
    "plt.scatter(dataset['SGY'], dataset['BEKY'], c='red')"
   ],
   "metadata": {
    "id": "KczbAo2zi7km",
    "colab": {
     "base_uri": "https://localhost:8080/",
     "height": 228
    },
    "outputId": "ebeefd4d-df9a-4165-ac91-1dfabd980d70"
   },
   "execution_count": 203,
   "outputs": [
    {
     "output_type": "execute_result",
     "data": {
      "text/plain": [
       "<matplotlib.collections.PathCollection at 0x7fe509c998e0>"
      ]
     },
     "metadata": {},
     "execution_count": 203
    },
    {
     "output_type": "display_data",
     "data": {
      "text/plain": [
       "<Figure size 1440x216 with 1 Axes>"
      ],
      "image/png": "[encoded data removed]"
     },
     "metadata": {
      "needs_background": "light"
     }
    }
   ]
  },
  {
   "cell_type": "markdown",
   "source": [
    "## Verilerin Görselleştirilmesi\n",
    "\n",
    "matplotlib.pyplot kütüphanesi kullanılarak verisetinin sütunlara göre değerlerinin barchart üzerinde gösterilmeye çalışılmıştır.\n"
   ],
   "metadata": {
    "id": "EFjp2AH2euFY"
   }
  },
  {
   "cell_type": "code",
   "source": [
    "def values(column, columName):\n",
    "  counts = column.value_counts()\n",
    "  plt.figure(figsize=(20,9))\n",
    "  plt.bar(counts.index, counts)\n",
    "  plt.xticks(counts.index, counts.index.values)\n",
    "  plt.ylabel(\"frekans\")\n",
    "  plt.title(columnName)\n",
    "  plt.show()"
   ],
   "metadata": {
    "id": "04PX4Ld6clQ6"
   },
   "execution_count": 204,
   "outputs": []
  },
  {
   "cell_type": "code",
   "source": [
    "for columnName in [\"ESS\"]: # \"BA\", \"BEKY\",\t\"SGE\",\t\"SGY\",\t\"BTE\",\t\"ESS\"\n",
    "  values(dataset[columnName], columnName)"
   ],
   "metadata": {
    "colab": {
     "base_uri": "https://localhost:8080/",
     "height": 553
    },
    "id": "Rd4rXK6ufnNL",
    "outputId": "55d0217c-687d-4f96-bcd2-19b73a5ac95b"
   },
   "execution_count": 205,
   "outputs": [
    {
     "output_type": "display_data",
     "data": {
      "text/plain": [
       "<Figure size 1440x648 with 1 Axes>"
      ],
      "image/png": "[encoded data removed]"
     },
     "metadata": {
      "needs_background": "light"
     }
    }
   ]
  },
  {
   "cell_type": "markdown",
   "source": [
    "## Histogram\n",
    "\n",
    "Sayısal verilerin histogramı gösterilmiştir."
   ],
   "metadata": {
    "id": "-3EBt3szGlqY"
   }
  },
  {
   "cell_type": "code",
   "source": [
    "def histogram(column, columName):\n",
    "  plt.figure(figsize=(12,3))\n",
    "  plt.hist(column.sort_values())\n",
    "  plt.xlabel(columnName)\n",
    "  plt.ylabel(\"frekans\")\n",
    "  plt.title(columnName)\n",
    "  plt.show()"
   ],
   "metadata": {
    "id": "OvqvUbLKf9bk"
   },
   "execution_count": 206,
   "outputs": []
  },
  {
   "cell_type": "code",
   "source": [
    "for columnName in [\"BA\", \"BEKY\",\t\"SGE\",\t\"SGY\",\t\"BTE\",\t\"ESS\"]:\n",
    "  histogram(dataset[columnName], columnName)"
   ],
   "metadata": {
    "colab": {
     "base_uri": "https://localhost:8080/",
     "height": 1000
    },
    "id": "BIaoZqGsi2mv",
    "outputId": "13818e77-37e0-42dc-bc24-cdfc465b54ba"
   },
   "execution_count": 207,
   "outputs": [
    {
     "output_type": "display_data",
     "data": {
      "text/plain": [
       "<Figure size 864x216 with 1 Axes>"
      ],
      "image/png": "[encoded data removed]"
     },
     "metadata": {
      "needs_background": "light"
     }
    },
    {
     "output_type": "display_data",
     "data": {
      "text/plain": [
       "<Figure size 864x216 with 1 Axes>"
      ],
      "image/png": "[encoded data removed]"
     },
     "metadata": {
      "needs_background": "light"
     }
    },
    {
     "output_type": "display_data",
     "data": {
      "text/plain": [
       "<Figure size 864x216 with 1 Axes>"
      ],
      "image/png": "[encoded data removed]"
     },
     "metadata": {
      "needs_background": "light"
     }
    },
    {
     "output_type": "display_data",
     "data": {
      "text/plain": [
       "<Figure size 864x216 with 1 Axes>"
      ],
      "image/png": "[encoded data removed]"
     },
     "metadata": {
      "needs_background": "light"
     }
    },
    {
     "output_type": "display_data",
     "data": {
      "text/plain": [
       "<Figure size 864x216 with 1 Axes>"
      ],
      "image/png": "[encoded data removed]"
     },
     "metadata": {
      "needs_background": "light"
     }
    },
    {
     "output_type": "display_data",
     "data": {
      "text/plain": [
       "<Figure size 864x216 with 1 Axes>"
      ],
      "image/png": "[encoded data removed]"
     },
     "metadata": {
      "needs_background": "light"
     }
    }
   ]
  },
  {
   "cell_type": "markdown",
   "source": [
    "# **ödev2 Veri seti**"
   ],
   "metadata": {
    "id": "hhY_wn7QHczs"
   }
  },
  {
   "cell_type": "code",
   "source": [
    "dataset2 = pd.read_excel('/content/drive/MyDrive/Colab Notebooks/Assignment1/Datasets/ödev2.xlsx', 'Sheet1')"
   ],
   "metadata": {
    "id": "4rZcZKnwHca9"
   },
   "execution_count": 224,
   "outputs": []
  },
  {
   "cell_type": "markdown",
   "source": [
    "## Rename\n",
    "\n",
    "İlk sütun, veri setinde isimlendirilmediği 'id' ismiyle isimlendirilmiştir."
   ],
   "metadata": {
    "id": "G9UCPb5zIvrK"
   }
  },
  {
   "cell_type": "code",
   "source": [
    "dataset2.rename(columns={'Unnamed: 0':'id'}, inplace=True )\n",
    "dataset2.columns"
   ],
   "metadata": {
    "colab": {
     "base_uri": "https://localhost:8080/"
    },
    "id": "ptM-8_BiIvSK",
    "outputId": "1af6ffa3-5730-41c9-b21c-ec04018bb2b2"
   },
   "execution_count": 225,
   "outputs": [
    {
     "output_type": "execute_result",
     "data": {
      "text/plain": [
       "Index(['id', 'country name', 'current population', 'population 2022', 'area',\n",
       "       'land area', 'density', 'growth rate', 'world percentage', 'rank'],\n",
       "      dtype='object')"
      ]
     },
     "metadata": {},
     "execution_count": 225
    }
   ]
  },
  {
   "cell_type": "markdown",
   "source": [
    "## Sample\n",
    "\n",
    "Verilerin rastgele %5'ine erişilmiştir."
   ],
   "metadata": {
    "id": "kTeqD9k0IYK2"
   }
  },
  {
   "cell_type": "code",
   "source": [
    "dataset2.sample(frac=0.05)"
   ],
   "metadata": {
    "colab": {
     "base_uri": "https://localhost:8080/",
     "height": 363
    },
    "id": "N9fHrtvVIE9J",
    "outputId": "7f93cd40-d4fc-4f35-8941-4384bf9753e8"
   },
   "execution_count": 226,
   "outputs": [
    {
     "output_type": "execute_result",
     "data": {
      "text/plain": [
       "        id country name current population population 2022    area land area  \\\n",
       "203  203.0       Tuvalu             11,396          11,312      26        30   \n",
       "14    14.0     Dr Congo        100,880,253      99,010,212    2.3M      2.3M   \n",
       "21    21.0     Tanzania         66,619,107      65,497,748  945.1K    885.8K   \n",
       "75    75.0       Rwanda         13,961,695      13,776,698   26.3K     24.7K   \n",
       "158  158.0     Eswatini          1,206,872       1,201,670   17.4K     17.2K   \n",
       "105  105.0    Nicaragua          7,005,492       6,948,392  130.4K    120.3K   \n",
       "178  178.0   Martinique            366,981         367,507    1.1K      1.1K   \n",
       "173  173.0       Brunei            451,207         449,002    5.8K      5.3K   \n",
       "140  140.0       Gambia          2,744,200       2,705,992   10.7K     10.1K   \n",
       "175  175.0       Belize            408,192         405,272     23K     22.8K   \n",
       "\n",
       "    density growth rate world percentage  rank  \n",
       "203     380       0.74%            0.00%   227  \n",
       "14       45       3.29%            1.28%    15  \n",
       "21       76       2.96%            0.84%    22  \n",
       "75      571       2.31%            0.18%    76  \n",
       "158      70       0.76%            0.02%   159  \n",
       "105      59       1.41%            0.09%   106  \n",
       "178     325      -0.14%            0.00%   180  \n",
       "173      86       0.78%            0.01%   175  \n",
       "140     274       2.48%            0.03%   141  \n",
       "175      18       1.37%            0.01%   177  "
      ],
      "text/html": [
       "\n",
       "  <div id=\"df-a9059825-c1b6-4ded-aa12-611548212230\">\n",
       "    <div class=\"colab-df-container\">\n",
       "      <div>\n",
       "<style scoped>\n",
       "    .dataframe tbody tr th:only-of-type {\n",
       "        vertical-align: middle;\n",
       "    }\n",
       "\n",
       "    .dataframe tbody tr th {\n",
       "        vertical-align: top;\n",
       "    }\n",
       "\n",
       "    .dataframe thead th {\n",
       "        text-align: right;\n",
       "    }\n",
       "</style>\n",
       "<table border=\"1\" class=\"dataframe\">\n",
       "  <thead>\n",
       "    <tr style=\"text-align: right;\">\n",
       "      <th></th>\n",
       "      <th>id</th>\n",
       "      <th>country name</th>\n",
       "      <th>current population</th>\n",
       "      <th>population 2022</th>\n",
       "      <th>area</th>\n",
       "      <th>land area</th>\n",
       "      <th>density</th>\n",
       "      <th>growth rate</th>\n",
       "      <th>world percentage</th>\n",
       "      <th>rank</th>\n",
       "    </tr>\n",
       "  </thead>\n",
       "  <tbody>\n",
       "    <tr>\n",
       "      <th>203</th>\n",
       "      <td>203.0</td>\n",
       "      <td>Tuvalu</td>\n",
       "      <td>11,396</td>\n",
       "      <td>11,312</td>\n",
       "      <td>26</td>\n",
       "      <td>30</td>\n",
       "      <td>380</td>\n",
       "      <td>0.74%</td>\n",
       "      <td>0.00%</td>\n",
       "      <td>227</td>\n",
       "    </tr>\n",
       "    <tr>\n",
       "      <th>14</th>\n",
       "      <td>14.0</td>\n",
       "      <td>Dr Congo</td>\n",
       "      <td>100,880,253</td>\n",
       "      <td>99,010,212</td>\n",
       "      <td>2.3M</td>\n",
       "      <td>2.3M</td>\n",
       "      <td>45</td>\n",
       "      <td>3.29%</td>\n",
       "      <td>1.28%</td>\n",
       "      <td>15</td>\n",
       "    </tr>\n",
       "    <tr>\n",
       "      <th>21</th>\n",
       "      <td>21.0</td>\n",
       "      <td>Tanzania</td>\n",
       "      <td>66,619,107</td>\n",
       "      <td>65,497,748</td>\n",
       "      <td>945.1K</td>\n",
       "      <td>885.8K</td>\n",
       "      <td>76</td>\n",
       "      <td>2.96%</td>\n",
       "      <td>0.84%</td>\n",
       "      <td>22</td>\n",
       "    </tr>\n",
       "    <tr>\n",
       "      <th>75</th>\n",
       "      <td>75.0</td>\n",
       "      <td>Rwanda</td>\n",
       "      <td>13,961,695</td>\n",
       "      <td>13,776,698</td>\n",
       "      <td>26.3K</td>\n",
       "      <td>24.7K</td>\n",
       "      <td>571</td>\n",
       "      <td>2.31%</td>\n",
       "      <td>0.18%</td>\n",
       "      <td>76</td>\n",
       "    </tr>\n",
       "    <tr>\n",
       "      <th>158</th>\n",
       "      <td>158.0</td>\n",
       "      <td>Eswatini</td>\n",
       "      <td>1,206,872</td>\n",
       "      <td>1,201,670</td>\n",
       "      <td>17.4K</td>\n",
       "      <td>17.2K</td>\n",
       "      <td>70</td>\n",
       "      <td>0.76%</td>\n",
       "      <td>0.02%</td>\n",
       "      <td>159</td>\n",
       "    </tr>\n",
       "    <tr>\n",
       "      <th>105</th>\n",
       "      <td>105.0</td>\n",
       "      <td>Nicaragua</td>\n",
       "      <td>7,005,492</td>\n",
       "      <td>6,948,392</td>\n",
       "      <td>130.4K</td>\n",
       "      <td>120.3K</td>\n",
       "      <td>59</td>\n",
       "      <td>1.41%</td>\n",
       "      <td>0.09%</td>\n",
       "      <td>106</td>\n",
       "    </tr>\n",
       "    <tr>\n",
       "      <th>178</th>\n",
       "      <td>178.0</td>\n",
       "      <td>Martinique</td>\n",
       "      <td>366,981</td>\n",
       "      <td>367,507</td>\n",
       "      <td>1.1K</td>\n",
       "      <td>1.1K</td>\n",
       "      <td>325</td>\n",
       "      <td>-0.14%</td>\n",
       "      <td>0.00%</td>\n",
       "      <td>180</td>\n",
       "    </tr>\n",
       "    <tr>\n",
       "      <th>173</th>\n",
       "      <td>173.0</td>\n",
       "      <td>Brunei</td>\n",
       "      <td>451,207</td>\n",
       "      <td>449,002</td>\n",
       "      <td>5.8K</td>\n",
       "      <td>5.3K</td>\n",
       "      <td>86</td>\n",
       "      <td>0.78%</td>\n",
       "      <td>0.01%</td>\n",
       "      <td>175</td>\n",
       "    </tr>\n",
       "    <tr>\n",
       "      <th>140</th>\n",
       "      <td>140.0</td>\n",
       "      <td>Gambia</td>\n",
       "      <td>2,744,200</td>\n",
       "      <td>2,705,992</td>\n",
       "      <td>10.7K</td>\n",
       "      <td>10.1K</td>\n",
       "      <td>274</td>\n",
       "      <td>2.48%</td>\n",
       "      <td>0.03%</td>\n",
       "      <td>141</td>\n",
       "    </tr>\n",
       "    <tr>\n",
       "      <th>175</th>\n",
       "      <td>175.0</td>\n",
       "      <td>Belize</td>\n",
       "      <td>408,192</td>\n",
       "      <td>405,272</td>\n",
       "      <td>23K</td>\n",
       "      <td>22.8K</td>\n",
       "      <td>18</td>\n",
       "      <td>1.37%</td>\n",
       "      <td>0.01%</td>\n",
       "      <td>177</td>\n",
       "    </tr>\n",
       "  </tbody>\n",
       "</table>\n",
       "</div>\n",
       "      <button class=\"colab-df-convert\" onclick=\"convertToInteractive('df-a9059825-c1b6-4ded-aa12-611548212230')\"\n",
       "              title=\"Convert this dataframe to an interactive table.\"\n",
       "              style=\"display:none;\">\n",
       "        \n",
       "  <svg xmlns=\"http://www.w3.org/2000/svg\" height=\"24px\"viewBox=\"0 0 24 24\"\n",
       "       width=\"24px\">\n",
       "    <path d=\"M0 0h24v24H0V0z\" fill=\"none\"/>\n",
       "    <path d=\"M18.56 5.44l.94 2.06.94-2.06 2.06-.94-2.06-.94-.94-2.06-.94 2.06-2.06.94zm-11 1L8.5 8.5l.94-2.06 2.06-.94-2.06-.94L8.5 2.5l-.94 2.06-2.06.94zm10 10l.94 2.06.94-2.06 2.06-.94-2.06-.94-.94-2.06-.94 2.06-2.06.94z\"/><path d=\"M17.41 7.96l-1.37-1.37c-.4-.4-.92-.59-1.43-.59-.52 0-1.04.2-1.43.59L10.3 9.45l-7.72 7.72c-.78.78-.78 2.05 0 2.83L4 21.41c.39.39.9.59 1.41.59.51 0 1.02-.2 1.41-.59l7.78-7.78 2.81-2.81c.8-.78.8-2.07 0-2.86zM5.41 20L4 18.59l7.72-7.72 1.47 1.35L5.41 20z\"/>\n",
       "  </svg>\n",
       "      </button>\n",
       "      \n",
       "  <style>\n",
       "    .colab-df-container {\n",
       "      display:flex;\n",
       "      flex-wrap:wrap;\n",
       "      gap: 12px;\n",
       "    }\n",
       "\n",
       "    .colab-df-convert {\n",
       "      background-color: #E8F0FE;\n",
       "      border: none;\n",
       "      border-radius: 50%;\n",
       "      cursor: pointer;\n",
       "      display: none;\n",
       "      fill: #1967D2;\n",
       "      height: 32px;\n",
       "      padding: 0 0 0 0;\n",
       "      width: 32px;\n",
       "    }\n",
       "\n",
       "    .colab-df-convert:hover {\n",
       "      background-color: #E2EBFA;\n",
       "      box-shadow: 0px 1px 2px rgba(60, 64, 67, 0.3), 0px 1px 3px 1px rgba(60, 64, 67, 0.15);\n",
       "      fill: #174EA6;\n",
       "    }\n",
       "\n",
       "    [theme=dark] .colab-df-convert {\n",
       "      background-color: #3B4455;\n",
       "      fill: #D2E3FC;\n",
       "    }\n",
       "\n",
       "    [theme=dark] .colab-df-convert:hover {\n",
       "      background-color: #434B5C;\n",
       "      box-shadow: 0px 1px 3px 1px rgba(0, 0, 0, 0.15);\n",
       "      filter: drop-shadow(0px 1px 2px rgba(0, 0, 0, 0.3));\n",
       "      fill: #FFFFFF;\n",
       "    }\n",
       "  </style>\n",
       "\n",
       "      <script>\n",
       "        const buttonEl =\n",
       "          document.querySelector('#df-a9059825-c1b6-4ded-aa12-611548212230 button.colab-df-convert');\n",
       "        buttonEl.style.display =\n",
       "          google.colab.kernel.accessAllowed ? 'block' : 'none';\n",
       "\n",
       "        async function convertToInteractive(key) {\n",
       "          const element = document.querySelector('#df-a9059825-c1b6-4ded-aa12-611548212230');\n",
       "          const dataTable =\n",
       "            await google.colab.kernel.invokeFunction('convertToInteractive',\n",
       "                                                     [key], {});\n",
       "          if (!dataTable) return;\n",
       "\n",
       "          const docLinkHtml = 'Like what you see? Visit the ' +\n",
       "            '<a target=\"_blank\" href=https://colab.research.google.com/notebooks/data_table.ipynb>data table notebook</a>'\n",
       "            + ' to learn more about interactive tables.';\n",
       "          element.innerHTML = '';\n",
       "          dataTable['output_type'] = 'display_data';\n",
       "          await google.colab.output.renderOutput(dataTable, element);\n",
       "          const docLink = document.createElement('div');\n",
       "          docLink.innerHTML = docLinkHtml;\n",
       "          element.appendChild(docLink);\n",
       "        }\n",
       "      </script>\n",
       "    </div>\n",
       "  </div>\n",
       "  "
      ]
     },
     "metadata": {},
     "execution_count": 226
    }
   ]
  },
  {
   "cell_type": "markdown",
   "source": [
    "## Verilerin Düzenlenmesi\n",
    "\n",
    "Bu veri setinde bazı sütunların sayısal gibi göründüğü halde string tipinde olduğu farkedilmiştir bunun için dönüşüm yapılmıştır."
   ],
   "metadata": {
    "id": "sugOUg9UN4dy"
   }
  },
  {
   "cell_type": "code",
   "source": [
    "def fixPop(value):\n",
    "  return int(str(value).replace(\",\", \"\"))\n",
    "\n",
    "def fixFloat(value):\n",
    "  return float(str(value).replace(\",\", \"\"))\n",
    "\n",
    "def fixArea(value):\n",
    "  value = str(value).replace(\",\", \"\").replace(\"<\", \"\").strip()\n",
    "  if \"K\" in value:\n",
    "    value = str(value).replace(\"K\", \"\") + \"000\"\n",
    "  elif \"M\" in value:\n",
    "    value = str(value).replace(\"M\", \"\") + \"000000\"\n",
    "\n",
    "  return float(value)\n",
    "\n",
    "def fixPer(value):\n",
    "  return float(str(value).replace(\"%\", \"\"))"
   ],
   "metadata": {
    "id": "NF-H6aXEQwYc"
   },
   "execution_count": 227,
   "outputs": []
  },
  {
   "cell_type": "code",
   "source": [
    "dataset2['current population'] = dataset2['current population'].apply(fixPop)\n",
    "dataset2['population 2022'] = dataset2['population 2022'].apply(fixPop)\n",
    "dataset2['area'] = dataset2['area'].apply(fixArea)\n",
    "dataset2['land area'] = dataset2['land area'].apply(fixArea)\n",
    "dataset2['density'] = dataset2['density'].apply(fixFloat)\n",
    "dataset2['rank'] = dataset2['rank'].apply(fixFloat)\n",
    "dataset2['growth rate'] = dataset2['growth rate'].apply(fixPer)\n",
    "dataset2['world percentage'] = dataset2['world percentage'].apply(fixPer)\n",
    "dataset2.sample(frac=0.05)"
   ],
   "metadata": {
    "colab": {
     "base_uri": "https://localhost:8080/",
     "height": 363
    },
    "id": "J-0ytAcLOHEE",
    "outputId": "372ba2d5-edd9-4805-f0f0-ad14e545ae2a"
   },
   "execution_count": 228,
   "outputs": [
    {
     "output_type": "execute_result",
     "data": {
      "text/plain": [
       "        id   country name  current population  population 2022   area  \\\n",
       "174  174.0        Bahamas              411306           409984   13.9   \n",
       "117  117.0        Finland             5544158          5540745  338.4   \n",
       "146  146.0        Lesotho             2319784          2305825   30.4   \n",
       "86    86.0         Sweden            10585752         10549347  450.3   \n",
       "202  202.0          Nauru               12780            12668   21.0   \n",
       "109  109.0       Bulgaria             6723268          6781953  110.9   \n",
       "69    69.0      Guatemala            17986689         17843908  108.9   \n",
       "180  180.0        Vanuatu              331873           326740   12.2   \n",
       "198  198.0  Liechtenstein               39584            39327  160.0   \n",
       "61    61.0         Malawi            20709226         20405317  118.5   \n",
       "\n",
       "     land area  density  growth rate  world percentage   rank  \n",
       "174    10000.0     41.0         0.64              0.01  176.0  \n",
       "117      303.9     18.0         0.09              0.07  118.0  \n",
       "146       30.4     77.0         1.06              0.03  147.0  \n",
       "86       407.3     26.0         0.59              0.13   87.0  \n",
       "202       20.0    639.0         0.88              0.00  225.0  \n",
       "109      108.6     62.0        -1.39              0.08  110.0  \n",
       "69       107.2    169.0         1.39              0.23   70.0  \n",
       "180       12.2     27.0         2.38              0.00  182.0  \n",
       "198      160.0    247.0         0.65              0.00  216.0  \n",
       "61        94.3    222.0         2.58              0.26   62.0  "
      ],
      "text/html": [
       "\n",
       "  <div id=\"df-46641609-cdc6-4d93-afcc-af2a41f6c4b6\">\n",
       "    <div class=\"colab-df-container\">\n",
       "      <div>\n",
       "<style scoped>\n",
       "    .dataframe tbody tr th:only-of-type {\n",
       "        vertical-align: middle;\n",
       "    }\n",
       "\n",
       "    .dataframe tbody tr th {\n",
       "        vertical-align: top;\n",
       "    }\n",
       "\n",
       "    .dataframe thead th {\n",
       "        text-align: right;\n",
       "    }\n",
       "</style>\n",
       "<table border=\"1\" class=\"dataframe\">\n",
       "  <thead>\n",
       "    <tr style=\"text-align: right;\">\n",
       "      <th></th>\n",
       "      <th>id</th>\n",
       "      <th>country name</th>\n",
       "      <th>current population</th>\n",
       "      <th>population 2022</th>\n",
       "      <th>area</th>\n",
       "      <th>land area</th>\n",
       "      <th>density</th>\n",
       "      <th>growth rate</th>\n",
       "      <th>world percentage</th>\n",
       "      <th>rank</th>\n",
       "    </tr>\n",
       "  </thead>\n",
       "  <tbody>\n",
       "    <tr>\n",
       "      <th>174</th>\n",
       "      <td>174.0</td>\n",
       "      <td>Bahamas</td>\n",
       "      <td>411306</td>\n",
       "      <td>409984</td>\n",
       "      <td>13.9</td>\n",
       "      <td>10000.0</td>\n",
       "      <td>41.0</td>\n",
       "      <td>0.64</td>\n",
       "      <td>0.01</td>\n",
       "      <td>176.0</td>\n",
       "    </tr>\n",
       "    <tr>\n",
       "      <th>117</th>\n",
       "      <td>117.0</td>\n",
       "      <td>Finland</td>\n",
       "      <td>5544158</td>\n",
       "      <td>5540745</td>\n",
       "      <td>338.4</td>\n",
       "      <td>303.9</td>\n",
       "      <td>18.0</td>\n",
       "      <td>0.09</td>\n",
       "      <td>0.07</td>\n",
       "      <td>118.0</td>\n",
       "    </tr>\n",
       "    <tr>\n",
       "      <th>146</th>\n",
       "      <td>146.0</td>\n",
       "      <td>Lesotho</td>\n",
       "      <td>2319784</td>\n",
       "      <td>2305825</td>\n",
       "      <td>30.4</td>\n",
       "      <td>30.4</td>\n",
       "      <td>77.0</td>\n",
       "      <td>1.06</td>\n",
       "      <td>0.03</td>\n",
       "      <td>147.0</td>\n",
       "    </tr>\n",
       "    <tr>\n",
       "      <th>86</th>\n",
       "      <td>86.0</td>\n",
       "      <td>Sweden</td>\n",
       "      <td>10585752</td>\n",
       "      <td>10549347</td>\n",
       "      <td>450.3</td>\n",
       "      <td>407.3</td>\n",
       "      <td>26.0</td>\n",
       "      <td>0.59</td>\n",
       "      <td>0.13</td>\n",
       "      <td>87.0</td>\n",
       "    </tr>\n",
       "    <tr>\n",
       "      <th>202</th>\n",
       "      <td>202.0</td>\n",
       "      <td>Nauru</td>\n",
       "      <td>12780</td>\n",
       "      <td>12668</td>\n",
       "      <td>21.0</td>\n",
       "      <td>20.0</td>\n",
       "      <td>639.0</td>\n",
       "      <td>0.88</td>\n",
       "      <td>0.00</td>\n",
       "      <td>225.0</td>\n",
       "    </tr>\n",
       "    <tr>\n",
       "      <th>109</th>\n",
       "      <td>109.0</td>\n",
       "      <td>Bulgaria</td>\n",
       "      <td>6723268</td>\n",
       "      <td>6781953</td>\n",
       "      <td>110.9</td>\n",
       "      <td>108.6</td>\n",
       "      <td>62.0</td>\n",
       "      <td>-1.39</td>\n",
       "      <td>0.08</td>\n",
       "      <td>110.0</td>\n",
       "    </tr>\n",
       "    <tr>\n",
       "      <th>69</th>\n",
       "      <td>69.0</td>\n",
       "      <td>Guatemala</td>\n",
       "      <td>17986689</td>\n",
       "      <td>17843908</td>\n",
       "      <td>108.9</td>\n",
       "      <td>107.2</td>\n",
       "      <td>169.0</td>\n",
       "      <td>1.39</td>\n",
       "      <td>0.23</td>\n",
       "      <td>70.0</td>\n",
       "    </tr>\n",
       "    <tr>\n",
       "      <th>180</th>\n",
       "      <td>180.0</td>\n",
       "      <td>Vanuatu</td>\n",
       "      <td>331873</td>\n",
       "      <td>326740</td>\n",
       "      <td>12.2</td>\n",
       "      <td>12.2</td>\n",
       "      <td>27.0</td>\n",
       "      <td>2.38</td>\n",
       "      <td>0.00</td>\n",
       "      <td>182.0</td>\n",
       "    </tr>\n",
       "    <tr>\n",
       "      <th>198</th>\n",
       "      <td>198.0</td>\n",
       "      <td>Liechtenstein</td>\n",
       "      <td>39584</td>\n",
       "      <td>39327</td>\n",
       "      <td>160.0</td>\n",
       "      <td>160.0</td>\n",
       "      <td>247.0</td>\n",
       "      <td>0.65</td>\n",
       "      <td>0.00</td>\n",
       "      <td>216.0</td>\n",
       "    </tr>\n",
       "    <tr>\n",
       "      <th>61</th>\n",
       "      <td>61.0</td>\n",
       "      <td>Malawi</td>\n",
       "      <td>20709226</td>\n",
       "      <td>20405317</td>\n",
       "      <td>118.5</td>\n",
       "      <td>94.3</td>\n",
       "      <td>222.0</td>\n",
       "      <td>2.58</td>\n",
       "      <td>0.26</td>\n",
       "      <td>62.0</td>\n",
       "    </tr>\n",
       "  </tbody>\n",
       "</table>\n",
       "</div>\n",
       "      <button class=\"colab-df-convert\" onclick=\"convertToInteractive('df-46641609-cdc6-4d93-afcc-af2a41f6c4b6')\"\n",
       "              title=\"Convert this dataframe to an interactive table.\"\n",
       "              style=\"display:none;\">\n",
       "        \n",
       "  <svg xmlns=\"http://www.w3.org/2000/svg\" height=\"24px\"viewBox=\"0 0 24 24\"\n",
       "       width=\"24px\">\n",
       "    <path d=\"M0 0h24v24H0V0z\" fill=\"none\"/>\n",
       "    <path d=\"M18.56 5.44l.94 2.06.94-2.06 2.06-.94-2.06-.94-.94-2.06-.94 2.06-2.06.94zm-11 1L8.5 8.5l.94-2.06 2.06-.94-2.06-.94L8.5 2.5l-.94 2.06-2.06.94zm10 10l.94 2.06.94-2.06 2.06-.94-2.06-.94-.94-2.06-.94 2.06-2.06.94z\"/><path d=\"M17.41 7.96l-1.37-1.37c-.4-.4-.92-.59-1.43-.59-.52 0-1.04.2-1.43.59L10.3 9.45l-7.72 7.72c-.78.78-.78 2.05 0 2.83L4 21.41c.39.39.9.59 1.41.59.51 0 1.02-.2 1.41-.59l7.78-7.78 2.81-2.81c.8-.78.8-2.07 0-2.86zM5.41 20L4 18.59l7.72-7.72 1.47 1.35L5.41 20z\"/>\n",
       "  </svg>\n",
       "      </button>\n",
       "      \n",
       "  <style>\n",
       "    .colab-df-container {\n",
       "      display:flex;\n",
       "      flex-wrap:wrap;\n",
       "      gap: 12px;\n",
       "    }\n",
       "\n",
       "    .colab-df-convert {\n",
       "      background-color: #E8F0FE;\n",
       "      border: none;\n",
       "      border-radius: 50%;\n",
       "      cursor: pointer;\n",
       "      display: none;\n",
       "      fill: #1967D2;\n",
       "      height: 32px;\n",
       "      padding: 0 0 0 0;\n",
       "      width: 32px;\n",
       "    }\n",
       "\n",
       "    .colab-df-convert:hover {\n",
       "      background-color: #E2EBFA;\n",
       "      box-shadow: 0px 1px 2px rgba(60, 64, 67, 0.3), 0px 1px 3px 1px rgba(60, 64, 67, 0.15);\n",
       "      fill: #174EA6;\n",
       "    }\n",
       "\n",
       "    [theme=dark] .colab-df-convert {\n",
       "      background-color: #3B4455;\n",
       "      fill: #D2E3FC;\n",
       "    }\n",
       "\n",
       "    [theme=dark] .colab-df-convert:hover {\n",
       "      background-color: #434B5C;\n",
       "      box-shadow: 0px 1px 3px 1px rgba(0, 0, 0, 0.15);\n",
       "      filter: drop-shadow(0px 1px 2px rgba(0, 0, 0, 0.3));\n",
       "      fill: #FFFFFF;\n",
       "    }\n",
       "  </style>\n",
       "\n",
       "      <script>\n",
       "        const buttonEl =\n",
       "          document.querySelector('#df-46641609-cdc6-4d93-afcc-af2a41f6c4b6 button.colab-df-convert');\n",
       "        buttonEl.style.display =\n",
       "          google.colab.kernel.accessAllowed ? 'block' : 'none';\n",
       "\n",
       "        async function convertToInteractive(key) {\n",
       "          const element = document.querySelector('#df-46641609-cdc6-4d93-afcc-af2a41f6c4b6');\n",
       "          const dataTable =\n",
       "            await google.colab.kernel.invokeFunction('convertToInteractive',\n",
       "                                                     [key], {});\n",
       "          if (!dataTable) return;\n",
       "\n",
       "          const docLinkHtml = 'Like what you see? Visit the ' +\n",
       "            '<a target=\"_blank\" href=https://colab.research.google.com/notebooks/data_table.ipynb>data table notebook</a>'\n",
       "            + ' to learn more about interactive tables.';\n",
       "          element.innerHTML = '';\n",
       "          dataTable['output_type'] = 'display_data';\n",
       "          await google.colab.output.renderOutput(dataTable, element);\n",
       "          const docLink = document.createElement('div');\n",
       "          docLink.innerHTML = docLinkHtml;\n",
       "          element.appendChild(docLink);\n",
       "        }\n",
       "      </script>\n",
       "    </div>\n",
       "  </div>\n",
       "  "
      ]
     },
     "metadata": {},
     "execution_count": 228
    }
   ]
  },
  {
   "cell_type": "markdown",
   "source": [
    "## Sütunlara erişmek\n",
    "\n",
    "'country name' ile 'population 2022' arasındaki sütunların verilerinin %5'i  gösterilmiştir."
   ],
   "metadata": {
    "id": "9grz_uduHwf2"
   }
  },
  {
   "cell_type": "code",
   "source": [
    "dataset2.loc[:,'country name':'population 2022'].sample(frac=0.05)"
   ],
   "metadata": {
    "colab": {
     "base_uri": "https://localhost:8080/",
     "height": 363
    },
    "id": "eVMuV8OfHwJs",
    "outputId": "7619ef88-121c-442f-ee05-05f6daa2e26f"
   },
   "execution_count": 229,
   "outputs": [
    {
     "output_type": "execute_result",
     "data": {
      "text/plain": [
       "    country name  current population  population 2022\n",
       "4       Pakistan           238517163        235824862\n",
       "159     Djibouti             1129871          1120849\n",
       "59         Syria            22754313         22125249\n",
       "132     Mongolia             3427406          3398366\n",
       "75        Rwanda            13961695         13776698\n",
       "180      Vanuatu              331873           326740\n",
       "50   Ivory Coast            28570189         28160542\n",
       "202        Nauru               12780            12668\n",
       "74        Guinea            14051040         13859341\n",
       "48         Nepal            30751751         30547580"
      ],
      "text/html": [
       "\n",
       "  <div id=\"df-225f8cac-aece-426b-8616-3f15d0534ea4\">\n",
       "    <div class=\"colab-df-container\">\n",
       "      <div>\n",
       "<style scoped>\n",
       "    .dataframe tbody tr th:only-of-type {\n",
       "        vertical-align: middle;\n",
       "    }\n",
       "\n",
       "    .dataframe tbody tr th {\n",
       "        vertical-align: top;\n",
       "    }\n",
       "\n",
       "    .dataframe thead th {\n",
       "        text-align: right;\n",
       "    }\n",
       "</style>\n",
       "<table border=\"1\" class=\"dataframe\">\n",
       "  <thead>\n",
       "    <tr style=\"text-align: right;\">\n",
       "      <th></th>\n",
       "      <th>country name</th>\n",
       "      <th>current population</th>\n",
       "      <th>population 2022</th>\n",
       "    </tr>\n",
       "  </thead>\n",
       "  <tbody>\n",
       "    <tr>\n",
       "      <th>4</th>\n",
       "      <td>Pakistan</td>\n",
       "      <td>238517163</td>\n",
       "      <td>235824862</td>\n",
       "    </tr>\n",
       "    <tr>\n",
       "      <th>159</th>\n",
       "      <td>Djibouti</td>\n",
       "      <td>1129871</td>\n",
       "      <td>1120849</td>\n",
       "    </tr>\n",
       "    <tr>\n",
       "      <th>59</th>\n",
       "      <td>Syria</td>\n",
       "      <td>22754313</td>\n",
       "      <td>22125249</td>\n",
       "    </tr>\n",
       "    <tr>\n",
       "      <th>132</th>\n",
       "      <td>Mongolia</td>\n",
       "      <td>3427406</td>\n",
       "      <td>3398366</td>\n",
       "    </tr>\n",
       "    <tr>\n",
       "      <th>75</th>\n",
       "      <td>Rwanda</td>\n",
       "      <td>13961695</td>\n",
       "      <td>13776698</td>\n",
       "    </tr>\n",
       "    <tr>\n",
       "      <th>180</th>\n",
       "      <td>Vanuatu</td>\n",
       "      <td>331873</td>\n",
       "      <td>326740</td>\n",
       "    </tr>\n",
       "    <tr>\n",
       "      <th>50</th>\n",
       "      <td>Ivory Coast</td>\n",
       "      <td>28570189</td>\n",
       "      <td>28160542</td>\n",
       "    </tr>\n",
       "    <tr>\n",
       "      <th>202</th>\n",
       "      <td>Nauru</td>\n",
       "      <td>12780</td>\n",
       "      <td>12668</td>\n",
       "    </tr>\n",
       "    <tr>\n",
       "      <th>74</th>\n",
       "      <td>Guinea</td>\n",
       "      <td>14051040</td>\n",
       "      <td>13859341</td>\n",
       "    </tr>\n",
       "    <tr>\n",
       "      <th>48</th>\n",
       "      <td>Nepal</td>\n",
       "      <td>30751751</td>\n",
       "      <td>30547580</td>\n",
       "    </tr>\n",
       "  </tbody>\n",
       "</table>\n",
       "</div>\n",
       "      <button class=\"colab-df-convert\" onclick=\"convertToInteractive('df-225f8cac-aece-426b-8616-3f15d0534ea4')\"\n",
       "              title=\"Convert this dataframe to an interactive table.\"\n",
       "              style=\"display:none;\">\n",
       "        \n",
       "  <svg xmlns=\"http://www.w3.org/2000/svg\" height=\"24px\"viewBox=\"0 0 24 24\"\n",
       "       width=\"24px\">\n",
       "    <path d=\"M0 0h24v24H0V0z\" fill=\"none\"/>\n",
       "    <path d=\"M18.56 5.44l.94 2.06.94-2.06 2.06-.94-2.06-.94-.94-2.06-.94 2.06-2.06.94zm-11 1L8.5 8.5l.94-2.06 2.06-.94-2.06-.94L8.5 2.5l-.94 2.06-2.06.94zm10 10l.94 2.06.94-2.06 2.06-.94-2.06-.94-.94-2.06-.94 2.06-2.06.94z\"/><path d=\"M17.41 7.96l-1.37-1.37c-.4-.4-.92-.59-1.43-.59-.52 0-1.04.2-1.43.59L10.3 9.45l-7.72 7.72c-.78.78-.78 2.05 0 2.83L4 21.41c.39.39.9.59 1.41.59.51 0 1.02-.2 1.41-.59l7.78-7.78 2.81-2.81c.8-.78.8-2.07 0-2.86zM5.41 20L4 18.59l7.72-7.72 1.47 1.35L5.41 20z\"/>\n",
       "  </svg>\n",
       "      </button>\n",
       "      \n",
       "  <style>\n",
       "    .colab-df-container {\n",
       "      display:flex;\n",
       "      flex-wrap:wrap;\n",
       "      gap: 12px;\n",
       "    }\n",
       "\n",
       "    .colab-df-convert {\n",
       "      background-color: #E8F0FE;\n",
       "      border: none;\n",
       "      border-radius: 50%;\n",
       "      cursor: pointer;\n",
       "      display: none;\n",
       "      fill: #1967D2;\n",
       "      height: 32px;\n",
       "      padding: 0 0 0 0;\n",
       "      width: 32px;\n",
       "    }\n",
       "\n",
       "    .colab-df-convert:hover {\n",
       "      background-color: #E2EBFA;\n",
       "      box-shadow: 0px 1px 2px rgba(60, 64, 67, 0.3), 0px 1px 3px 1px rgba(60, 64, 67, 0.15);\n",
       "      fill: #174EA6;\n",
       "    }\n",
       "\n",
       "    [theme=dark] .colab-df-convert {\n",
       "      background-color: #3B4455;\n",
       "      fill: #D2E3FC;\n",
       "    }\n",
       "\n",
       "    [theme=dark] .colab-df-convert:hover {\n",
       "      background-color: #434B5C;\n",
       "      box-shadow: 0px 1px 3px 1px rgba(0, 0, 0, 0.15);\n",
       "      filter: drop-shadow(0px 1px 2px rgba(0, 0, 0, 0.3));\n",
       "      fill: #FFFFFF;\n",
       "    }\n",
       "  </style>\n",
       "\n",
       "      <script>\n",
       "        const buttonEl =\n",
       "          document.querySelector('#df-225f8cac-aece-426b-8616-3f15d0534ea4 button.colab-df-convert');\n",
       "        buttonEl.style.display =\n",
       "          google.colab.kernel.accessAllowed ? 'block' : 'none';\n",
       "\n",
       "        async function convertToInteractive(key) {\n",
       "          const element = document.querySelector('#df-225f8cac-aece-426b-8616-3f15d0534ea4');\n",
       "          const dataTable =\n",
       "            await google.colab.kernel.invokeFunction('convertToInteractive',\n",
       "                                                     [key], {});\n",
       "          if (!dataTable) return;\n",
       "\n",
       "          const docLinkHtml = 'Like what you see? Visit the ' +\n",
       "            '<a target=\"_blank\" href=https://colab.research.google.com/notebooks/data_table.ipynb>data table notebook</a>'\n",
       "            + ' to learn more about interactive tables.';\n",
       "          element.innerHTML = '';\n",
       "          dataTable['output_type'] = 'display_data';\n",
       "          await google.colab.output.renderOutput(dataTable, element);\n",
       "          const docLink = document.createElement('div');\n",
       "          docLink.innerHTML = docLinkHtml;\n",
       "          element.appendChild(docLink);\n",
       "        }\n",
       "      </script>\n",
       "    </div>\n",
       "  </div>\n",
       "  "
      ]
     },
     "metadata": {},
     "execution_count": 229
    }
   ]
  },
  {
   "cell_type": "markdown",
   "source": [
    "## Info\n",
    "\n",
    "Verilerin sütunlara göre kaç adet non-null veri içerdiği ve veri tipinin gösterimi yapılmıştır."
   ],
   "metadata": {
    "id": "IXojX1QpLQ9z"
   }
  },
  {
   "cell_type": "code",
   "source": [
    "dataset2.info()"
   ],
   "metadata": {
    "colab": {
     "base_uri": "https://localhost:8080/"
    },
    "id": "4MFPV-gJLPwc",
    "outputId": "b5ebd48d-dcf8-4c34-c137-b3fae50ebab7"
   },
   "execution_count": 230,
   "outputs": [
    {
     "output_type": "stream",
     "name": "stdout",
     "text": [
      "<class 'pandas.core.frame.DataFrame'>\n",
      "RangeIndex: 205 entries, 0 to 204\n",
      "Data columns (total 10 columns):\n",
      " #   Column              Non-Null Count  Dtype  \n",
      "---  ------              --------------  -----  \n",
      " 0   id                  205 non-null    float64\n",
      " 1   country name        205 non-null    object \n",
      " 2   current population  205 non-null    int64  \n",
      " 3   population 2022     205 non-null    int64  \n",
      " 4   area                205 non-null    float64\n",
      " 5   land area           205 non-null    float64\n",
      " 6   density             205 non-null    float64\n",
      " 7   growth rate         205 non-null    float64\n",
      " 8   world percentage    204 non-null    float64\n",
      " 9   rank                205 non-null    float64\n",
      "dtypes: float64(7), int64(2), object(1)\n",
      "memory usage: 16.1+ KB\n"
     ]
    }
   ]
  },
  {
   "cell_type": "markdown",
   "source": [
    "## Describe\n",
    "\n",
    "Veri setinin istatiksel bilgilerinin gösterilmiştir (count mean std vb)"
   ],
   "metadata": {
    "id": "hUwhOfv1LR0T"
   }
  },
  {
   "cell_type": "code",
   "source": [
    "dataset2.describe()"
   ],
   "metadata": {
    "colab": {
     "base_uri": "https://localhost:8080/",
     "height": 300
    },
    "id": "-_mW4tovLS5I",
    "outputId": "616e5c50-9c57-48ec-b9e4-4c4d40e469dc"
   },
   "execution_count": 231,
   "outputs": [
    {
     "output_type": "execute_result",
     "data": {
      "text/plain": [
       "           id  current population  population 2022      area  land area  \\\n",
       "count  205.00            2.05e+02         2.05e+02  2.05e+02   2.05e+02   \n",
       "mean   102.00            3.91e+07         3.89e+07  9.25e+04   8.57e+04   \n",
       "std     59.32            1.46e+08         1.46e+08  7.22e+05   6.72e+05   \n",
       "min      0.00            5.18e+02         5.10e+02  1.00e+00   1.00e+00   \n",
       "25%     51.00            1.48e+06         1.47e+06  2.08e+01   2.16e+01   \n",
       "50%    102.00            7.59e+06         7.53e+06  1.18e+02   1.29e+02   \n",
       "75%    153.00            2.86e+07         2.82e+07  4.75e+02   4.70e+02   \n",
       "max    204.00            1.43e+09         1.43e+09  1.00e+07   9.00e+06   \n",
       "\n",
       "        density  growth rate  world percentage    rank  \n",
       "count    205.00       205.00            204.00  205.00  \n",
       "mean     344.06         1.06              0.49  104.35  \n",
       "std     1482.72         1.28              1.83   61.59  \n",
       "min        0.14        -7.45              0.00    1.00  \n",
       "25%       35.00         0.31              0.02   52.00  \n",
       "50%       95.00         0.89              0.11  103.00  \n",
       "75%      235.00         1.92              0.36  154.00  \n",
       "max    18149.00         4.98             17.85  234.00  "
      ],
      "text/html": [
       "\n",
       "  <div id=\"df-a3f9a827-68ce-426c-a850-b501f6eb69d8\">\n",
       "    <div class=\"colab-df-container\">\n",
       "      <div>\n",
       "<style scoped>\n",
       "    .dataframe tbody tr th:only-of-type {\n",
       "        vertical-align: middle;\n",
       "    }\n",
       "\n",
       "    .dataframe tbody tr th {\n",
       "        vertical-align: top;\n",
       "    }\n",
       "\n",
       "    .dataframe thead th {\n",
       "        text-align: right;\n",
       "    }\n",
       "</style>\n",
       "<table border=\"1\" class=\"dataframe\">\n",
       "  <thead>\n",
       "    <tr style=\"text-align: right;\">\n",
       "      <th></th>\n",
       "      <th>id</th>\n",
       "      <th>current population</th>\n",
       "      <th>population 2022</th>\n",
       "      <th>area</th>\n",
       "      <th>land area</th>\n",
       "      <th>density</th>\n",
       "      <th>growth rate</th>\n",
       "      <th>world percentage</th>\n",
       "      <th>rank</th>\n",
       "    </tr>\n",
       "  </thead>\n",
       "  <tbody>\n",
       "    <tr>\n",
       "      <th>count</th>\n",
       "      <td>205.00</td>\n",
       "      <td>2.05e+02</td>\n",
       "      <td>2.05e+02</td>\n",
       "      <td>2.05e+02</td>\n",
       "      <td>2.05e+02</td>\n",
       "      <td>205.00</td>\n",
       "      <td>205.00</td>\n",
       "      <td>204.00</td>\n",
       "      <td>205.00</td>\n",
       "    </tr>\n",
       "    <tr>\n",
       "      <th>mean</th>\n",
       "      <td>102.00</td>\n",
       "      <td>3.91e+07</td>\n",
       "      <td>3.89e+07</td>\n",
       "      <td>9.25e+04</td>\n",
       "      <td>8.57e+04</td>\n",
       "      <td>344.06</td>\n",
       "      <td>1.06</td>\n",
       "      <td>0.49</td>\n",
       "      <td>104.35</td>\n",
       "    </tr>\n",
       "    <tr>\n",
       "      <th>std</th>\n",
       "      <td>59.32</td>\n",
       "      <td>1.46e+08</td>\n",
       "      <td>1.46e+08</td>\n",
       "      <td>7.22e+05</td>\n",
       "      <td>6.72e+05</td>\n",
       "      <td>1482.72</td>\n",
       "      <td>1.28</td>\n",
       "      <td>1.83</td>\n",
       "      <td>61.59</td>\n",
       "    </tr>\n",
       "    <tr>\n",
       "      <th>min</th>\n",
       "      <td>0.00</td>\n",
       "      <td>5.18e+02</td>\n",
       "      <td>5.10e+02</td>\n",
       "      <td>1.00e+00</td>\n",
       "      <td>1.00e+00</td>\n",
       "      <td>0.14</td>\n",
       "      <td>-7.45</td>\n",
       "      <td>0.00</td>\n",
       "      <td>1.00</td>\n",
       "    </tr>\n",
       "    <tr>\n",
       "      <th>25%</th>\n",
       "      <td>51.00</td>\n",
       "      <td>1.48e+06</td>\n",
       "      <td>1.47e+06</td>\n",
       "      <td>2.08e+01</td>\n",
       "      <td>2.16e+01</td>\n",
       "      <td>35.00</td>\n",
       "      <td>0.31</td>\n",
       "      <td>0.02</td>\n",
       "      <td>52.00</td>\n",
       "    </tr>\n",
       "    <tr>\n",
       "      <th>50%</th>\n",
       "      <td>102.00</td>\n",
       "      <td>7.59e+06</td>\n",
       "      <td>7.53e+06</td>\n",
       "      <td>1.18e+02</td>\n",
       "      <td>1.29e+02</td>\n",
       "      <td>95.00</td>\n",
       "      <td>0.89</td>\n",
       "      <td>0.11</td>\n",
       "      <td>103.00</td>\n",
       "    </tr>\n",
       "    <tr>\n",
       "      <th>75%</th>\n",
       "      <td>153.00</td>\n",
       "      <td>2.86e+07</td>\n",
       "      <td>2.82e+07</td>\n",
       "      <td>4.75e+02</td>\n",
       "      <td>4.70e+02</td>\n",
       "      <td>235.00</td>\n",
       "      <td>1.92</td>\n",
       "      <td>0.36</td>\n",
       "      <td>154.00</td>\n",
       "    </tr>\n",
       "    <tr>\n",
       "      <th>max</th>\n",
       "      <td>204.00</td>\n",
       "      <td>1.43e+09</td>\n",
       "      <td>1.43e+09</td>\n",
       "      <td>1.00e+07</td>\n",
       "      <td>9.00e+06</td>\n",
       "      <td>18149.00</td>\n",
       "      <td>4.98</td>\n",
       "      <td>17.85</td>\n",
       "      <td>234.00</td>\n",
       "    </tr>\n",
       "  </tbody>\n",
       "</table>\n",
       "</div>\n",
       "      <button class=\"colab-df-convert\" onclick=\"convertToInteractive('df-a3f9a827-68ce-426c-a850-b501f6eb69d8')\"\n",
       "              title=\"Convert this dataframe to an interactive table.\"\n",
       "              style=\"display:none;\">\n",
       "        \n",
       "  <svg xmlns=\"http://www.w3.org/2000/svg\" height=\"24px\"viewBox=\"0 0 24 24\"\n",
       "       width=\"24px\">\n",
       "    <path d=\"M0 0h24v24H0V0z\" fill=\"none\"/>\n",
       "    <path d=\"M18.56 5.44l.94 2.06.94-2.06 2.06-.94-2.06-.94-.94-2.06-.94 2.06-2.06.94zm-11 1L8.5 8.5l.94-2.06 2.06-.94-2.06-.94L8.5 2.5l-.94 2.06-2.06.94zm10 10l.94 2.06.94-2.06 2.06-.94-2.06-.94-.94-2.06-.94 2.06-2.06.94z\"/><path d=\"M17.41 7.96l-1.37-1.37c-.4-.4-.92-.59-1.43-.59-.52 0-1.04.2-1.43.59L10.3 9.45l-7.72 7.72c-.78.78-.78 2.05 0 2.83L4 21.41c.39.39.9.59 1.41.59.51 0 1.02-.2 1.41-.59l7.78-7.78 2.81-2.81c.8-.78.8-2.07 0-2.86zM5.41 20L4 18.59l7.72-7.72 1.47 1.35L5.41 20z\"/>\n",
       "  </svg>\n",
       "      </button>\n",
       "      \n",
       "  <style>\n",
       "    .colab-df-container {\n",
       "      display:flex;\n",
       "      flex-wrap:wrap;\n",
       "      gap: 12px;\n",
       "    }\n",
       "\n",
       "    .colab-df-convert {\n",
       "      background-color: #E8F0FE;\n",
       "      border: none;\n",
       "      border-radius: 50%;\n",
       "      cursor: pointer;\n",
       "      display: none;\n",
       "      fill: #1967D2;\n",
       "      height: 32px;\n",
       "      padding: 0 0 0 0;\n",
       "      width: 32px;\n",
       "    }\n",
       "\n",
       "    .colab-df-convert:hover {\n",
       "      background-color: #E2EBFA;\n",
       "      box-shadow: 0px 1px 2px rgba(60, 64, 67, 0.3), 0px 1px 3px 1px rgba(60, 64, 67, 0.15);\n",
       "      fill: #174EA6;\n",
       "    }\n",
       "\n",
       "    [theme=dark] .colab-df-convert {\n",
       "      background-color: #3B4455;\n",
       "      fill: #D2E3FC;\n",
       "    }\n",
       "\n",
       "    [theme=dark] .colab-df-convert:hover {\n",
       "      background-color: #434B5C;\n",
       "      box-shadow: 0px 1px 3px 1px rgba(0, 0, 0, 0.15);\n",
       "      filter: drop-shadow(0px 1px 2px rgba(0, 0, 0, 0.3));\n",
       "      fill: #FFFFFF;\n",
       "    }\n",
       "  </style>\n",
       "\n",
       "      <script>\n",
       "        const buttonEl =\n",
       "          document.querySelector('#df-a3f9a827-68ce-426c-a850-b501f6eb69d8 button.colab-df-convert');\n",
       "        buttonEl.style.display =\n",
       "          google.colab.kernel.accessAllowed ? 'block' : 'none';\n",
       "\n",
       "        async function convertToInteractive(key) {\n",
       "          const element = document.querySelector('#df-a3f9a827-68ce-426c-a850-b501f6eb69d8');\n",
       "          const dataTable =\n",
       "            await google.colab.kernel.invokeFunction('convertToInteractive',\n",
       "                                                     [key], {});\n",
       "          if (!dataTable) return;\n",
       "\n",
       "          const docLinkHtml = 'Like what you see? Visit the ' +\n",
       "            '<a target=\"_blank\" href=https://colab.research.google.com/notebooks/data_table.ipynb>data table notebook</a>'\n",
       "            + ' to learn more about interactive tables.';\n",
       "          element.innerHTML = '';\n",
       "          dataTable['output_type'] = 'display_data';\n",
       "          await google.colab.output.renderOutput(dataTable, element);\n",
       "          const docLink = document.createElement('div');\n",
       "          docLink.innerHTML = docLinkHtml;\n",
       "          element.appendChild(docLink);\n",
       "        }\n",
       "      </script>\n",
       "    </div>\n",
       "  </div>\n",
       "  "
      ]
     },
     "metadata": {},
     "execution_count": 231
    }
   ]
  },
  {
   "cell_type": "markdown",
   "source": [
    "## Korelasyon\n",
    "\n",
    "Sürunlar arası korelasyon bilgisinin matrix olarak gösterilmiştir."
   ],
   "metadata": {
    "id": "B1Oxc1H9M42p"
   }
  },
  {
   "cell_type": "code",
   "source": [
    "dataset2.corr()"
   ],
   "metadata": {
    "colab": {
     "base_uri": "https://localhost:8080/",
     "height": 332
    },
    "id": "9wHR602AMzv9",
    "outputId": "71af1a61-7935-4923-84ac-22d7341c24cb"
   },
   "execution_count": 232,
   "outputs": [
    {
     "output_type": "execute_result",
     "data": {
      "text/plain": [
       "                      id  current population  population 2022      area  \\\n",
       "id                  1.00           -3.74e-01        -3.73e-01 -1.07e-01   \n",
       "current population -0.37            1.00e+00         1.00e+00  4.71e-03   \n",
       "population 2022    -0.37            1.00e+00         1.00e+00  4.66e-03   \n",
       "area               -0.11            4.71e-03         4.66e-03  1.00e+00   \n",
       "land area          -0.12            2.05e-01         2.05e-01  9.21e-01   \n",
       "density             0.13           -1.88e-02        -1.88e-02 -2.75e-02   \n",
       "growth rate        -0.15           -3.68e-02        -3.88e-02  1.32e-02   \n",
       "world percentage   -0.38            1.00e+00         1.00e+00  4.33e-03   \n",
       "rank                1.00           -3.66e-01        -3.66e-01 -1.06e-01   \n",
       "\n",
       "                    land area  density  growth rate  world percentage  rank  \n",
       "id                      -0.12     0.13        -0.15         -3.75e-01  1.00  \n",
       "current population       0.21    -0.02        -0.04          1.00e+00 -0.37  \n",
       "population 2022          0.20    -0.02        -0.04          1.00e+00 -0.37  \n",
       "area                     0.92    -0.03         0.01          4.33e-03 -0.11  \n",
       "land area                1.00    -0.02         0.01          2.05e-01 -0.12  \n",
       "density                 -0.02     1.00        -0.12         -1.81e-02  0.14  \n",
       "growth rate              0.01    -0.12         1.00         -3.58e-02 -0.15  \n",
       "world percentage         0.21    -0.02        -0.04          1.00e+00 -0.37  \n",
       "rank                    -0.12     0.14        -0.15         -3.68e-01  1.00  "
      ],
      "text/html": [
       "\n",
       "  <div id=\"df-cf9363f9-5147-437a-8e4c-d3dbe5501d4a\">\n",
       "    <div class=\"colab-df-container\">\n",
       "      <div>\n",
       "<style scoped>\n",
       "    .dataframe tbody tr th:only-of-type {\n",
       "        vertical-align: middle;\n",
       "    }\n",
       "\n",
       "    .dataframe tbody tr th {\n",
       "        vertical-align: top;\n",
       "    }\n",
       "\n",
       "    .dataframe thead th {\n",
       "        text-align: right;\n",
       "    }\n",
       "</style>\n",
       "<table border=\"1\" class=\"dataframe\">\n",
       "  <thead>\n",
       "    <tr style=\"text-align: right;\">\n",
       "      <th></th>\n",
       "      <th>id</th>\n",
       "      <th>current population</th>\n",
       "      <th>population 2022</th>\n",
       "      <th>area</th>\n",
       "      <th>land area</th>\n",
       "      <th>density</th>\n",
       "      <th>growth rate</th>\n",
       "      <th>world percentage</th>\n",
       "      <th>rank</th>\n",
       "    </tr>\n",
       "  </thead>\n",
       "  <tbody>\n",
       "    <tr>\n",
       "      <th>id</th>\n",
       "      <td>1.00</td>\n",
       "      <td>-3.74e-01</td>\n",
       "      <td>-3.73e-01</td>\n",
       "      <td>-1.07e-01</td>\n",
       "      <td>-0.12</td>\n",
       "      <td>0.13</td>\n",
       "      <td>-0.15</td>\n",
       "      <td>-3.75e-01</td>\n",
       "      <td>1.00</td>\n",
       "    </tr>\n",
       "    <tr>\n",
       "      <th>current population</th>\n",
       "      <td>-0.37</td>\n",
       "      <td>1.00e+00</td>\n",
       "      <td>1.00e+00</td>\n",
       "      <td>4.71e-03</td>\n",
       "      <td>0.21</td>\n",
       "      <td>-0.02</td>\n",
       "      <td>-0.04</td>\n",
       "      <td>1.00e+00</td>\n",
       "      <td>-0.37</td>\n",
       "    </tr>\n",
       "    <tr>\n",
       "      <th>population 2022</th>\n",
       "      <td>-0.37</td>\n",
       "      <td>1.00e+00</td>\n",
       "      <td>1.00e+00</td>\n",
       "      <td>4.66e-03</td>\n",
       "      <td>0.20</td>\n",
       "      <td>-0.02</td>\n",
       "      <td>-0.04</td>\n",
       "      <td>1.00e+00</td>\n",
       "      <td>-0.37</td>\n",
       "    </tr>\n",
       "    <tr>\n",
       "      <th>area</th>\n",
       "      <td>-0.11</td>\n",
       "      <td>4.71e-03</td>\n",
       "      <td>4.66e-03</td>\n",
       "      <td>1.00e+00</td>\n",
       "      <td>0.92</td>\n",
       "      <td>-0.03</td>\n",
       "      <td>0.01</td>\n",
       "      <td>4.33e-03</td>\n",
       "      <td>-0.11</td>\n",
       "    </tr>\n",
       "    <tr>\n",
       "      <th>land area</th>\n",
       "      <td>-0.12</td>\n",
       "      <td>2.05e-01</td>\n",
       "      <td>2.05e-01</td>\n",
       "      <td>9.21e-01</td>\n",
       "      <td>1.00</td>\n",
       "      <td>-0.02</td>\n",
       "      <td>0.01</td>\n",
       "      <td>2.05e-01</td>\n",
       "      <td>-0.12</td>\n",
       "    </tr>\n",
       "    <tr>\n",
       "      <th>density</th>\n",
       "      <td>0.13</td>\n",
       "      <td>-1.88e-02</td>\n",
       "      <td>-1.88e-02</td>\n",
       "      <td>-2.75e-02</td>\n",
       "      <td>-0.02</td>\n",
       "      <td>1.00</td>\n",
       "      <td>-0.12</td>\n",
       "      <td>-1.81e-02</td>\n",
       "      <td>0.14</td>\n",
       "    </tr>\n",
       "    <tr>\n",
       "      <th>growth rate</th>\n",
       "      <td>-0.15</td>\n",
       "      <td>-3.68e-02</td>\n",
       "      <td>-3.88e-02</td>\n",
       "      <td>1.32e-02</td>\n",
       "      <td>0.01</td>\n",
       "      <td>-0.12</td>\n",
       "      <td>1.00</td>\n",
       "      <td>-3.58e-02</td>\n",
       "      <td>-0.15</td>\n",
       "    </tr>\n",
       "    <tr>\n",
       "      <th>world percentage</th>\n",
       "      <td>-0.38</td>\n",
       "      <td>1.00e+00</td>\n",
       "      <td>1.00e+00</td>\n",
       "      <td>4.33e-03</td>\n",
       "      <td>0.21</td>\n",
       "      <td>-0.02</td>\n",
       "      <td>-0.04</td>\n",
       "      <td>1.00e+00</td>\n",
       "      <td>-0.37</td>\n",
       "    </tr>\n",
       "    <tr>\n",
       "      <th>rank</th>\n",
       "      <td>1.00</td>\n",
       "      <td>-3.66e-01</td>\n",
       "      <td>-3.66e-01</td>\n",
       "      <td>-1.06e-01</td>\n",
       "      <td>-0.12</td>\n",
       "      <td>0.14</td>\n",
       "      <td>-0.15</td>\n",
       "      <td>-3.68e-01</td>\n",
       "      <td>1.00</td>\n",
       "    </tr>\n",
       "  </tbody>\n",
       "</table>\n",
       "</div>\n",
       "      <button class=\"colab-df-convert\" onclick=\"convertToInteractive('df-cf9363f9-5147-437a-8e4c-d3dbe5501d4a')\"\n",
       "              title=\"Convert this dataframe to an interactive table.\"\n",
       "              style=\"display:none;\">\n",
       "        \n",
       "  <svg xmlns=\"http://www.w3.org/2000/svg\" height=\"24px\"viewBox=\"0 0 24 24\"\n",
       "       width=\"24px\">\n",
       "    <path d=\"M0 0h24v24H0V0z\" fill=\"none\"/>\n",
       "    <path d=\"M18.56 5.44l.94 2.06.94-2.06 2.06-.94-2.06-.94-.94-2.06-.94 2.06-2.06.94zm-11 1L8.5 8.5l.94-2.06 2.06-.94-2.06-.94L8.5 2.5l-.94 2.06-2.06.94zm10 10l.94 2.06.94-2.06 2.06-.94-2.06-.94-.94-2.06-.94 2.06-2.06.94z\"/><path d=\"M17.41 7.96l-1.37-1.37c-.4-.4-.92-.59-1.43-.59-.52 0-1.04.2-1.43.59L10.3 9.45l-7.72 7.72c-.78.78-.78 2.05 0 2.83L4 21.41c.39.39.9.59 1.41.59.51 0 1.02-.2 1.41-.59l7.78-7.78 2.81-2.81c.8-.78.8-2.07 0-2.86zM5.41 20L4 18.59l7.72-7.72 1.47 1.35L5.41 20z\"/>\n",
       "  </svg>\n",
       "      </button>\n",
       "      \n",
       "  <style>\n",
       "    .colab-df-container {\n",
       "      display:flex;\n",
       "      flex-wrap:wrap;\n",
       "      gap: 12px;\n",
       "    }\n",
       "\n",
       "    .colab-df-convert {\n",
       "      background-color: #E8F0FE;\n",
       "      border: none;\n",
       "      border-radius: 50%;\n",
       "      cursor: pointer;\n",
       "      display: none;\n",
       "      fill: #1967D2;\n",
       "      height: 32px;\n",
       "      padding: 0 0 0 0;\n",
       "      width: 32px;\n",
       "    }\n",
       "\n",
       "    .colab-df-convert:hover {\n",
       "      background-color: #E2EBFA;\n",
       "      box-shadow: 0px 1px 2px rgba(60, 64, 67, 0.3), 0px 1px 3px 1px rgba(60, 64, 67, 0.15);\n",
       "      fill: #174EA6;\n",
       "    }\n",
       "\n",
       "    [theme=dark] .colab-df-convert {\n",
       "      background-color: #3B4455;\n",
       "      fill: #D2E3FC;\n",
       "    }\n",
       "\n",
       "    [theme=dark] .colab-df-convert:hover {\n",
       "      background-color: #434B5C;\n",
       "      box-shadow: 0px 1px 3px 1px rgba(0, 0, 0, 0.15);\n",
       "      filter: drop-shadow(0px 1px 2px rgba(0, 0, 0, 0.3));\n",
       "      fill: #FFFFFF;\n",
       "    }\n",
       "  </style>\n",
       "\n",
       "      <script>\n",
       "        const buttonEl =\n",
       "          document.querySelector('#df-cf9363f9-5147-437a-8e4c-d3dbe5501d4a button.colab-df-convert');\n",
       "        buttonEl.style.display =\n",
       "          google.colab.kernel.accessAllowed ? 'block' : 'none';\n",
       "\n",
       "        async function convertToInteractive(key) {\n",
       "          const element = document.querySelector('#df-cf9363f9-5147-437a-8e4c-d3dbe5501d4a');\n",
       "          const dataTable =\n",
       "            await google.colab.kernel.invokeFunction('convertToInteractive',\n",
       "                                                     [key], {});\n",
       "          if (!dataTable) return;\n",
       "\n",
       "          const docLinkHtml = 'Like what you see? Visit the ' +\n",
       "            '<a target=\"_blank\" href=https://colab.research.google.com/notebooks/data_table.ipynb>data table notebook</a>'\n",
       "            + ' to learn more about interactive tables.';\n",
       "          element.innerHTML = '';\n",
       "          dataTable['output_type'] = 'display_data';\n",
       "          await google.colab.output.renderOutput(dataTable, element);\n",
       "          const docLink = document.createElement('div');\n",
       "          docLink.innerHTML = docLinkHtml;\n",
       "          element.appendChild(docLink);\n",
       "        }\n",
       "      </script>\n",
       "    </div>\n",
       "  </div>\n",
       "  "
      ]
     },
     "metadata": {},
     "execution_count": 232
    }
   ]
  },
  {
   "cell_type": "markdown",
   "source": [
    "## Heatmap\n",
    "\n",
    "Heatmap ile sütünlar arası korelasyonun görselleştirilmiştir."
   ],
   "metadata": {
    "id": "7IXC30mmSMr1"
   }
  },
  {
   "cell_type": "code",
   "source": [
    "sb.heatmap(dataset2.corr(), annot=True, cmap=\"coolwarm\")"
   ],
   "metadata": {
    "colab": {
     "base_uri": "https://localhost:8080/",
     "height": 369
    },
    "id": "SBy4jh1oNAg2",
    "outputId": "d6ff0abc-747d-425e-f5c5-075b5f058f50"
   },
   "execution_count": 233,
   "outputs": [
    {
     "output_type": "execute_result",
     "data": {
      "text/plain": [
       "<AxesSubplot:>"
      ]
     },
     "metadata": {},
     "execution_count": 233
    },
    {
     "output_type": "display_data",
     "data": {
      "text/plain": [
       "<Figure size 432x288 with 2 Axes>"
      ],
      "image/png": "[encoded data removed]"
     },
     "metadata": {
      "needs_background": "light"
     }
    }
   ]
  },
  {
   "cell_type": "markdown",
   "source": [
    "## Scatter\n",
    "\n",
    "Aralarında korelasyona göre güçlü bir ilişki bulunan \"area\" ve \"current population\" sütunlarının değer dağılımları scatter üstünde görselleştirilmiştir."
   ],
   "metadata": {
    "id": "Nr7bX5y5T8V1"
   }
  },
  {
   "cell_type": "code",
   "source": [
    "plt.figure(figsize=(20,3))\n",
    "plt.scatter(dataset2['area'], dataset2['current population'], c='red')"
   ],
   "metadata": {
    "colab": {
     "base_uri": "https://localhost:8080/",
     "height": 252
    },
    "id": "HG_gaNGDT8GE",
    "outputId": "7746b778-7a4e-40ce-e2f4-130e1e88c6f2"
   },
   "execution_count": 234,
   "outputs": [
    {
     "output_type": "execute_result",
     "data": {
      "text/plain": [
       "<matplotlib.collections.PathCollection at 0x7fe489cfd520>"
      ]
     },
     "metadata": {},
     "execution_count": 234
    },
    {
     "output_type": "display_data",
     "data": {
      "text/plain": [
       "<Figure size 1440x216 with 1 Axes>"
      ],
      "image/png": "[encoded data removed]"
     },
     "metadata": {
      "needs_background": "light"
     }
    }
   ]
  },
  {
   "cell_type": "markdown",
   "source": [
    "Tüm değişkenlerin birbiriyle ilişkisi gösterilmiştir."
   ],
   "metadata": {
    "id": "lR-Sr1TGHBiF"
   }
  },
  {
   "cell_type": "markdown",
   "source": [
    "## Histogram\n",
    "\n",
    "Sayısal sütunların histogram grafi gösterilmiştir."
   ],
   "metadata": {
    "id": "_uIoqDMITpOE"
   }
  },
  {
   "cell_type": "code",
   "source": [
    "for columnName in [\"current population\",\t\"population 2022\",\t\"area\",\t\"land area\",\t\"density\",\t\"growth rate\",\t\"world percentage\"]:\n",
    "  histogram(dataset2[columnName], columnName)"
   ],
   "metadata": {
    "colab": {
     "base_uri": "https://localhost:8080/",
     "height": 1000
    },
    "id": "DvS1dhCqSLF3",
    "outputId": "d55a8890-a416-4e5d-ba55-a90af13766d1"
   },
   "execution_count": 235,
   "outputs": [
    {
     "output_type": "display_data",
     "data": {
      "text/plain": [
       "<Figure size 864x216 with 1 Axes>"
      ],
      "image/png": "[encoded data removed]"
     },
     "metadata": {
      "needs_background": "light"
     }
    },
    {
     "output_type": "display_data",
     "data": {
      "text/plain": [
       "<Figure size 864x216 with 1 Axes>"
      ],
      "image/png": "[encoded data removed]"
     },
     "metadata": {
      "needs_background": "light"
     }
    },
    {
     "output_type": "display_data",
     "data": {
      "text/plain": [
       "<Figure size 864x216 with 1 Axes>"
      ],
      "image/png": "[encoded data removed]"
     },
     "metadata": {
      "needs_background": "light"
     }
    },
    {
     "output_type": "display_data",
     "data": {
      "text/plain": [
       "<Figure size 864x216 with 1 Axes>"
      ],
      "image/png": "[encoded data removed]"
     },
     "metadata": {
      "needs_background": "light"
     }
    },
    {
     "output_type": "display_data",
     "data": {
      "text/plain": [
       "<Figure size 864x216 with 1 Axes>"
      ],
      "image/png": "[encoded data removed]"
     },
     "metadata": {
      "needs_background": "light"
     }
    },
    {
     "output_type": "display_data",
     "data": {
      "text/plain": [
       "<Figure size 864x216 with 1 Axes>"
      ],
      "image/png": "[encoded data removed]"
     },
     "metadata": {
      "needs_background": "light"
     }
    },
    {
     "output_type": "display_data",
     "data": {
      "text/plain": [
       "<Figure size 864x216 with 1 Axes>"
      ],
      "image/png": "[encoded data removed]"
     },
     "metadata": {
      "needs_background": "light"
     }
    }
   ]
  },
  {
   "cell_type": "markdown",
   "source": [
    "İlk 5 ülkenin nüfusları bar chart üzerinde gösterilmiştir."
   ],
   "metadata": {
    "id": "PYShDLtSF3a6"
   }
  },
  {
   "cell_type": "code",
   "source": [
    "sb.barplot(x=\"country name\", y=\"current population\", data=dataset2.sort_values(\"current population\", ascending=False).head());"
   ],
   "metadata": {
    "colab": {
     "base_uri": "https://localhost:8080/",
     "height": 290
    },
    "id": "TIuZG50uF25M",
    "outputId": "cf747451-a195-428b-9a29-f47342038442"
   },
   "execution_count": 236,
   "outputs": [
    {
     "output_type": "display_data",
     "data": {
      "text/plain": [
       "<Figure size 432x288 with 1 Axes>"
      ],
      "image/png": "[encoded data removed]"
     },
     "metadata": {
      "needs_background": "light"
     }
    }
   ]
  },
  {
   "cell_type": "code",
   "source": [
    "sb.pairplot(dataset2);"
   ],
   "metadata": {
    "colab": {
     "base_uri": "https://localhost:8080/",
     "height": 1000
    },
    "id": "nqxmreiQa_5g",
    "outputId": "44dd046e-f05e-4bed-c4a5-4176c334ff50"
   },
   "execution_count": 239,
   "outputs": [
    {
     "output_type": "display_data",
     "data": {
      "text/plain": [
       "<Figure size 1620x1620 with 90 Axes>"
      ],
      "image/png": "[encoded data removed]"
     },
     "metadata": {
      "needs_background": "light"
     }
    }
   ]
  },
  {
   "cell_type": "code",
   "source": [
    "sb.scatterplot(x=\"growth rate\", y=\"rank\", hue=\"density\", data=dataset2);"
   ],
   "metadata": {
    "colab": {
     "base_uri": "https://localhost:8080/",
     "height": 279
    },
    "id": "U5ar7v6XG2Hk",
    "outputId": "ebbb3877-f5fe-4b03-cd5f-42904f8e232f"
   },
   "execution_count": 237,
   "outputs": [
    {
     "output_type": "display_data",
     "data": {
      "text/plain": [
       "<Figure size 432x288 with 1 Axes>"
      ],
      "image/png": "[encoded data removed]"
     },
     "metadata": {
      "needs_background": "light"
     }
    }
   ]
  }
 ]
}
