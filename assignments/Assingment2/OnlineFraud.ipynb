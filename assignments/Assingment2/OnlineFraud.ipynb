{
 "cells": [
  {
   "cell_type": "markdown",
   "metadata": {
    "id": "nt6lDmoLZvRA"
   },
   "source": [
    "# OnlineFraud Veri Setinin Analizinin yapılması\n"
   ]
  },
  {
   "cell_type": "code",
   "execution_count": 1,
   "metadata": {
    "id": "YHCjXKBykp-V"
   },
   "outputs": [],
   "source": [
    "import pandas as pd\n",
    "import seaborn as sns\n",
    "import matplotlib.pyplot as plt\n",
    "import plotly.express as px\n",
    "\n",
    "pd.set_option(\"display.precision\", 2)\n",
    "frac = 0.000002"
   ]
  },
  {
   "cell_type": "code",
   "execution_count": 2,
   "metadata": {
    "id": "WN6rLrKkoB1Y"
   },
   "outputs": [],
   "source": [
    "dataset = pd.read_csv('./Datasets/onlinefraud.csv');"
   ]
  },
  {
   "cell_type": "markdown",
   "metadata": {
    "id": "q60QQBYeZ-tw"
   },
   "source": [
    "## Özniteliklerin incelenmesi"
   ]
  },
  {
   "cell_type": "code",
   "execution_count": 4,
   "metadata": {
    "colab": {
     "base_uri": "https://localhost:8080/"
    },
    "id": "U4SwAhF4rv1L",
    "outputId": "7af26ccd-3162-4ed3-de22-44d11f6872cb"
   },
   "outputs": [
    {
     "data": {
      "text/plain": [
       "Index(['step', 'type', 'amount', 'nameOrig', 'oldbalanceOrg', 'newbalanceOrig',\n",
       "       'nameDest', 'oldbalanceDest', 'newbalanceDest', 'isFraud',\n",
       "       'isFlaggedFraud'],\n",
       "      dtype='object')"
      ]
     },
     "execution_count": 4,
     "metadata": {},
     "output_type": "execute_result"
    }
   ],
   "source": [
    "dataset.columns"
   ]
  },
  {
   "cell_type": "markdown",
   "metadata": {
    "id": "f6c-5ynUrrP0"
   },
   "source": [
    "***step***: 1 adımın 1 saate eşit olduğu bir zaman birimini temsil eder.\n",
    "\n",
    "***type***: İşlemin tipi\n",
    "\n",
    "***amount***: İşlemin miktarı\n",
    "\n",
    "***nameOrig***: Müşternin işleme başlaması\n",
    "\n",
    "***oldbalanceOrg***: İşlemden önce bakiye\n",
    "\n",
    "***newbalanceOrig***: İşlemden sonra bakiye\n",
    "\n",
    "***nameDest***: İşlemin alıcısı\n",
    "\n",
    "***oldbalanceDest***: İşlemden önce alıcının ilk bakiyesi\n",
    "\n",
    "***newbalanceDest***: İşlemden sonra alıcının ilk bakiyesi\n",
    "\n",
    "***isFraud***: Sahtecilik mi değil mi\n",
    "\n",
    "**isFlaggedFraud**: -"
   ]
  },
  {
   "cell_type": "markdown",
   "metadata": {
    "id": "fhrQ-LiPowOn"
   },
   "source": [
    "## Veri setinin içeriğini kontrol ediyoruz"
   ]
  },
  {
   "cell_type": "code",
   "execution_count": 4,
   "metadata": {
    "colab": {
     "base_uri": "https://localhost:8080/"
    },
    "id": "utRQsrwmoTPM",
    "outputId": "9781cac7-f25a-444d-9761-2bef718a0f78"
   },
   "outputs": [
    {
     "name": "stdout",
     "output_type": "stream",
     "text": [
      "Satır Sayısı: 6362620\n",
      "Öznitelik Syısı: 11\n",
      "Fraud İşlem Sayısı: 8213\n",
      "FraudFlagged İşlem Sayısı: 16\n"
     ]
    }
   ],
   "source": [
    "print(\"Satır Sayısı: {}\".format(dataset.shape[0]))\n",
    "print(\"Öznitelik Syısı: {}\".format(dataset.shape[1]))\n",
    "print(\"Fraud İşlem Sayısı: {}\".format(dataset[dataset['isFraud'] == 1].shape[0]))\n",
    "print(\"FraudFlagged İşlem Sayısı: {}\".format(dataset[dataset['isFlaggedFraud'] == 1].shape[0]))"
   ]
  },
  {
   "cell_type": "code",
   "execution_count": 5,
   "metadata": {
    "colab": {
     "base_uri": "https://localhost:8080/",
     "height": 457
    },
    "id": "Ulo_XIWlodMb",
    "outputId": "cc5d8d42-1259-4a9e-e55b-8673d551a46c"
   },
   "outputs": [
    {
     "data": {
      "text/html": [
       "\n",
       "  <div id=\"df-a9092408-c6c5-45ff-b97e-16d38491b86c\">\n",
       "    <div class=\"colab-df-container\">\n",
       "      <div>\n",
       "<style scoped>\n",
       "    .dataframe tbody tr th:only-of-type {\n",
       "        vertical-align: middle;\n",
       "    }\n",
       "\n",
       "    .dataframe tbody tr th {\n",
       "        vertical-align: top;\n",
       "    }\n",
       "\n",
       "    .dataframe thead th {\n",
       "        text-align: right;\n",
       "    }\n",
       "</style>\n",
       "<table border=\"1\" class=\"dataframe\">\n",
       "  <thead>\n",
       "    <tr style=\"text-align: right;\">\n",
       "      <th></th>\n",
       "      <th>step</th>\n",
       "      <th>type</th>\n",
       "      <th>amount</th>\n",
       "      <th>nameOrig</th>\n",
       "      <th>oldbalanceOrg</th>\n",
       "      <th>newbalanceOrig</th>\n",
       "      <th>nameDest</th>\n",
       "      <th>oldbalanceDest</th>\n",
       "      <th>newbalanceDest</th>\n",
       "      <th>isFraud</th>\n",
       "      <th>isFlaggedFraud</th>\n",
       "    </tr>\n",
       "  </thead>\n",
       "  <tbody>\n",
       "    <tr>\n",
       "      <th>5798956</th>\n",
       "      <td>401</td>\n",
       "      <td>CASH_OUT</td>\n",
       "      <td>148347.44</td>\n",
       "      <td>C127815018</td>\n",
       "      <td>4.35e+03</td>\n",
       "      <td>0.00e+00</td>\n",
       "      <td>C2080524248</td>\n",
       "      <td>2.46e+05</td>\n",
       "      <td>3.94e+05</td>\n",
       "      <td>0</td>\n",
       "      <td>0</td>\n",
       "    </tr>\n",
       "    <tr>\n",
       "      <th>3373641</th>\n",
       "      <td>254</td>\n",
       "      <td>CASH_IN</td>\n",
       "      <td>545759.59</td>\n",
       "      <td>C306925061</td>\n",
       "      <td>7.08e+06</td>\n",
       "      <td>7.63e+06</td>\n",
       "      <td>C2030264846</td>\n",
       "      <td>1.55e+06</td>\n",
       "      <td>1.01e+06</td>\n",
       "      <td>0</td>\n",
       "      <td>0</td>\n",
       "    </tr>\n",
       "    <tr>\n",
       "      <th>3006917</th>\n",
       "      <td>232</td>\n",
       "      <td>CASH_IN</td>\n",
       "      <td>88332.93</td>\n",
       "      <td>C151362907</td>\n",
       "      <td>9.37e+06</td>\n",
       "      <td>9.46e+06</td>\n",
       "      <td>C2088695231</td>\n",
       "      <td>1.43e+05</td>\n",
       "      <td>5.50e+04</td>\n",
       "      <td>0</td>\n",
       "      <td>0</td>\n",
       "    </tr>\n",
       "    <tr>\n",
       "      <th>3354634</th>\n",
       "      <td>254</td>\n",
       "      <td>CASH_IN</td>\n",
       "      <td>34828.35</td>\n",
       "      <td>C83340288</td>\n",
       "      <td>4.22e+04</td>\n",
       "      <td>7.70e+04</td>\n",
       "      <td>C680614956</td>\n",
       "      <td>0.00e+00</td>\n",
       "      <td>0.00e+00</td>\n",
       "      <td>0</td>\n",
       "      <td>0</td>\n",
       "    </tr>\n",
       "    <tr>\n",
       "      <th>3838705</th>\n",
       "      <td>282</td>\n",
       "      <td>PAYMENT</td>\n",
       "      <td>13762.12</td>\n",
       "      <td>C49439450</td>\n",
       "      <td>0.00e+00</td>\n",
       "      <td>0.00e+00</td>\n",
       "      <td>M22131423</td>\n",
       "      <td>0.00e+00</td>\n",
       "      <td>0.00e+00</td>\n",
       "      <td>0</td>\n",
       "      <td>0</td>\n",
       "    </tr>\n",
       "    <tr>\n",
       "      <th>3451815</th>\n",
       "      <td>257</td>\n",
       "      <td>CASH_IN</td>\n",
       "      <td>28193.51</td>\n",
       "      <td>C1445370610</td>\n",
       "      <td>2.89e+06</td>\n",
       "      <td>2.92e+06</td>\n",
       "      <td>C975540597</td>\n",
       "      <td>2.79e+05</td>\n",
       "      <td>2.51e+05</td>\n",
       "      <td>0</td>\n",
       "      <td>0</td>\n",
       "    </tr>\n",
       "    <tr>\n",
       "      <th>4542402</th>\n",
       "      <td>326</td>\n",
       "      <td>CASH_IN</td>\n",
       "      <td>46975.22</td>\n",
       "      <td>C1896171425</td>\n",
       "      <td>6.27e+06</td>\n",
       "      <td>6.31e+06</td>\n",
       "      <td>C1627636232</td>\n",
       "      <td>3.07e+05</td>\n",
       "      <td>2.60e+05</td>\n",
       "      <td>0</td>\n",
       "      <td>0</td>\n",
       "    </tr>\n",
       "    <tr>\n",
       "      <th>6265767</th>\n",
       "      <td>614</td>\n",
       "      <td>CASH_OUT</td>\n",
       "      <td>51650.09</td>\n",
       "      <td>C1386781199</td>\n",
       "      <td>3.07e+05</td>\n",
       "      <td>2.55e+05</td>\n",
       "      <td>C324061061</td>\n",
       "      <td>0.00e+00</td>\n",
       "      <td>5.17e+04</td>\n",
       "      <td>0</td>\n",
       "      <td>0</td>\n",
       "    </tr>\n",
       "    <tr>\n",
       "      <th>6063746</th>\n",
       "      <td>503</td>\n",
       "      <td>PAYMENT</td>\n",
       "      <td>2538.97</td>\n",
       "      <td>C2018984654</td>\n",
       "      <td>4.95e+04</td>\n",
       "      <td>4.70e+04</td>\n",
       "      <td>M1550769221</td>\n",
       "      <td>0.00e+00</td>\n",
       "      <td>0.00e+00</td>\n",
       "      <td>0</td>\n",
       "      <td>0</td>\n",
       "    </tr>\n",
       "    <tr>\n",
       "      <th>4688381</th>\n",
       "      <td>331</td>\n",
       "      <td>CASH_OUT</td>\n",
       "      <td>34963.17</td>\n",
       "      <td>C1796708151</td>\n",
       "      <td>0.00e+00</td>\n",
       "      <td>0.00e+00</td>\n",
       "      <td>C149926751</td>\n",
       "      <td>8.20e+05</td>\n",
       "      <td>9.08e+05</td>\n",
       "      <td>0</td>\n",
       "      <td>0</td>\n",
       "    </tr>\n",
       "    <tr>\n",
       "      <th>5549069</th>\n",
       "      <td>382</td>\n",
       "      <td>CASH_IN</td>\n",
       "      <td>123492.85</td>\n",
       "      <td>C146969160</td>\n",
       "      <td>2.45e+02</td>\n",
       "      <td>1.24e+05</td>\n",
       "      <td>C409917388</td>\n",
       "      <td>0.00e+00</td>\n",
       "      <td>0.00e+00</td>\n",
       "      <td>0</td>\n",
       "      <td>0</td>\n",
       "    </tr>\n",
       "    <tr>\n",
       "      <th>1799764</th>\n",
       "      <td>162</td>\n",
       "      <td>CASH_OUT</td>\n",
       "      <td>251734.49</td>\n",
       "      <td>C697447405</td>\n",
       "      <td>5.14e+04</td>\n",
       "      <td>0.00e+00</td>\n",
       "      <td>C708514605</td>\n",
       "      <td>2.13e+06</td>\n",
       "      <td>2.39e+06</td>\n",
       "      <td>0</td>\n",
       "      <td>0</td>\n",
       "    </tr>\n",
       "    <tr>\n",
       "      <th>3546649</th>\n",
       "      <td>260</td>\n",
       "      <td>PAYMENT</td>\n",
       "      <td>7829.76</td>\n",
       "      <td>C28616592</td>\n",
       "      <td>2.21e+04</td>\n",
       "      <td>1.43e+04</td>\n",
       "      <td>M1321576916</td>\n",
       "      <td>0.00e+00</td>\n",
       "      <td>0.00e+00</td>\n",
       "      <td>0</td>\n",
       "      <td>0</td>\n",
       "    </tr>\n",
       "  </tbody>\n",
       "</table>\n",
       "</div>\n",
       "      <button class=\"colab-df-convert\" onclick=\"convertToInteractive('df-a9092408-c6c5-45ff-b97e-16d38491b86c')\"\n",
       "              title=\"Convert this dataframe to an interactive table.\"\n",
       "              style=\"display:none;\">\n",
       "        \n",
       "  <svg xmlns=\"http://www.w3.org/2000/svg\" height=\"24px\"viewBox=\"0 0 24 24\"\n",
       "       width=\"24px\">\n",
       "    <path d=\"M0 0h24v24H0V0z\" fill=\"none\"/>\n",
       "    <path d=\"M18.56 5.44l.94 2.06.94-2.06 2.06-.94-2.06-.94-.94-2.06-.94 2.06-2.06.94zm-11 1L8.5 8.5l.94-2.06 2.06-.94-2.06-.94L8.5 2.5l-.94 2.06-2.06.94zm10 10l.94 2.06.94-2.06 2.06-.94-2.06-.94-.94-2.06-.94 2.06-2.06.94z\"/><path d=\"M17.41 7.96l-1.37-1.37c-.4-.4-.92-.59-1.43-.59-.52 0-1.04.2-1.43.59L10.3 9.45l-7.72 7.72c-.78.78-.78 2.05 0 2.83L4 21.41c.39.39.9.59 1.41.59.51 0 1.02-.2 1.41-.59l7.78-7.78 2.81-2.81c.8-.78.8-2.07 0-2.86zM5.41 20L4 18.59l7.72-7.72 1.47 1.35L5.41 20z\"/>\n",
       "  </svg>\n",
       "      </button>\n",
       "      \n",
       "  <style>\n",
       "    .colab-df-container {\n",
       "      display:flex;\n",
       "      flex-wrap:wrap;\n",
       "      gap: 12px;\n",
       "    }\n",
       "\n",
       "    .colab-df-convert {\n",
       "      background-color: #E8F0FE;\n",
       "      border: none;\n",
       "      border-radius: 50%;\n",
       "      cursor: pointer;\n",
       "      display: none;\n",
       "      fill: #1967D2;\n",
       "      height: 32px;\n",
       "      padding: 0 0 0 0;\n",
       "      width: 32px;\n",
       "    }\n",
       "\n",
       "    .colab-df-convert:hover {\n",
       "      background-color: #E2EBFA;\n",
       "      box-shadow: 0px 1px 2px rgba(60, 64, 67, 0.3), 0px 1px 3px 1px rgba(60, 64, 67, 0.15);\n",
       "      fill: #174EA6;\n",
       "    }\n",
       "\n",
       "    [theme=dark] .colab-df-convert {\n",
       "      background-color: #3B4455;\n",
       "      fill: #D2E3FC;\n",
       "    }\n",
       "\n",
       "    [theme=dark] .colab-df-convert:hover {\n",
       "      background-color: #434B5C;\n",
       "      box-shadow: 0px 1px 3px 1px rgba(0, 0, 0, 0.15);\n",
       "      filter: drop-shadow(0px 1px 2px rgba(0, 0, 0, 0.3));\n",
       "      fill: #FFFFFF;\n",
       "    }\n",
       "  </style>\n",
       "\n",
       "      <script>\n",
       "        const buttonEl =\n",
       "          document.querySelector('#df-a9092408-c6c5-45ff-b97e-16d38491b86c button.colab-df-convert');\n",
       "        buttonEl.style.display =\n",
       "          google.colab.kernel.accessAllowed ? 'block' : 'none';\n",
       "\n",
       "        async function convertToInteractive(key) {\n",
       "          const element = document.querySelector('#df-a9092408-c6c5-45ff-b97e-16d38491b86c');\n",
       "          const dataTable =\n",
       "            await google.colab.kernel.invokeFunction('convertToInteractive',\n",
       "                                                     [key], {});\n",
       "          if (!dataTable) return;\n",
       "\n",
       "          const docLinkHtml = 'Like what you see? Visit the ' +\n",
       "            '<a target=\"_blank\" href=https://colab.research.google.com/notebooks/data_table.ipynb>data table notebook</a>'\n",
       "            + ' to learn more about interactive tables.';\n",
       "          element.innerHTML = '';\n",
       "          dataTable['output_type'] = 'display_data';\n",
       "          await google.colab.output.renderOutput(dataTable, element);\n",
       "          const docLink = document.createElement('div');\n",
       "          docLink.innerHTML = docLinkHtml;\n",
       "          element.appendChild(docLink);\n",
       "        }\n",
       "      </script>\n",
       "    </div>\n",
       "  </div>\n",
       "  "
      ],
      "text/plain": [
       "         step      type     amount     nameOrig  oldbalanceOrg  \\\n",
       "5798956   401  CASH_OUT  148347.44   C127815018       4.35e+03   \n",
       "3373641   254   CASH_IN  545759.59   C306925061       7.08e+06   \n",
       "3006917   232   CASH_IN   88332.93   C151362907       9.37e+06   \n",
       "3354634   254   CASH_IN   34828.35    C83340288       4.22e+04   \n",
       "3838705   282   PAYMENT   13762.12    C49439450       0.00e+00   \n",
       "3451815   257   CASH_IN   28193.51  C1445370610       2.89e+06   \n",
       "4542402   326   CASH_IN   46975.22  C1896171425       6.27e+06   \n",
       "6265767   614  CASH_OUT   51650.09  C1386781199       3.07e+05   \n",
       "6063746   503   PAYMENT    2538.97  C2018984654       4.95e+04   \n",
       "4688381   331  CASH_OUT   34963.17  C1796708151       0.00e+00   \n",
       "5549069   382   CASH_IN  123492.85   C146969160       2.45e+02   \n",
       "1799764   162  CASH_OUT  251734.49   C697447405       5.14e+04   \n",
       "3546649   260   PAYMENT    7829.76    C28616592       2.21e+04   \n",
       "\n",
       "         newbalanceOrig     nameDest  oldbalanceDest  newbalanceDest  isFraud  \\\n",
       "5798956        0.00e+00  C2080524248        2.46e+05        3.94e+05        0   \n",
       "3373641        7.63e+06  C2030264846        1.55e+06        1.01e+06        0   \n",
       "3006917        9.46e+06  C2088695231        1.43e+05        5.50e+04        0   \n",
       "3354634        7.70e+04   C680614956        0.00e+00        0.00e+00        0   \n",
       "3838705        0.00e+00    M22131423        0.00e+00        0.00e+00        0   \n",
       "3451815        2.92e+06   C975540597        2.79e+05        2.51e+05        0   \n",
       "4542402        6.31e+06  C1627636232        3.07e+05        2.60e+05        0   \n",
       "6265767        2.55e+05   C324061061        0.00e+00        5.17e+04        0   \n",
       "6063746        4.70e+04  M1550769221        0.00e+00        0.00e+00        0   \n",
       "4688381        0.00e+00   C149926751        8.20e+05        9.08e+05        0   \n",
       "5549069        1.24e+05   C409917388        0.00e+00        0.00e+00        0   \n",
       "1799764        0.00e+00   C708514605        2.13e+06        2.39e+06        0   \n",
       "3546649        1.43e+04  M1321576916        0.00e+00        0.00e+00        0   \n",
       "\n",
       "         isFlaggedFraud  \n",
       "5798956               0  \n",
       "3373641               0  \n",
       "3006917               0  \n",
       "3354634               0  \n",
       "3838705               0  \n",
       "3451815               0  \n",
       "4542402               0  \n",
       "6265767               0  \n",
       "6063746               0  \n",
       "4688381               0  \n",
       "5549069               0  \n",
       "1799764               0  \n",
       "3546649               0  "
      ]
     },
     "execution_count": 5,
     "metadata": {},
     "output_type": "execute_result"
    }
   ],
   "source": [
    "dataset.sample(frac=frac)"
   ]
  },
  {
   "cell_type": "code",
   "execution_count": 6,
   "metadata": {
    "colab": {
     "base_uri": "https://localhost:8080/",
     "height": 457
    },
    "id": "SW9xkI_upCJo",
    "outputId": "cc49ca25-0032-47a7-ae7f-decb45e3916b"
   },
   "outputs": [
    {
     "data": {
      "text/html": [
       "\n",
       "  <div id=\"df-c0da73dd-3220-41bd-9007-0931347e638c\">\n",
       "    <div class=\"colab-df-container\">\n",
       "      <div>\n",
       "<style scoped>\n",
       "    .dataframe tbody tr th:only-of-type {\n",
       "        vertical-align: middle;\n",
       "    }\n",
       "\n",
       "    .dataframe tbody tr th {\n",
       "        vertical-align: top;\n",
       "    }\n",
       "\n",
       "    .dataframe thead th {\n",
       "        text-align: right;\n",
       "    }\n",
       "</style>\n",
       "<table border=\"1\" class=\"dataframe\">\n",
       "  <thead>\n",
       "    <tr style=\"text-align: right;\">\n",
       "      <th></th>\n",
       "      <th>type</th>\n",
       "      <th>amount</th>\n",
       "      <th>nameOrig</th>\n",
       "      <th>oldbalanceOrg</th>\n",
       "      <th>newbalanceOrig</th>\n",
       "    </tr>\n",
       "  </thead>\n",
       "  <tbody>\n",
       "    <tr>\n",
       "      <th>5132898</th>\n",
       "      <td>CASH_IN</td>\n",
       "      <td>271354.07</td>\n",
       "      <td>C1271206912</td>\n",
       "      <td>1.26e+06</td>\n",
       "      <td>1.53e+06</td>\n",
       "    </tr>\n",
       "    <tr>\n",
       "      <th>5793448</th>\n",
       "      <td>PAYMENT</td>\n",
       "      <td>7271.54</td>\n",
       "      <td>C272275897</td>\n",
       "      <td>0.00e+00</td>\n",
       "      <td>0.00e+00</td>\n",
       "    </tr>\n",
       "    <tr>\n",
       "      <th>1348718</th>\n",
       "      <td>PAYMENT</td>\n",
       "      <td>29050.54</td>\n",
       "      <td>C176137139</td>\n",
       "      <td>1.10e+04</td>\n",
       "      <td>0.00e+00</td>\n",
       "    </tr>\n",
       "    <tr>\n",
       "      <th>2748374</th>\n",
       "      <td>TRANSFER</td>\n",
       "      <td>11932.17</td>\n",
       "      <td>C1054892250</td>\n",
       "      <td>0.00e+00</td>\n",
       "      <td>0.00e+00</td>\n",
       "    </tr>\n",
       "    <tr>\n",
       "      <th>5244824</th>\n",
       "      <td>CASH_OUT</td>\n",
       "      <td>55322.77</td>\n",
       "      <td>C1130412002</td>\n",
       "      <td>0.00e+00</td>\n",
       "      <td>0.00e+00</td>\n",
       "    </tr>\n",
       "    <tr>\n",
       "      <th>1419347</th>\n",
       "      <td>CASH_IN</td>\n",
       "      <td>73617.33</td>\n",
       "      <td>C1170131199</td>\n",
       "      <td>5.08e+03</td>\n",
       "      <td>7.87e+04</td>\n",
       "    </tr>\n",
       "    <tr>\n",
       "      <th>3756099</th>\n",
       "      <td>CASH_IN</td>\n",
       "      <td>305297.19</td>\n",
       "      <td>C414253880</td>\n",
       "      <td>3.29e+04</td>\n",
       "      <td>3.38e+05</td>\n",
       "    </tr>\n",
       "    <tr>\n",
       "      <th>2301297</th>\n",
       "      <td>CASH_OUT</td>\n",
       "      <td>682.13</td>\n",
       "      <td>C292624320</td>\n",
       "      <td>1.86e+05</td>\n",
       "      <td>1.85e+05</td>\n",
       "    </tr>\n",
       "    <tr>\n",
       "      <th>2861200</th>\n",
       "      <td>PAYMENT</td>\n",
       "      <td>6540.66</td>\n",
       "      <td>C42874328</td>\n",
       "      <td>2.11e+04</td>\n",
       "      <td>1.46e+04</td>\n",
       "    </tr>\n",
       "    <tr>\n",
       "      <th>1885825</th>\n",
       "      <td>PAYMENT</td>\n",
       "      <td>2765.93</td>\n",
       "      <td>C1220244218</td>\n",
       "      <td>0.00e+00</td>\n",
       "      <td>0.00e+00</td>\n",
       "    </tr>\n",
       "    <tr>\n",
       "      <th>1754368</th>\n",
       "      <td>CASH_IN</td>\n",
       "      <td>229780.88</td>\n",
       "      <td>C1679558394</td>\n",
       "      <td>6.58e+05</td>\n",
       "      <td>8.88e+05</td>\n",
       "    </tr>\n",
       "    <tr>\n",
       "      <th>5170784</th>\n",
       "      <td>CASH_OUT</td>\n",
       "      <td>101090.86</td>\n",
       "      <td>C440162171</td>\n",
       "      <td>0.00e+00</td>\n",
       "      <td>0.00e+00</td>\n",
       "    </tr>\n",
       "    <tr>\n",
       "      <th>5618480</th>\n",
       "      <td>CASH_OUT</td>\n",
       "      <td>1860.40</td>\n",
       "      <td>C1451927706</td>\n",
       "      <td>0.00e+00</td>\n",
       "      <td>0.00e+00</td>\n",
       "    </tr>\n",
       "  </tbody>\n",
       "</table>\n",
       "</div>\n",
       "      <button class=\"colab-df-convert\" onclick=\"convertToInteractive('df-c0da73dd-3220-41bd-9007-0931347e638c')\"\n",
       "              title=\"Convert this dataframe to an interactive table.\"\n",
       "              style=\"display:none;\">\n",
       "        \n",
       "  <svg xmlns=\"http://www.w3.org/2000/svg\" height=\"24px\"viewBox=\"0 0 24 24\"\n",
       "       width=\"24px\">\n",
       "    <path d=\"M0 0h24v24H0V0z\" fill=\"none\"/>\n",
       "    <path d=\"M18.56 5.44l.94 2.06.94-2.06 2.06-.94-2.06-.94-.94-2.06-.94 2.06-2.06.94zm-11 1L8.5 8.5l.94-2.06 2.06-.94-2.06-.94L8.5 2.5l-.94 2.06-2.06.94zm10 10l.94 2.06.94-2.06 2.06-.94-2.06-.94-.94-2.06-.94 2.06-2.06.94z\"/><path d=\"M17.41 7.96l-1.37-1.37c-.4-.4-.92-.59-1.43-.59-.52 0-1.04.2-1.43.59L10.3 9.45l-7.72 7.72c-.78.78-.78 2.05 0 2.83L4 21.41c.39.39.9.59 1.41.59.51 0 1.02-.2 1.41-.59l7.78-7.78 2.81-2.81c.8-.78.8-2.07 0-2.86zM5.41 20L4 18.59l7.72-7.72 1.47 1.35L5.41 20z\"/>\n",
       "  </svg>\n",
       "      </button>\n",
       "      \n",
       "  <style>\n",
       "    .colab-df-container {\n",
       "      display:flex;\n",
       "      flex-wrap:wrap;\n",
       "      gap: 12px;\n",
       "    }\n",
       "\n",
       "    .colab-df-convert {\n",
       "      background-color: #E8F0FE;\n",
       "      border: none;\n",
       "      border-radius: 50%;\n",
       "      cursor: pointer;\n",
       "      display: none;\n",
       "      fill: #1967D2;\n",
       "      height: 32px;\n",
       "      padding: 0 0 0 0;\n",
       "      width: 32px;\n",
       "    }\n",
       "\n",
       "    .colab-df-convert:hover {\n",
       "      background-color: #E2EBFA;\n",
       "      box-shadow: 0px 1px 2px rgba(60, 64, 67, 0.3), 0px 1px 3px 1px rgba(60, 64, 67, 0.15);\n",
       "      fill: #174EA6;\n",
       "    }\n",
       "\n",
       "    [theme=dark] .colab-df-convert {\n",
       "      background-color: #3B4455;\n",
       "      fill: #D2E3FC;\n",
       "    }\n",
       "\n",
       "    [theme=dark] .colab-df-convert:hover {\n",
       "      background-color: #434B5C;\n",
       "      box-shadow: 0px 1px 3px 1px rgba(0, 0, 0, 0.15);\n",
       "      filter: drop-shadow(0px 1px 2px rgba(0, 0, 0, 0.3));\n",
       "      fill: #FFFFFF;\n",
       "    }\n",
       "  </style>\n",
       "\n",
       "      <script>\n",
       "        const buttonEl =\n",
       "          document.querySelector('#df-c0da73dd-3220-41bd-9007-0931347e638c button.colab-df-convert');\n",
       "        buttonEl.style.display =\n",
       "          google.colab.kernel.accessAllowed ? 'block' : 'none';\n",
       "\n",
       "        async function convertToInteractive(key) {\n",
       "          const element = document.querySelector('#df-c0da73dd-3220-41bd-9007-0931347e638c');\n",
       "          const dataTable =\n",
       "            await google.colab.kernel.invokeFunction('convertToInteractive',\n",
       "                                                     [key], {});\n",
       "          if (!dataTable) return;\n",
       "\n",
       "          const docLinkHtml = 'Like what you see? Visit the ' +\n",
       "            '<a target=\"_blank\" href=https://colab.research.google.com/notebooks/data_table.ipynb>data table notebook</a>'\n",
       "            + ' to learn more about interactive tables.';\n",
       "          element.innerHTML = '';\n",
       "          dataTable['output_type'] = 'display_data';\n",
       "          await google.colab.output.renderOutput(dataTable, element);\n",
       "          const docLink = document.createElement('div');\n",
       "          docLink.innerHTML = docLinkHtml;\n",
       "          element.appendChild(docLink);\n",
       "        }\n",
       "      </script>\n",
       "    </div>\n",
       "  </div>\n",
       "  "
      ],
      "text/plain": [
       "             type     amount     nameOrig  oldbalanceOrg  newbalanceOrig\n",
       "5132898   CASH_IN  271354.07  C1271206912       1.26e+06        1.53e+06\n",
       "5793448   PAYMENT    7271.54   C272275897       0.00e+00        0.00e+00\n",
       "1348718   PAYMENT   29050.54   C176137139       1.10e+04        0.00e+00\n",
       "2748374  TRANSFER   11932.17  C1054892250       0.00e+00        0.00e+00\n",
       "5244824  CASH_OUT   55322.77  C1130412002       0.00e+00        0.00e+00\n",
       "1419347   CASH_IN   73617.33  C1170131199       5.08e+03        7.87e+04\n",
       "3756099   CASH_IN  305297.19   C414253880       3.29e+04        3.38e+05\n",
       "2301297  CASH_OUT     682.13   C292624320       1.86e+05        1.85e+05\n",
       "2861200   PAYMENT    6540.66    C42874328       2.11e+04        1.46e+04\n",
       "1885825   PAYMENT    2765.93  C1220244218       0.00e+00        0.00e+00\n",
       "1754368   CASH_IN  229780.88  C1679558394       6.58e+05        8.88e+05\n",
       "5170784  CASH_OUT  101090.86   C440162171       0.00e+00        0.00e+00\n",
       "5618480  CASH_OUT    1860.40  C1451927706       0.00e+00        0.00e+00"
      ]
     },
     "execution_count": 6,
     "metadata": {},
     "output_type": "execute_result"
    }
   ],
   "source": [
    "dataset.loc[:,\"type\":\"newbalanceOrig\"].sample(frac=frac)"
   ]
  },
  {
   "cell_type": "markdown",
   "metadata": {
    "id": "u-xlO871pb8m"
   },
   "source": [
    "Verilerin sütunlara göre kaç adet non-null veri içerdiği ve veri tipinin gösterimi yapılmıştır."
   ]
  },
  {
   "cell_type": "code",
   "execution_count": 7,
   "metadata": {
    "colab": {
     "base_uri": "https://localhost:8080/"
    },
    "id": "QMCUSmAEpd7G",
    "outputId": "12761b18-6a5c-4427-ca31-13e9c0948485"
   },
   "outputs": [
    {
     "name": "stdout",
     "output_type": "stream",
     "text": [
      "<class 'pandas.core.frame.DataFrame'>\n",
      "RangeIndex: 6362620 entries, 0 to 6362619\n",
      "Data columns (total 11 columns):\n",
      " #   Column          Non-Null Count    Dtype  \n",
      "---  ------          --------------    -----  \n",
      " 0   step            6362620 non-null  int64  \n",
      " 1   type            6362620 non-null  object \n",
      " 2   amount          6362620 non-null  float64\n",
      " 3   nameOrig        6362620 non-null  object \n",
      " 4   oldbalanceOrg   6362620 non-null  float64\n",
      " 5   newbalanceOrig  6362620 non-null  float64\n",
      " 6   nameDest        6362620 non-null  object \n",
      " 7   oldbalanceDest  6362620 non-null  float64\n",
      " 8   newbalanceDest  6362620 non-null  float64\n",
      " 9   isFraud         6362620 non-null  int64  \n",
      " 10  isFlaggedFraud  6362620 non-null  int64  \n",
      "dtypes: float64(5), int64(3), object(3)\n",
      "memory usage: 534.0+ MB\n"
     ]
    }
   ],
   "source": [
    "dataset.info(show_counts=True)"
   ]
  },
  {
   "cell_type": "markdown",
   "metadata": {
    "id": "tS2CbsPYp7rt"
   },
   "source": [
    "Veri setinin istatiksel bilgilerinin gösterilmiştir (count mean std vb)"
   ]
  },
  {
   "cell_type": "code",
   "execution_count": 8,
   "metadata": {
    "colab": {
     "base_uri": "https://localhost:8080/",
     "height": 300
    },
    "id": "gw1lG0capeKl",
    "outputId": "424ff887-afff-4f56-cca4-3f83f83dc1ce"
   },
   "outputs": [
    {
     "data": {
      "text/html": [
       "\n",
       "  <div id=\"df-aadc9db9-bbbb-471d-8d63-c51553e4bc09\">\n",
       "    <div class=\"colab-df-container\">\n",
       "      <div>\n",
       "<style scoped>\n",
       "    .dataframe tbody tr th:only-of-type {\n",
       "        vertical-align: middle;\n",
       "    }\n",
       "\n",
       "    .dataframe tbody tr th {\n",
       "        vertical-align: top;\n",
       "    }\n",
       "\n",
       "    .dataframe thead th {\n",
       "        text-align: right;\n",
       "    }\n",
       "</style>\n",
       "<table border=\"1\" class=\"dataframe\">\n",
       "  <thead>\n",
       "    <tr style=\"text-align: right;\">\n",
       "      <th></th>\n",
       "      <th>count</th>\n",
       "      <th>mean</th>\n",
       "      <th>std</th>\n",
       "      <th>min</th>\n",
       "      <th>25%</th>\n",
       "      <th>50%</th>\n",
       "      <th>75%</th>\n",
       "      <th>max</th>\n",
       "    </tr>\n",
       "  </thead>\n",
       "  <tbody>\n",
       "    <tr>\n",
       "      <th>step</th>\n",
       "      <td>6.36e+06</td>\n",
       "      <td>2.43e+02</td>\n",
       "      <td>1.42e+02</td>\n",
       "      <td>1.0</td>\n",
       "      <td>156.00</td>\n",
       "      <td>239.00</td>\n",
       "      <td>3.35e+02</td>\n",
       "      <td>7.43e+02</td>\n",
       "    </tr>\n",
       "    <tr>\n",
       "      <th>amount</th>\n",
       "      <td>6.36e+06</td>\n",
       "      <td>1.80e+05</td>\n",
       "      <td>6.04e+05</td>\n",
       "      <td>0.0</td>\n",
       "      <td>13389.57</td>\n",
       "      <td>74871.94</td>\n",
       "      <td>2.09e+05</td>\n",
       "      <td>9.24e+07</td>\n",
       "    </tr>\n",
       "    <tr>\n",
       "      <th>oldbalanceOrg</th>\n",
       "      <td>6.36e+06</td>\n",
       "      <td>8.34e+05</td>\n",
       "      <td>2.89e+06</td>\n",
       "      <td>0.0</td>\n",
       "      <td>0.00</td>\n",
       "      <td>14208.00</td>\n",
       "      <td>1.07e+05</td>\n",
       "      <td>5.96e+07</td>\n",
       "    </tr>\n",
       "    <tr>\n",
       "      <th>newbalanceOrig</th>\n",
       "      <td>6.36e+06</td>\n",
       "      <td>8.55e+05</td>\n",
       "      <td>2.92e+06</td>\n",
       "      <td>0.0</td>\n",
       "      <td>0.00</td>\n",
       "      <td>0.00</td>\n",
       "      <td>1.44e+05</td>\n",
       "      <td>4.96e+07</td>\n",
       "    </tr>\n",
       "    <tr>\n",
       "      <th>oldbalanceDest</th>\n",
       "      <td>6.36e+06</td>\n",
       "      <td>1.10e+06</td>\n",
       "      <td>3.40e+06</td>\n",
       "      <td>0.0</td>\n",
       "      <td>0.00</td>\n",
       "      <td>132705.66</td>\n",
       "      <td>9.43e+05</td>\n",
       "      <td>3.56e+08</td>\n",
       "    </tr>\n",
       "    <tr>\n",
       "      <th>newbalanceDest</th>\n",
       "      <td>6.36e+06</td>\n",
       "      <td>1.22e+06</td>\n",
       "      <td>3.67e+06</td>\n",
       "      <td>0.0</td>\n",
       "      <td>0.00</td>\n",
       "      <td>214661.44</td>\n",
       "      <td>1.11e+06</td>\n",
       "      <td>3.56e+08</td>\n",
       "    </tr>\n",
       "    <tr>\n",
       "      <th>isFraud</th>\n",
       "      <td>6.36e+06</td>\n",
       "      <td>1.29e-03</td>\n",
       "      <td>3.59e-02</td>\n",
       "      <td>0.0</td>\n",
       "      <td>0.00</td>\n",
       "      <td>0.00</td>\n",
       "      <td>0.00e+00</td>\n",
       "      <td>1.00e+00</td>\n",
       "    </tr>\n",
       "    <tr>\n",
       "      <th>isFlaggedFraud</th>\n",
       "      <td>6.36e+06</td>\n",
       "      <td>2.51e-06</td>\n",
       "      <td>1.59e-03</td>\n",
       "      <td>0.0</td>\n",
       "      <td>0.00</td>\n",
       "      <td>0.00</td>\n",
       "      <td>0.00e+00</td>\n",
       "      <td>1.00e+00</td>\n",
       "    </tr>\n",
       "  </tbody>\n",
       "</table>\n",
       "</div>\n",
       "      <button class=\"colab-df-convert\" onclick=\"convertToInteractive('df-aadc9db9-bbbb-471d-8d63-c51553e4bc09')\"\n",
       "              title=\"Convert this dataframe to an interactive table.\"\n",
       "              style=\"display:none;\">\n",
       "        \n",
       "  <svg xmlns=\"http://www.w3.org/2000/svg\" height=\"24px\"viewBox=\"0 0 24 24\"\n",
       "       width=\"24px\">\n",
       "    <path d=\"M0 0h24v24H0V0z\" fill=\"none\"/>\n",
       "    <path d=\"M18.56 5.44l.94 2.06.94-2.06 2.06-.94-2.06-.94-.94-2.06-.94 2.06-2.06.94zm-11 1L8.5 8.5l.94-2.06 2.06-.94-2.06-.94L8.5 2.5l-.94 2.06-2.06.94zm10 10l.94 2.06.94-2.06 2.06-.94-2.06-.94-.94-2.06-.94 2.06-2.06.94z\"/><path d=\"M17.41 7.96l-1.37-1.37c-.4-.4-.92-.59-1.43-.59-.52 0-1.04.2-1.43.59L10.3 9.45l-7.72 7.72c-.78.78-.78 2.05 0 2.83L4 21.41c.39.39.9.59 1.41.59.51 0 1.02-.2 1.41-.59l7.78-7.78 2.81-2.81c.8-.78.8-2.07 0-2.86zM5.41 20L4 18.59l7.72-7.72 1.47 1.35L5.41 20z\"/>\n",
       "  </svg>\n",
       "      </button>\n",
       "      \n",
       "  <style>\n",
       "    .colab-df-container {\n",
       "      display:flex;\n",
       "      flex-wrap:wrap;\n",
       "      gap: 12px;\n",
       "    }\n",
       "\n",
       "    .colab-df-convert {\n",
       "      background-color: #E8F0FE;\n",
       "      border: none;\n",
       "      border-radius: 50%;\n",
       "      cursor: pointer;\n",
       "      display: none;\n",
       "      fill: #1967D2;\n",
       "      height: 32px;\n",
       "      padding: 0 0 0 0;\n",
       "      width: 32px;\n",
       "    }\n",
       "\n",
       "    .colab-df-convert:hover {\n",
       "      background-color: #E2EBFA;\n",
       "      box-shadow: 0px 1px 2px rgba(60, 64, 67, 0.3), 0px 1px 3px 1px rgba(60, 64, 67, 0.15);\n",
       "      fill: #174EA6;\n",
       "    }\n",
       "\n",
       "    [theme=dark] .colab-df-convert {\n",
       "      background-color: #3B4455;\n",
       "      fill: #D2E3FC;\n",
       "    }\n",
       "\n",
       "    [theme=dark] .colab-df-convert:hover {\n",
       "      background-color: #434B5C;\n",
       "      box-shadow: 0px 1px 3px 1px rgba(0, 0, 0, 0.15);\n",
       "      filter: drop-shadow(0px 1px 2px rgba(0, 0, 0, 0.3));\n",
       "      fill: #FFFFFF;\n",
       "    }\n",
       "  </style>\n",
       "\n",
       "      <script>\n",
       "        const buttonEl =\n",
       "          document.querySelector('#df-aadc9db9-bbbb-471d-8d63-c51553e4bc09 button.colab-df-convert');\n",
       "        buttonEl.style.display =\n",
       "          google.colab.kernel.accessAllowed ? 'block' : 'none';\n",
       "\n",
       "        async function convertToInteractive(key) {\n",
       "          const element = document.querySelector('#df-aadc9db9-bbbb-471d-8d63-c51553e4bc09');\n",
       "          const dataTable =\n",
       "            await google.colab.kernel.invokeFunction('convertToInteractive',\n",
       "                                                     [key], {});\n",
       "          if (!dataTable) return;\n",
       "\n",
       "          const docLinkHtml = 'Like what you see? Visit the ' +\n",
       "            '<a target=\"_blank\" href=https://colab.research.google.com/notebooks/data_table.ipynb>data table notebook</a>'\n",
       "            + ' to learn more about interactive tables.';\n",
       "          element.innerHTML = '';\n",
       "          dataTable['output_type'] = 'display_data';\n",
       "          await google.colab.output.renderOutput(dataTable, element);\n",
       "          const docLink = document.createElement('div');\n",
       "          docLink.innerHTML = docLinkHtml;\n",
       "          element.appendChild(docLink);\n",
       "        }\n",
       "      </script>\n",
       "    </div>\n",
       "  </div>\n",
       "  "
      ],
      "text/plain": [
       "                   count      mean       std  min       25%        50%  \\\n",
       "step            6.36e+06  2.43e+02  1.42e+02  1.0    156.00     239.00   \n",
       "amount          6.36e+06  1.80e+05  6.04e+05  0.0  13389.57   74871.94   \n",
       "oldbalanceOrg   6.36e+06  8.34e+05  2.89e+06  0.0      0.00   14208.00   \n",
       "newbalanceOrig  6.36e+06  8.55e+05  2.92e+06  0.0      0.00       0.00   \n",
       "oldbalanceDest  6.36e+06  1.10e+06  3.40e+06  0.0      0.00  132705.66   \n",
       "newbalanceDest  6.36e+06  1.22e+06  3.67e+06  0.0      0.00  214661.44   \n",
       "isFraud         6.36e+06  1.29e-03  3.59e-02  0.0      0.00       0.00   \n",
       "isFlaggedFraud  6.36e+06  2.51e-06  1.59e-03  0.0      0.00       0.00   \n",
       "\n",
       "                     75%       max  \n",
       "step            3.35e+02  7.43e+02  \n",
       "amount          2.09e+05  9.24e+07  \n",
       "oldbalanceOrg   1.07e+05  5.96e+07  \n",
       "newbalanceOrig  1.44e+05  4.96e+07  \n",
       "oldbalanceDest  9.43e+05  3.56e+08  \n",
       "newbalanceDest  1.11e+06  3.56e+08  \n",
       "isFraud         0.00e+00  1.00e+00  \n",
       "isFlaggedFraud  0.00e+00  1.00e+00  "
      ]
     },
     "execution_count": 8,
     "metadata": {},
     "output_type": "execute_result"
    }
   ],
   "source": [
    "dataset.describe().T"
   ]
  },
  {
   "cell_type": "markdown",
   "metadata": {
    "id": "W1fR13XvtF2s"
   },
   "source": [
    "Kategorik Değişkenlerin de incelenmesi görülmüştür."
   ]
  },
  {
   "cell_type": "code",
   "execution_count": 9,
   "metadata": {
    "colab": {
     "base_uri": "https://localhost:8080/",
     "height": 394
    },
    "id": "LUY7dgIetGmU",
    "outputId": "013b2035-3f13-489f-9d29-f77dedb79009"
   },
   "outputs": [
    {
     "data": {
      "text/html": [
       "\n",
       "  <div id=\"df-37ea9dd4-1d83-4aae-8032-e836454c9fb4\">\n",
       "    <div class=\"colab-df-container\">\n",
       "      <div>\n",
       "<style scoped>\n",
       "    .dataframe tbody tr th:only-of-type {\n",
       "        vertical-align: middle;\n",
       "    }\n",
       "\n",
       "    .dataframe tbody tr th {\n",
       "        vertical-align: top;\n",
       "    }\n",
       "\n",
       "    .dataframe thead th {\n",
       "        text-align: right;\n",
       "    }\n",
       "</style>\n",
       "<table border=\"1\" class=\"dataframe\">\n",
       "  <thead>\n",
       "    <tr style=\"text-align: right;\">\n",
       "      <th></th>\n",
       "      <th>count</th>\n",
       "      <th>unique</th>\n",
       "      <th>top</th>\n",
       "      <th>freq</th>\n",
       "      <th>mean</th>\n",
       "      <th>std</th>\n",
       "      <th>min</th>\n",
       "      <th>25%</th>\n",
       "      <th>50%</th>\n",
       "      <th>75%</th>\n",
       "      <th>max</th>\n",
       "    </tr>\n",
       "  </thead>\n",
       "  <tbody>\n",
       "    <tr>\n",
       "      <th>step</th>\n",
       "      <td>6362620.0</td>\n",
       "      <td>NaN</td>\n",
       "      <td>NaN</td>\n",
       "      <td>NaN</td>\n",
       "      <td>243.4</td>\n",
       "      <td>142.33</td>\n",
       "      <td>1.0</td>\n",
       "      <td>156.0</td>\n",
       "      <td>239.0</td>\n",
       "      <td>335.0</td>\n",
       "      <td>743.0</td>\n",
       "    </tr>\n",
       "    <tr>\n",
       "      <th>type</th>\n",
       "      <td>6362620</td>\n",
       "      <td>5</td>\n",
       "      <td>CASH_OUT</td>\n",
       "      <td>2237500</td>\n",
       "      <td>NaN</td>\n",
       "      <td>NaN</td>\n",
       "      <td>NaN</td>\n",
       "      <td>NaN</td>\n",
       "      <td>NaN</td>\n",
       "      <td>NaN</td>\n",
       "      <td>NaN</td>\n",
       "    </tr>\n",
       "    <tr>\n",
       "      <th>amount</th>\n",
       "      <td>6362620.0</td>\n",
       "      <td>NaN</td>\n",
       "      <td>NaN</td>\n",
       "      <td>NaN</td>\n",
       "      <td>179861.9</td>\n",
       "      <td>603858.23</td>\n",
       "      <td>0.0</td>\n",
       "      <td>13389.57</td>\n",
       "      <td>74871.94</td>\n",
       "      <td>208721.48</td>\n",
       "      <td>92445516.64</td>\n",
       "    </tr>\n",
       "    <tr>\n",
       "      <th>nameOrig</th>\n",
       "      <td>6362620</td>\n",
       "      <td>6353307</td>\n",
       "      <td>C1902386530</td>\n",
       "      <td>3</td>\n",
       "      <td>NaN</td>\n",
       "      <td>NaN</td>\n",
       "      <td>NaN</td>\n",
       "      <td>NaN</td>\n",
       "      <td>NaN</td>\n",
       "      <td>NaN</td>\n",
       "      <td>NaN</td>\n",
       "    </tr>\n",
       "    <tr>\n",
       "      <th>oldbalanceOrg</th>\n",
       "      <td>6362620.0</td>\n",
       "      <td>NaN</td>\n",
       "      <td>NaN</td>\n",
       "      <td>NaN</td>\n",
       "      <td>833883.1</td>\n",
       "      <td>2888242.67</td>\n",
       "      <td>0.0</td>\n",
       "      <td>0.0</td>\n",
       "      <td>14208.0</td>\n",
       "      <td>107315.18</td>\n",
       "      <td>59585040.37</td>\n",
       "    </tr>\n",
       "    <tr>\n",
       "      <th>newbalanceOrig</th>\n",
       "      <td>6362620.0</td>\n",
       "      <td>NaN</td>\n",
       "      <td>NaN</td>\n",
       "      <td>NaN</td>\n",
       "      <td>855113.67</td>\n",
       "      <td>2924048.5</td>\n",
       "      <td>0.0</td>\n",
       "      <td>0.0</td>\n",
       "      <td>0.0</td>\n",
       "      <td>144258.41</td>\n",
       "      <td>49585040.37</td>\n",
       "    </tr>\n",
       "    <tr>\n",
       "      <th>nameDest</th>\n",
       "      <td>6362620</td>\n",
       "      <td>2722362</td>\n",
       "      <td>C1286084959</td>\n",
       "      <td>113</td>\n",
       "      <td>NaN</td>\n",
       "      <td>NaN</td>\n",
       "      <td>NaN</td>\n",
       "      <td>NaN</td>\n",
       "      <td>NaN</td>\n",
       "      <td>NaN</td>\n",
       "      <td>NaN</td>\n",
       "    </tr>\n",
       "    <tr>\n",
       "      <th>oldbalanceDest</th>\n",
       "      <td>6362620.0</td>\n",
       "      <td>NaN</td>\n",
       "      <td>NaN</td>\n",
       "      <td>NaN</td>\n",
       "      <td>1100701.67</td>\n",
       "      <td>3399180.11</td>\n",
       "      <td>0.0</td>\n",
       "      <td>0.0</td>\n",
       "      <td>132705.66</td>\n",
       "      <td>943036.71</td>\n",
       "      <td>356015889.35</td>\n",
       "    </tr>\n",
       "    <tr>\n",
       "      <th>newbalanceDest</th>\n",
       "      <td>6362620.0</td>\n",
       "      <td>NaN</td>\n",
       "      <td>NaN</td>\n",
       "      <td>NaN</td>\n",
       "      <td>1224996.4</td>\n",
       "      <td>3674128.94</td>\n",
       "      <td>0.0</td>\n",
       "      <td>0.0</td>\n",
       "      <td>214661.44</td>\n",
       "      <td>1111909.25</td>\n",
       "      <td>356179278.92</td>\n",
       "    </tr>\n",
       "    <tr>\n",
       "      <th>isFraud</th>\n",
       "      <td>6362620.0</td>\n",
       "      <td>NaN</td>\n",
       "      <td>NaN</td>\n",
       "      <td>NaN</td>\n",
       "      <td>0.0</td>\n",
       "      <td>0.04</td>\n",
       "      <td>0.0</td>\n",
       "      <td>0.0</td>\n",
       "      <td>0.0</td>\n",
       "      <td>0.0</td>\n",
       "      <td>1.0</td>\n",
       "    </tr>\n",
       "    <tr>\n",
       "      <th>isFlaggedFraud</th>\n",
       "      <td>6362620.0</td>\n",
       "      <td>NaN</td>\n",
       "      <td>NaN</td>\n",
       "      <td>NaN</td>\n",
       "      <td>0.0</td>\n",
       "      <td>0.0</td>\n",
       "      <td>0.0</td>\n",
       "      <td>0.0</td>\n",
       "      <td>0.0</td>\n",
       "      <td>0.0</td>\n",
       "      <td>1.0</td>\n",
       "    </tr>\n",
       "  </tbody>\n",
       "</table>\n",
       "</div>\n",
       "      <button class=\"colab-df-convert\" onclick=\"convertToInteractive('df-37ea9dd4-1d83-4aae-8032-e836454c9fb4')\"\n",
       "              title=\"Convert this dataframe to an interactive table.\"\n",
       "              style=\"display:none;\">\n",
       "        \n",
       "  <svg xmlns=\"http://www.w3.org/2000/svg\" height=\"24px\"viewBox=\"0 0 24 24\"\n",
       "       width=\"24px\">\n",
       "    <path d=\"M0 0h24v24H0V0z\" fill=\"none\"/>\n",
       "    <path d=\"M18.56 5.44l.94 2.06.94-2.06 2.06-.94-2.06-.94-.94-2.06-.94 2.06-2.06.94zm-11 1L8.5 8.5l.94-2.06 2.06-.94-2.06-.94L8.5 2.5l-.94 2.06-2.06.94zm10 10l.94 2.06.94-2.06 2.06-.94-2.06-.94-.94-2.06-.94 2.06-2.06.94z\"/><path d=\"M17.41 7.96l-1.37-1.37c-.4-.4-.92-.59-1.43-.59-.52 0-1.04.2-1.43.59L10.3 9.45l-7.72 7.72c-.78.78-.78 2.05 0 2.83L4 21.41c.39.39.9.59 1.41.59.51 0 1.02-.2 1.41-.59l7.78-7.78 2.81-2.81c.8-.78.8-2.07 0-2.86zM5.41 20L4 18.59l7.72-7.72 1.47 1.35L5.41 20z\"/>\n",
       "  </svg>\n",
       "      </button>\n",
       "      \n",
       "  <style>\n",
       "    .colab-df-container {\n",
       "      display:flex;\n",
       "      flex-wrap:wrap;\n",
       "      gap: 12px;\n",
       "    }\n",
       "\n",
       "    .colab-df-convert {\n",
       "      background-color: #E8F0FE;\n",
       "      border: none;\n",
       "      border-radius: 50%;\n",
       "      cursor: pointer;\n",
       "      display: none;\n",
       "      fill: #1967D2;\n",
       "      height: 32px;\n",
       "      padding: 0 0 0 0;\n",
       "      width: 32px;\n",
       "    }\n",
       "\n",
       "    .colab-df-convert:hover {\n",
       "      background-color: #E2EBFA;\n",
       "      box-shadow: 0px 1px 2px rgba(60, 64, 67, 0.3), 0px 1px 3px 1px rgba(60, 64, 67, 0.15);\n",
       "      fill: #174EA6;\n",
       "    }\n",
       "\n",
       "    [theme=dark] .colab-df-convert {\n",
       "      background-color: #3B4455;\n",
       "      fill: #D2E3FC;\n",
       "    }\n",
       "\n",
       "    [theme=dark] .colab-df-convert:hover {\n",
       "      background-color: #434B5C;\n",
       "      box-shadow: 0px 1px 3px 1px rgba(0, 0, 0, 0.15);\n",
       "      filter: drop-shadow(0px 1px 2px rgba(0, 0, 0, 0.3));\n",
       "      fill: #FFFFFF;\n",
       "    }\n",
       "  </style>\n",
       "\n",
       "      <script>\n",
       "        const buttonEl =\n",
       "          document.querySelector('#df-37ea9dd4-1d83-4aae-8032-e836454c9fb4 button.colab-df-convert');\n",
       "        buttonEl.style.display =\n",
       "          google.colab.kernel.accessAllowed ? 'block' : 'none';\n",
       "\n",
       "        async function convertToInteractive(key) {\n",
       "          const element = document.querySelector('#df-37ea9dd4-1d83-4aae-8032-e836454c9fb4');\n",
       "          const dataTable =\n",
       "            await google.colab.kernel.invokeFunction('convertToInteractive',\n",
       "                                                     [key], {});\n",
       "          if (!dataTable) return;\n",
       "\n",
       "          const docLinkHtml = 'Like what you see? Visit the ' +\n",
       "            '<a target=\"_blank\" href=https://colab.research.google.com/notebooks/data_table.ipynb>data table notebook</a>'\n",
       "            + ' to learn more about interactive tables.';\n",
       "          element.innerHTML = '';\n",
       "          dataTable['output_type'] = 'display_data';\n",
       "          await google.colab.output.renderOutput(dataTable, element);\n",
       "          const docLink = document.createElement('div');\n",
       "          docLink.innerHTML = docLinkHtml;\n",
       "          element.appendChild(docLink);\n",
       "        }\n",
       "      </script>\n",
       "    </div>\n",
       "  </div>\n",
       "  "
      ],
      "text/plain": [
       "                    count   unique          top     freq        mean  \\\n",
       "step            6362620.0      NaN          NaN      NaN       243.4   \n",
       "type              6362620        5     CASH_OUT  2237500         NaN   \n",
       "amount          6362620.0      NaN          NaN      NaN    179861.9   \n",
       "nameOrig          6362620  6353307  C1902386530        3         NaN   \n",
       "oldbalanceOrg   6362620.0      NaN          NaN      NaN    833883.1   \n",
       "newbalanceOrig  6362620.0      NaN          NaN      NaN   855113.67   \n",
       "nameDest          6362620  2722362  C1286084959      113         NaN   \n",
       "oldbalanceDest  6362620.0      NaN          NaN      NaN  1100701.67   \n",
       "newbalanceDest  6362620.0      NaN          NaN      NaN   1224996.4   \n",
       "isFraud         6362620.0      NaN          NaN      NaN         0.0   \n",
       "isFlaggedFraud  6362620.0      NaN          NaN      NaN         0.0   \n",
       "\n",
       "                       std  min       25%        50%         75%           max  \n",
       "step                142.33  1.0     156.0      239.0       335.0         743.0  \n",
       "type                   NaN  NaN       NaN        NaN         NaN           NaN  \n",
       "amount           603858.23  0.0  13389.57   74871.94   208721.48   92445516.64  \n",
       "nameOrig               NaN  NaN       NaN        NaN         NaN           NaN  \n",
       "oldbalanceOrg   2888242.67  0.0       0.0    14208.0   107315.18   59585040.37  \n",
       "newbalanceOrig   2924048.5  0.0       0.0        0.0   144258.41   49585040.37  \n",
       "nameDest               NaN  NaN       NaN        NaN         NaN           NaN  \n",
       "oldbalanceDest  3399180.11  0.0       0.0  132705.66   943036.71  356015889.35  \n",
       "newbalanceDest  3674128.94  0.0       0.0  214661.44  1111909.25  356179278.92  \n",
       "isFraud               0.04  0.0       0.0        0.0         0.0           1.0  \n",
       "isFlaggedFraud         0.0  0.0       0.0        0.0         0.0           1.0  "
      ]
     },
     "execution_count": 9,
     "metadata": {},
     "output_type": "execute_result"
    }
   ],
   "source": [
    "dataset.describe(include = \"all\").T"
   ]
  },
  {
   "cell_type": "markdown",
   "metadata": {
    "id": "diawjLwbsL-I"
   },
   "source": [
    "## Kategorik Özniteliklerin incelenmesi\n",
    "\n",
    "nameOrig ve nameDest değişkenlerinin,yukarıda gördüğümüz üzer benzersiz değerleri çok fazla olduğu için incelenmemiştir."
   ]
  },
  {
   "cell_type": "code",
   "execution_count": 10,
   "metadata": {
    "id": "ZCXJiRMgr-Fh"
   },
   "outputs": [],
   "source": [
    "categoricalColumns = dataset.select_dtypes(include = [\"object\"])\n"
   ]
  },
  {
   "cell_type": "code",
   "execution_count": 11,
   "metadata": {
    "colab": {
     "base_uri": "https://localhost:8080/",
     "height": 457
    },
    "id": "W01dHo3zsFeS",
    "outputId": "2c49849c-73ae-412c-a526-27fd246a2bfd"
   },
   "outputs": [
    {
     "data": {
      "text/html": [
       "\n",
       "  <div id=\"df-c767b5b3-e0a6-43d6-9bfe-29f99b2605a0\">\n",
       "    <div class=\"colab-df-container\">\n",
       "      <div>\n",
       "<style scoped>\n",
       "    .dataframe tbody tr th:only-of-type {\n",
       "        vertical-align: middle;\n",
       "    }\n",
       "\n",
       "    .dataframe tbody tr th {\n",
       "        vertical-align: top;\n",
       "    }\n",
       "\n",
       "    .dataframe thead th {\n",
       "        text-align: right;\n",
       "    }\n",
       "</style>\n",
       "<table border=\"1\" class=\"dataframe\">\n",
       "  <thead>\n",
       "    <tr style=\"text-align: right;\">\n",
       "      <th></th>\n",
       "      <th>type</th>\n",
       "      <th>nameOrig</th>\n",
       "      <th>nameDest</th>\n",
       "    </tr>\n",
       "  </thead>\n",
       "  <tbody>\n",
       "    <tr>\n",
       "      <th>2237751</th>\n",
       "      <td>PAYMENT</td>\n",
       "      <td>C1596944500</td>\n",
       "      <td>M1860205251</td>\n",
       "    </tr>\n",
       "    <tr>\n",
       "      <th>1456343</th>\n",
       "      <td>CASH_OUT</td>\n",
       "      <td>C1654655103</td>\n",
       "      <td>C956179031</td>\n",
       "    </tr>\n",
       "    <tr>\n",
       "      <th>5994728</th>\n",
       "      <td>CASH_OUT</td>\n",
       "      <td>C1599256287</td>\n",
       "      <td>C1406296898</td>\n",
       "    </tr>\n",
       "    <tr>\n",
       "      <th>5785508</th>\n",
       "      <td>CASH_IN</td>\n",
       "      <td>C1331804192</td>\n",
       "      <td>C1250196663</td>\n",
       "    </tr>\n",
       "    <tr>\n",
       "      <th>1415839</th>\n",
       "      <td>TRANSFER</td>\n",
       "      <td>C660919574</td>\n",
       "      <td>C642567132</td>\n",
       "    </tr>\n",
       "    <tr>\n",
       "      <th>1341376</th>\n",
       "      <td>TRANSFER</td>\n",
       "      <td>C1846778278</td>\n",
       "      <td>C1727128330</td>\n",
       "    </tr>\n",
       "    <tr>\n",
       "      <th>433010</th>\n",
       "      <td>PAYMENT</td>\n",
       "      <td>C1452635435</td>\n",
       "      <td>M1926361201</td>\n",
       "    </tr>\n",
       "    <tr>\n",
       "      <th>2029893</th>\n",
       "      <td>CASH_OUT</td>\n",
       "      <td>C830771520</td>\n",
       "      <td>C711033364</td>\n",
       "    </tr>\n",
       "    <tr>\n",
       "      <th>5109742</th>\n",
       "      <td>CASH_OUT</td>\n",
       "      <td>C1711771731</td>\n",
       "      <td>C996744983</td>\n",
       "    </tr>\n",
       "    <tr>\n",
       "      <th>4578661</th>\n",
       "      <td>PAYMENT</td>\n",
       "      <td>C953463501</td>\n",
       "      <td>M2045100600</td>\n",
       "    </tr>\n",
       "    <tr>\n",
       "      <th>514313</th>\n",
       "      <td>PAYMENT</td>\n",
       "      <td>C723194260</td>\n",
       "      <td>M552391852</td>\n",
       "    </tr>\n",
       "    <tr>\n",
       "      <th>421398</th>\n",
       "      <td>PAYMENT</td>\n",
       "      <td>C1504294899</td>\n",
       "      <td>M1725262383</td>\n",
       "    </tr>\n",
       "    <tr>\n",
       "      <th>5523121</th>\n",
       "      <td>CASH_OUT</td>\n",
       "      <td>C427118958</td>\n",
       "      <td>C1008344066</td>\n",
       "    </tr>\n",
       "  </tbody>\n",
       "</table>\n",
       "</div>\n",
       "      <button class=\"colab-df-convert\" onclick=\"convertToInteractive('df-c767b5b3-e0a6-43d6-9bfe-29f99b2605a0')\"\n",
       "              title=\"Convert this dataframe to an interactive table.\"\n",
       "              style=\"display:none;\">\n",
       "        \n",
       "  <svg xmlns=\"http://www.w3.org/2000/svg\" height=\"24px\"viewBox=\"0 0 24 24\"\n",
       "       width=\"24px\">\n",
       "    <path d=\"M0 0h24v24H0V0z\" fill=\"none\"/>\n",
       "    <path d=\"M18.56 5.44l.94 2.06.94-2.06 2.06-.94-2.06-.94-.94-2.06-.94 2.06-2.06.94zm-11 1L8.5 8.5l.94-2.06 2.06-.94-2.06-.94L8.5 2.5l-.94 2.06-2.06.94zm10 10l.94 2.06.94-2.06 2.06-.94-2.06-.94-.94-2.06-.94 2.06-2.06.94z\"/><path d=\"M17.41 7.96l-1.37-1.37c-.4-.4-.92-.59-1.43-.59-.52 0-1.04.2-1.43.59L10.3 9.45l-7.72 7.72c-.78.78-.78 2.05 0 2.83L4 21.41c.39.39.9.59 1.41.59.51 0 1.02-.2 1.41-.59l7.78-7.78 2.81-2.81c.8-.78.8-2.07 0-2.86zM5.41 20L4 18.59l7.72-7.72 1.47 1.35L5.41 20z\"/>\n",
       "  </svg>\n",
       "      </button>\n",
       "      \n",
       "  <style>\n",
       "    .colab-df-container {\n",
       "      display:flex;\n",
       "      flex-wrap:wrap;\n",
       "      gap: 12px;\n",
       "    }\n",
       "\n",
       "    .colab-df-convert {\n",
       "      background-color: #E8F0FE;\n",
       "      border: none;\n",
       "      border-radius: 50%;\n",
       "      cursor: pointer;\n",
       "      display: none;\n",
       "      fill: #1967D2;\n",
       "      height: 32px;\n",
       "      padding: 0 0 0 0;\n",
       "      width: 32px;\n",
       "    }\n",
       "\n",
       "    .colab-df-convert:hover {\n",
       "      background-color: #E2EBFA;\n",
       "      box-shadow: 0px 1px 2px rgba(60, 64, 67, 0.3), 0px 1px 3px 1px rgba(60, 64, 67, 0.15);\n",
       "      fill: #174EA6;\n",
       "    }\n",
       "\n",
       "    [theme=dark] .colab-df-convert {\n",
       "      background-color: #3B4455;\n",
       "      fill: #D2E3FC;\n",
       "    }\n",
       "\n",
       "    [theme=dark] .colab-df-convert:hover {\n",
       "      background-color: #434B5C;\n",
       "      box-shadow: 0px 1px 3px 1px rgba(0, 0, 0, 0.15);\n",
       "      filter: drop-shadow(0px 1px 2px rgba(0, 0, 0, 0.3));\n",
       "      fill: #FFFFFF;\n",
       "    }\n",
       "  </style>\n",
       "\n",
       "      <script>\n",
       "        const buttonEl =\n",
       "          document.querySelector('#df-c767b5b3-e0a6-43d6-9bfe-29f99b2605a0 button.colab-df-convert');\n",
       "        buttonEl.style.display =\n",
       "          google.colab.kernel.accessAllowed ? 'block' : 'none';\n",
       "\n",
       "        async function convertToInteractive(key) {\n",
       "          const element = document.querySelector('#df-c767b5b3-e0a6-43d6-9bfe-29f99b2605a0');\n",
       "          const dataTable =\n",
       "            await google.colab.kernel.invokeFunction('convertToInteractive',\n",
       "                                                     [key], {});\n",
       "          if (!dataTable) return;\n",
       "\n",
       "          const docLinkHtml = 'Like what you see? Visit the ' +\n",
       "            '<a target=\"_blank\" href=https://colab.research.google.com/notebooks/data_table.ipynb>data table notebook</a>'\n",
       "            + ' to learn more about interactive tables.';\n",
       "          element.innerHTML = '';\n",
       "          dataTable['output_type'] = 'display_data';\n",
       "          await google.colab.output.renderOutput(dataTable, element);\n",
       "          const docLink = document.createElement('div');\n",
       "          docLink.innerHTML = docLinkHtml;\n",
       "          element.appendChild(docLink);\n",
       "        }\n",
       "      </script>\n",
       "    </div>\n",
       "  </div>\n",
       "  "
      ],
      "text/plain": [
       "             type     nameOrig     nameDest\n",
       "2237751   PAYMENT  C1596944500  M1860205251\n",
       "1456343  CASH_OUT  C1654655103   C956179031\n",
       "5994728  CASH_OUT  C1599256287  C1406296898\n",
       "5785508   CASH_IN  C1331804192  C1250196663\n",
       "1415839  TRANSFER   C660919574   C642567132\n",
       "1341376  TRANSFER  C1846778278  C1727128330\n",
       "433010    PAYMENT  C1452635435  M1926361201\n",
       "2029893  CASH_OUT   C830771520   C711033364\n",
       "5109742  CASH_OUT  C1711771731   C996744983\n",
       "4578661   PAYMENT   C953463501  M2045100600\n",
       "514313    PAYMENT   C723194260   M552391852\n",
       "421398    PAYMENT  C1504294899  M1725262383\n",
       "5523121  CASH_OUT   C427118958  C1008344066"
      ]
     },
     "execution_count": 11,
     "metadata": {},
     "output_type": "execute_result"
    }
   ],
   "source": [
    "categoricalColumns.sample(frac=frac)"
   ]
  },
  {
   "cell_type": "code",
   "execution_count": 12,
   "metadata": {
    "colab": {
     "base_uri": "https://localhost:8080/"
    },
    "id": "SsI4zUzysWqG",
    "outputId": "bcc3ac81-82c9-478d-d2d7-1fc8beba2a81"
   },
   "outputs": [
    {
     "data": {
      "text/plain": [
       "array(['PAYMENT', 'TRANSFER', 'CASH_OUT', 'DEBIT', 'CASH_IN'],\n",
       "      dtype=object)"
      ]
     },
     "execution_count": 12,
     "metadata": {},
     "output_type": "execute_result"
    }
   ],
   "source": [
    "categoricalColumns[\"type\"].unique()"
   ]
  },
  {
   "cell_type": "code",
   "execution_count": 13,
   "metadata": {
    "colab": {
     "base_uri": "https://localhost:8080/"
    },
    "id": "0eOFKYZnse0d",
    "outputId": "6fe01c12-51a7-4c2c-f139-35f54716367d"
   },
   "outputs": [
    {
     "data": {
      "text/plain": [
       "CASH_OUT    2237500\n",
       "PAYMENT     2151495\n",
       "CASH_IN     1399284\n",
       "TRANSFER     532909\n",
       "DEBIT         41432\n",
       "Name: type, dtype: int64"
      ]
     },
     "execution_count": 13,
     "metadata": {},
     "output_type": "execute_result"
    }
   ],
   "source": [
    "categoricalColumns[\"type\"].value_counts()"
   ]
  },
  {
   "cell_type": "code",
   "execution_count": 14,
   "metadata": {
    "colab": {
     "base_uri": "https://localhost:8080/",
     "height": 278
    },
    "id": "4j-2sQxFs3FF",
    "outputId": "62184c5f-867a-49a7-da19-cf7d75d57fcb"
   },
   "outputs": [
    {
     "data": {
      "image/png": "[encoded data removed]",
      "text/plain": [
       "<Figure size 432x288 with 1 Axes>"
      ]
     },
     "metadata": {
      "needs_background": "light"
     },
     "output_type": "display_data"
    }
   ],
   "source": [
    "categoricalColumns[\"type\"].value_counts().plot.barh();"
   ]
  },
  {
   "cell_type": "code",
   "execution_count": 15,
   "metadata": {
    "colab": {
     "base_uri": "https://localhost:8080/",
     "height": 542
    },
    "id": "NxlRwcMGthAH",
    "outputId": "14a4d48d-ec16-4b4b-a820-f2bde84516bc"
   },
   "outputs": [
    {
     "data": {
      "text/html": [
       "<html>\n",
       "<head><meta charset=\"utf-8\" /></head>\n",
       "<body>\n",
       "    <div>            <script src=\"https://cdnjs.cloudflare.com/ajax/libs/mathjax/2.7.5/MathJax.js?config=TeX-AMS-MML_SVG\"></script><script type=\"text/javascript\">if (window.MathJax) {MathJax.Hub.Config({SVG: {font: \"STIX-Web\"}});}</script>                <script type=\"text/javascript\">window.PlotlyConfig = {MathJaxConfig: 'local'};</script>\n",
       "        <script src=\"https://cdn.plot.ly/plotly-2.8.3.min.js\"></script>                <div id=\"1a2251f5-31f0-4a35-a4d9-e2c24d2cfd6f\" class=\"plotly-graph-div\" style=\"height:525px; width:100%;\"></div>            <script type=\"text/javascript\">                                    window.PLOTLYENV=window.PLOTLYENV || {};                                    if (document.getElementById(\"1a2251f5-31f0-4a35-a4d9-e2c24d2cfd6f\")) {                    Plotly.newPlot(                        \"1a2251f5-31f0-4a35-a4d9-e2c24d2cfd6f\",                        [{\"domain\":{\"x\":[0.0,1.0],\"y\":[0.0,1.0]},\"hole\":0.5,\"hovertemplate\":\"label=%{label}<br>value=%{value}<extra></extra>\",\"labels\":[\"CASH_OUT\",\"PAYMENT\",\"CASH_IN\",\"TRANSFER\",\"DEBIT\"],\"legendgroup\":\"\",\"name\":\"\",\"showlegend\":true,\"values\":[2237500,2151495,1399284,532909,41432],\"type\":\"pie\"}],                        {\"template\":{\"data\":{\"bar\":[{\"error_x\":{\"color\":\"#2a3f5f\"},\"error_y\":{\"color\":\"#2a3f5f\"},\"marker\":{\"line\":{\"color\":\"#E5ECF6\",\"width\":0.5},\"pattern\":{\"fillmode\":\"overlay\",\"size\":10,\"solidity\":0.2}},\"type\":\"bar\"}],\"barpolar\":[{\"marker\":{\"line\":{\"color\":\"#E5ECF6\",\"width\":0.5},\"pattern\":{\"fillmode\":\"overlay\",\"size\":10,\"solidity\":0.2}},\"type\":\"barpolar\"}],\"carpet\":[{\"aaxis\":{\"endlinecolor\":\"#2a3f5f\",\"gridcolor\":\"white\",\"linecolor\":\"white\",\"minorgridcolor\":\"white\",\"startlinecolor\":\"#2a3f5f\"},\"baxis\":{\"endlinecolor\":\"#2a3f5f\",\"gridcolor\":\"white\",\"linecolor\":\"white\",\"minorgridcolor\":\"white\",\"startlinecolor\":\"#2a3f5f\"},\"type\":\"carpet\"}],\"choropleth\":[{\"colorbar\":{\"outlinewidth\":0,\"ticks\":\"\"},\"type\":\"choropleth\"}],\"contour\":[{\"colorbar\":{\"outlinewidth\":0,\"ticks\":\"\"},\"colorscale\":[[0.0,\"#0d0887\"],[0.1111111111111111,\"#46039f\"],[0.2222222222222222,\"#7201a8\"],[0.3333333333333333,\"#9c179e\"],[0.4444444444444444,\"#bd3786\"],[0.5555555555555556,\"#d8576b\"],[0.6666666666666666,\"#ed7953\"],[0.7777777777777778,\"#fb9f3a\"],[0.8888888888888888,\"#fdca26\"],[1.0,\"#f0f921\"]],\"type\":\"contour\"}],\"contourcarpet\":[{\"colorbar\":{\"outlinewidth\":0,\"ticks\":\"\"},\"type\":\"contourcarpet\"}],\"heatmap\":[{\"colorbar\":{\"outlinewidth\":0,\"ticks\":\"\"},\"colorscale\":[[0.0,\"#0d0887\"],[0.1111111111111111,\"#46039f\"],[0.2222222222222222,\"#7201a8\"],[0.3333333333333333,\"#9c179e\"],[0.4444444444444444,\"#bd3786\"],[0.5555555555555556,\"#d8576b\"],[0.6666666666666666,\"#ed7953\"],[0.7777777777777778,\"#fb9f3a\"],[0.8888888888888888,\"#fdca26\"],[1.0,\"#f0f921\"]],\"type\":\"heatmap\"}],\"heatmapgl\":[{\"colorbar\":{\"outlinewidth\":0,\"ticks\":\"\"},\"colorscale\":[[0.0,\"#0d0887\"],[0.1111111111111111,\"#46039f\"],[0.2222222222222222,\"#7201a8\"],[0.3333333333333333,\"#9c179e\"],[0.4444444444444444,\"#bd3786\"],[0.5555555555555556,\"#d8576b\"],[0.6666666666666666,\"#ed7953\"],[0.7777777777777778,\"#fb9f3a\"],[0.8888888888888888,\"#fdca26\"],[1.0,\"#f0f921\"]],\"type\":\"heatmapgl\"}],\"histogram\":[{\"marker\":{\"pattern\":{\"fillmode\":\"overlay\",\"size\":10,\"solidity\":0.2}},\"type\":\"histogram\"}],\"histogram2d\":[{\"colorbar\":{\"outlinewidth\":0,\"ticks\":\"\"},\"colorscale\":[[0.0,\"#0d0887\"],[0.1111111111111111,\"#46039f\"],[0.2222222222222222,\"#7201a8\"],[0.3333333333333333,\"#9c179e\"],[0.4444444444444444,\"#bd3786\"],[0.5555555555555556,\"#d8576b\"],[0.6666666666666666,\"#ed7953\"],[0.7777777777777778,\"#fb9f3a\"],[0.8888888888888888,\"#fdca26\"],[1.0,\"#f0f921\"]],\"type\":\"histogram2d\"}],\"histogram2dcontour\":[{\"colorbar\":{\"outlinewidth\":0,\"ticks\":\"\"},\"colorscale\":[[0.0,\"#0d0887\"],[0.1111111111111111,\"#46039f\"],[0.2222222222222222,\"#7201a8\"],[0.3333333333333333,\"#9c179e\"],[0.4444444444444444,\"#bd3786\"],[0.5555555555555556,\"#d8576b\"],[0.6666666666666666,\"#ed7953\"],[0.7777777777777778,\"#fb9f3a\"],[0.8888888888888888,\"#fdca26\"],[1.0,\"#f0f921\"]],\"type\":\"histogram2dcontour\"}],\"mesh3d\":[{\"colorbar\":{\"outlinewidth\":0,\"ticks\":\"\"},\"type\":\"mesh3d\"}],\"parcoords\":[{\"line\":{\"colorbar\":{\"outlinewidth\":0,\"ticks\":\"\"}},\"type\":\"parcoords\"}],\"pie\":[{\"automargin\":true,\"type\":\"pie\"}],\"scatter\":[{\"marker\":{\"colorbar\":{\"outlinewidth\":0,\"ticks\":\"\"}},\"type\":\"scatter\"}],\"scatter3d\":[{\"line\":{\"colorbar\":{\"outlinewidth\":0,\"ticks\":\"\"}},\"marker\":{\"colorbar\":{\"outlinewidth\":0,\"ticks\":\"\"}},\"type\":\"scatter3d\"}],\"scattercarpet\":[{\"marker\":{\"colorbar\":{\"outlinewidth\":0,\"ticks\":\"\"}},\"type\":\"scattercarpet\"}],\"scattergeo\":[{\"marker\":{\"colorbar\":{\"outlinewidth\":0,\"ticks\":\"\"}},\"type\":\"scattergeo\"}],\"scattergl\":[{\"marker\":{\"colorbar\":{\"outlinewidth\":0,\"ticks\":\"\"}},\"type\":\"scattergl\"}],\"scattermapbox\":[{\"marker\":{\"colorbar\":{\"outlinewidth\":0,\"ticks\":\"\"}},\"type\":\"scattermapbox\"}],\"scatterpolar\":[{\"marker\":{\"colorbar\":{\"outlinewidth\":0,\"ticks\":\"\"}},\"type\":\"scatterpolar\"}],\"scatterpolargl\":[{\"marker\":{\"colorbar\":{\"outlinewidth\":0,\"ticks\":\"\"}},\"type\":\"scatterpolargl\"}],\"scatterternary\":[{\"marker\":{\"colorbar\":{\"outlinewidth\":0,\"ticks\":\"\"}},\"type\":\"scatterternary\"}],\"surface\":[{\"colorbar\":{\"outlinewidth\":0,\"ticks\":\"\"},\"colorscale\":[[0.0,\"#0d0887\"],[0.1111111111111111,\"#46039f\"],[0.2222222222222222,\"#7201a8\"],[0.3333333333333333,\"#9c179e\"],[0.4444444444444444,\"#bd3786\"],[0.5555555555555556,\"#d8576b\"],[0.6666666666666666,\"#ed7953\"],[0.7777777777777778,\"#fb9f3a\"],[0.8888888888888888,\"#fdca26\"],[1.0,\"#f0f921\"]],\"type\":\"surface\"}],\"table\":[{\"cells\":{\"fill\":{\"color\":\"#EBF0F8\"},\"line\":{\"color\":\"white\"}},\"header\":{\"fill\":{\"color\":\"#C8D4E3\"},\"line\":{\"color\":\"white\"}},\"type\":\"table\"}]},\"layout\":{\"annotationdefaults\":{\"arrowcolor\":\"#2a3f5f\",\"arrowhead\":0,\"arrowwidth\":1},\"autotypenumbers\":\"strict\",\"coloraxis\":{\"colorbar\":{\"outlinewidth\":0,\"ticks\":\"\"}},\"colorscale\":{\"diverging\":[[0,\"#8e0152\"],[0.1,\"#c51b7d\"],[0.2,\"#de77ae\"],[0.3,\"#f1b6da\"],[0.4,\"#fde0ef\"],[0.5,\"#f7f7f7\"],[0.6,\"#e6f5d0\"],[0.7,\"#b8e186\"],[0.8,\"#7fbc41\"],[0.9,\"#4d9221\"],[1,\"#276419\"]],\"sequential\":[[0.0,\"#0d0887\"],[0.1111111111111111,\"#46039f\"],[0.2222222222222222,\"#7201a8\"],[0.3333333333333333,\"#9c179e\"],[0.4444444444444444,\"#bd3786\"],[0.5555555555555556,\"#d8576b\"],[0.6666666666666666,\"#ed7953\"],[0.7777777777777778,\"#fb9f3a\"],[0.8888888888888888,\"#fdca26\"],[1.0,\"#f0f921\"]],\"sequentialminus\":[[0.0,\"#0d0887\"],[0.1111111111111111,\"#46039f\"],[0.2222222222222222,\"#7201a8\"],[0.3333333333333333,\"#9c179e\"],[0.4444444444444444,\"#bd3786\"],[0.5555555555555556,\"#d8576b\"],[0.6666666666666666,\"#ed7953\"],[0.7777777777777778,\"#fb9f3a\"],[0.8888888888888888,\"#fdca26\"],[1.0,\"#f0f921\"]]},\"colorway\":[\"#636efa\",\"#EF553B\",\"#00cc96\",\"#ab63fa\",\"#FFA15A\",\"#19d3f3\",\"#FF6692\",\"#B6E880\",\"#FF97FF\",\"#FECB52\"],\"font\":{\"color\":\"#2a3f5f\"},\"geo\":{\"bgcolor\":\"white\",\"lakecolor\":\"white\",\"landcolor\":\"#E5ECF6\",\"showlakes\":true,\"showland\":true,\"subunitcolor\":\"white\"},\"hoverlabel\":{\"align\":\"left\"},\"hovermode\":\"closest\",\"mapbox\":{\"style\":\"light\"},\"paper_bgcolor\":\"white\",\"plot_bgcolor\":\"#E5ECF6\",\"polar\":{\"angularaxis\":{\"gridcolor\":\"white\",\"linecolor\":\"white\",\"ticks\":\"\"},\"bgcolor\":\"#E5ECF6\",\"radialaxis\":{\"gridcolor\":\"white\",\"linecolor\":\"white\",\"ticks\":\"\"}},\"scene\":{\"xaxis\":{\"backgroundcolor\":\"#E5ECF6\",\"gridcolor\":\"white\",\"gridwidth\":2,\"linecolor\":\"white\",\"showbackground\":true,\"ticks\":\"\",\"zerolinecolor\":\"white\"},\"yaxis\":{\"backgroundcolor\":\"#E5ECF6\",\"gridcolor\":\"white\",\"gridwidth\":2,\"linecolor\":\"white\",\"showbackground\":true,\"ticks\":\"\",\"zerolinecolor\":\"white\"},\"zaxis\":{\"backgroundcolor\":\"#E5ECF6\",\"gridcolor\":\"white\",\"gridwidth\":2,\"linecolor\":\"white\",\"showbackground\":true,\"ticks\":\"\",\"zerolinecolor\":\"white\"}},\"shapedefaults\":{\"line\":{\"color\":\"#2a3f5f\"}},\"ternary\":{\"aaxis\":{\"gridcolor\":\"white\",\"linecolor\":\"white\",\"ticks\":\"\"},\"baxis\":{\"gridcolor\":\"white\",\"linecolor\":\"white\",\"ticks\":\"\"},\"bgcolor\":\"#E5ECF6\",\"caxis\":{\"gridcolor\":\"white\",\"linecolor\":\"white\",\"ticks\":\"\"}},\"title\":{\"x\":0.05},\"xaxis\":{\"automargin\":true,\"gridcolor\":\"white\",\"linecolor\":\"white\",\"ticks\":\"\",\"title\":{\"standoff\":15},\"zerolinecolor\":\"white\",\"zerolinewidth\":2},\"yaxis\":{\"automargin\":true,\"gridcolor\":\"white\",\"linecolor\":\"white\",\"ticks\":\"\",\"title\":{\"standoff\":15},\"zerolinecolor\":\"white\",\"zerolinewidth\":2}}},\"legend\":{\"tracegroupgap\":0},\"title\":{\"text\":\"\\u0130\\u015flemlerin Da\\u011f\\u0131l\\u0131m\\u0131\"}},                        {\"responsive\": true}                    ).then(function(){\n",
       "                            \n",
       "var gd = document.getElementById('1a2251f5-31f0-4a35-a4d9-e2c24d2cfd6f');\n",
       "var x = new MutationObserver(function (mutations, observer) {{\n",
       "        var display = window.getComputedStyle(gd).display;\n",
       "        if (!display || display === 'none') {{\n",
       "            console.log([gd, 'removed!']);\n",
       "            Plotly.purge(gd);\n",
       "            observer.disconnect();\n",
       "        }}\n",
       "}});\n",
       "\n",
       "// Listen for the removal of the full notebook cells\n",
       "var notebookContainer = gd.closest('#notebook-container');\n",
       "if (notebookContainer) {{\n",
       "    x.observe(notebookContainer, {childList: true});\n",
       "}}\n",
       "\n",
       "// Listen for the clearing of the current output cell\n",
       "var outputEl = gd.closest('.output');\n",
       "if (outputEl) {{\n",
       "    x.observe(outputEl, {childList: true});\n",
       "}}\n",
       "\n",
       "                        })                };                            </script>        </div>\n",
       "</body>\n",
       "</html>"
      ]
     },
     "metadata": {},
     "output_type": "display_data"
    }
   ],
   "source": [
    "type = dataset[\"type\"].value_counts()\n",
    "transactions = type.index\n",
    "quantity = type.values\n",
    "figure = px.pie(dataset, values=quantity, names=transactions, hole = 0.5, title=\"İşlemlerin Dağılımı\")\n",
    "figure.show()"
   ]
  },
  {
   "cell_type": "markdown",
   "metadata": {
    "id": "Iy9ag5tcqalt"
   },
   "source": [
    "## Veri setinin özniteliklerinin arasındaki ilişkinin incelenmesi"
   ]
  },
  {
   "cell_type": "code",
   "execution_count": 16,
   "metadata": {
    "colab": {
     "base_uri": "https://localhost:8080/",
     "height": 300
    },
    "id": "KIPdj33TqTL-",
    "outputId": "dcf01023-2c79-4964-8daf-a069de2eba7c"
   },
   "outputs": [
    {
     "data": {
      "text/html": [
       "\n",
       "  <div id=\"df-fa13a1d9-7828-405a-89af-44cae11bb6d1\">\n",
       "    <div class=\"colab-df-container\">\n",
       "      <div>\n",
       "<style scoped>\n",
       "    .dataframe tbody tr th:only-of-type {\n",
       "        vertical-align: middle;\n",
       "    }\n",
       "\n",
       "    .dataframe tbody tr th {\n",
       "        vertical-align: top;\n",
       "    }\n",
       "\n",
       "    .dataframe thead th {\n",
       "        text-align: right;\n",
       "    }\n",
       "</style>\n",
       "<table border=\"1\" class=\"dataframe\">\n",
       "  <thead>\n",
       "    <tr style=\"text-align: right;\">\n",
       "      <th></th>\n",
       "      <th>step</th>\n",
       "      <th>amount</th>\n",
       "      <th>oldbalanceOrg</th>\n",
       "      <th>newbalanceOrig</th>\n",
       "      <th>oldbalanceDest</th>\n",
       "      <th>newbalanceDest</th>\n",
       "      <th>isFraud</th>\n",
       "      <th>isFlaggedFraud</th>\n",
       "    </tr>\n",
       "  </thead>\n",
       "  <tbody>\n",
       "    <tr>\n",
       "      <th>step</th>\n",
       "      <td>1.00e+00</td>\n",
       "      <td>2.24e-02</td>\n",
       "      <td>-1.01e-02</td>\n",
       "      <td>-1.03e-02</td>\n",
       "      <td>2.77e-02</td>\n",
       "      <td>2.59e-02</td>\n",
       "      <td>3.16e-02</td>\n",
       "      <td>3.28e-03</td>\n",
       "    </tr>\n",
       "    <tr>\n",
       "      <th>amount</th>\n",
       "      <td>2.24e-02</td>\n",
       "      <td>1.00e+00</td>\n",
       "      <td>-2.76e-03</td>\n",
       "      <td>-7.86e-03</td>\n",
       "      <td>2.94e-01</td>\n",
       "      <td>4.59e-01</td>\n",
       "      <td>7.67e-02</td>\n",
       "      <td>1.23e-02</td>\n",
       "    </tr>\n",
       "    <tr>\n",
       "      <th>oldbalanceOrg</th>\n",
       "      <td>-1.01e-02</td>\n",
       "      <td>-2.76e-03</td>\n",
       "      <td>1.00e+00</td>\n",
       "      <td>9.99e-01</td>\n",
       "      <td>6.62e-02</td>\n",
       "      <td>4.20e-02</td>\n",
       "      <td>1.02e-02</td>\n",
       "      <td>3.83e-03</td>\n",
       "    </tr>\n",
       "    <tr>\n",
       "      <th>newbalanceOrig</th>\n",
       "      <td>-1.03e-02</td>\n",
       "      <td>-7.86e-03</td>\n",
       "      <td>9.99e-01</td>\n",
       "      <td>1.00e+00</td>\n",
       "      <td>6.78e-02</td>\n",
       "      <td>4.18e-02</td>\n",
       "      <td>-8.15e-03</td>\n",
       "      <td>3.78e-03</td>\n",
       "    </tr>\n",
       "    <tr>\n",
       "      <th>oldbalanceDest</th>\n",
       "      <td>2.77e-02</td>\n",
       "      <td>2.94e-01</td>\n",
       "      <td>6.62e-02</td>\n",
       "      <td>6.78e-02</td>\n",
       "      <td>1.00e+00</td>\n",
       "      <td>9.77e-01</td>\n",
       "      <td>-5.89e-03</td>\n",
       "      <td>-5.13e-04</td>\n",
       "    </tr>\n",
       "    <tr>\n",
       "      <th>newbalanceDest</th>\n",
       "      <td>2.59e-02</td>\n",
       "      <td>4.59e-01</td>\n",
       "      <td>4.20e-02</td>\n",
       "      <td>4.18e-02</td>\n",
       "      <td>9.77e-01</td>\n",
       "      <td>1.00e+00</td>\n",
       "      <td>5.35e-04</td>\n",
       "      <td>-5.29e-04</td>\n",
       "    </tr>\n",
       "    <tr>\n",
       "      <th>isFraud</th>\n",
       "      <td>3.16e-02</td>\n",
       "      <td>7.67e-02</td>\n",
       "      <td>1.02e-02</td>\n",
       "      <td>-8.15e-03</td>\n",
       "      <td>-5.89e-03</td>\n",
       "      <td>5.35e-04</td>\n",
       "      <td>1.00e+00</td>\n",
       "      <td>4.41e-02</td>\n",
       "    </tr>\n",
       "    <tr>\n",
       "      <th>isFlaggedFraud</th>\n",
       "      <td>3.28e-03</td>\n",
       "      <td>1.23e-02</td>\n",
       "      <td>3.83e-03</td>\n",
       "      <td>3.78e-03</td>\n",
       "      <td>-5.13e-04</td>\n",
       "      <td>-5.29e-04</td>\n",
       "      <td>4.41e-02</td>\n",
       "      <td>1.00e+00</td>\n",
       "    </tr>\n",
       "  </tbody>\n",
       "</table>\n",
       "</div>\n",
       "      <button class=\"colab-df-convert\" onclick=\"convertToInteractive('df-fa13a1d9-7828-405a-89af-44cae11bb6d1')\"\n",
       "              title=\"Convert this dataframe to an interactive table.\"\n",
       "              style=\"display:none;\">\n",
       "        \n",
       "  <svg xmlns=\"http://www.w3.org/2000/svg\" height=\"24px\"viewBox=\"0 0 24 24\"\n",
       "       width=\"24px\">\n",
       "    <path d=\"M0 0h24v24H0V0z\" fill=\"none\"/>\n",
       "    <path d=\"M18.56 5.44l.94 2.06.94-2.06 2.06-.94-2.06-.94-.94-2.06-.94 2.06-2.06.94zm-11 1L8.5 8.5l.94-2.06 2.06-.94-2.06-.94L8.5 2.5l-.94 2.06-2.06.94zm10 10l.94 2.06.94-2.06 2.06-.94-2.06-.94-.94-2.06-.94 2.06-2.06.94z\"/><path d=\"M17.41 7.96l-1.37-1.37c-.4-.4-.92-.59-1.43-.59-.52 0-1.04.2-1.43.59L10.3 9.45l-7.72 7.72c-.78.78-.78 2.05 0 2.83L4 21.41c.39.39.9.59 1.41.59.51 0 1.02-.2 1.41-.59l7.78-7.78 2.81-2.81c.8-.78.8-2.07 0-2.86zM5.41 20L4 18.59l7.72-7.72 1.47 1.35L5.41 20z\"/>\n",
       "  </svg>\n",
       "      </button>\n",
       "      \n",
       "  <style>\n",
       "    .colab-df-container {\n",
       "      display:flex;\n",
       "      flex-wrap:wrap;\n",
       "      gap: 12px;\n",
       "    }\n",
       "\n",
       "    .colab-df-convert {\n",
       "      background-color: #E8F0FE;\n",
       "      border: none;\n",
       "      border-radius: 50%;\n",
       "      cursor: pointer;\n",
       "      display: none;\n",
       "      fill: #1967D2;\n",
       "      height: 32px;\n",
       "      padding: 0 0 0 0;\n",
       "      width: 32px;\n",
       "    }\n",
       "\n",
       "    .colab-df-convert:hover {\n",
       "      background-color: #E2EBFA;\n",
       "      box-shadow: 0px 1px 2px rgba(60, 64, 67, 0.3), 0px 1px 3px 1px rgba(60, 64, 67, 0.15);\n",
       "      fill: #174EA6;\n",
       "    }\n",
       "\n",
       "    [theme=dark] .colab-df-convert {\n",
       "      background-color: #3B4455;\n",
       "      fill: #D2E3FC;\n",
       "    }\n",
       "\n",
       "    [theme=dark] .colab-df-convert:hover {\n",
       "      background-color: #434B5C;\n",
       "      box-shadow: 0px 1px 3px 1px rgba(0, 0, 0, 0.15);\n",
       "      filter: drop-shadow(0px 1px 2px rgba(0, 0, 0, 0.3));\n",
       "      fill: #FFFFFF;\n",
       "    }\n",
       "  </style>\n",
       "\n",
       "      <script>\n",
       "        const buttonEl =\n",
       "          document.querySelector('#df-fa13a1d9-7828-405a-89af-44cae11bb6d1 button.colab-df-convert');\n",
       "        buttonEl.style.display =\n",
       "          google.colab.kernel.accessAllowed ? 'block' : 'none';\n",
       "\n",
       "        async function convertToInteractive(key) {\n",
       "          const element = document.querySelector('#df-fa13a1d9-7828-405a-89af-44cae11bb6d1');\n",
       "          const dataTable =\n",
       "            await google.colab.kernel.invokeFunction('convertToInteractive',\n",
       "                                                     [key], {});\n",
       "          if (!dataTable) return;\n",
       "\n",
       "          const docLinkHtml = 'Like what you see? Visit the ' +\n",
       "            '<a target=\"_blank\" href=https://colab.research.google.com/notebooks/data_table.ipynb>data table notebook</a>'\n",
       "            + ' to learn more about interactive tables.';\n",
       "          element.innerHTML = '';\n",
       "          dataTable['output_type'] = 'display_data';\n",
       "          await google.colab.output.renderOutput(dataTable, element);\n",
       "          const docLink = document.createElement('div');\n",
       "          docLink.innerHTML = docLinkHtml;\n",
       "          element.appendChild(docLink);\n",
       "        }\n",
       "      </script>\n",
       "    </div>\n",
       "  </div>\n",
       "  "
      ],
      "text/plain": [
       "                    step    amount  oldbalanceOrg  newbalanceOrig  \\\n",
       "step            1.00e+00  2.24e-02      -1.01e-02       -1.03e-02   \n",
       "amount          2.24e-02  1.00e+00      -2.76e-03       -7.86e-03   \n",
       "oldbalanceOrg  -1.01e-02 -2.76e-03       1.00e+00        9.99e-01   \n",
       "newbalanceOrig -1.03e-02 -7.86e-03       9.99e-01        1.00e+00   \n",
       "oldbalanceDest  2.77e-02  2.94e-01       6.62e-02        6.78e-02   \n",
       "newbalanceDest  2.59e-02  4.59e-01       4.20e-02        4.18e-02   \n",
       "isFraud         3.16e-02  7.67e-02       1.02e-02       -8.15e-03   \n",
       "isFlaggedFraud  3.28e-03  1.23e-02       3.83e-03        3.78e-03   \n",
       "\n",
       "                oldbalanceDest  newbalanceDest   isFraud  isFlaggedFraud  \n",
       "step                  2.77e-02        2.59e-02  3.16e-02        3.28e-03  \n",
       "amount                2.94e-01        4.59e-01  7.67e-02        1.23e-02  \n",
       "oldbalanceOrg         6.62e-02        4.20e-02  1.02e-02        3.83e-03  \n",
       "newbalanceOrig        6.78e-02        4.18e-02 -8.15e-03        3.78e-03  \n",
       "oldbalanceDest        1.00e+00        9.77e-01 -5.89e-03       -5.13e-04  \n",
       "newbalanceDest        9.77e-01        1.00e+00  5.35e-04       -5.29e-04  \n",
       "isFraud              -5.89e-03        5.35e-04  1.00e+00        4.41e-02  \n",
       "isFlaggedFraud       -5.13e-04       -5.29e-04  4.41e-02        1.00e+00  "
      ]
     },
     "execution_count": 16,
     "metadata": {},
     "output_type": "execute_result"
    }
   ],
   "source": [
    "dataset.corr()"
   ]
  },
  {
   "cell_type": "code",
   "execution_count": 17,
   "metadata": {
    "colab": {
     "base_uri": "https://localhost:8080/",
     "height": 342
    },
    "id": "6j_tegE9qftW",
    "outputId": "c29e0d3d-abfb-4efd-8f4c-3758ad3a3f37"
   },
   "outputs": [
    {
     "data": {
      "image/png": "[encoded data removed]",
      "text/plain": [
       "<Figure size 432x288 with 2 Axes>"
      ]
     },
     "metadata": {
      "needs_background": "light"
     },
     "output_type": "display_data"
    }
   ],
   "source": [
    "sns.heatmap(dataset.corr(), annot=True, cmap=\"coolwarm\");"
   ]
  },
  {
   "cell_type": "code",
   "execution_count": 18,
   "metadata": {
    "colab": {
     "base_uri": "https://localhost:8080/",
     "height": 235
    },
    "id": "W1dcOwWYqiWd",
    "outputId": "5da3bcd0-3aa4-4194-951b-a00a53e872e0"
   },
   "outputs": [
    {
     "data": {
      "image/png": "[encoded data removed]",
      "text/plain": [
       "<Figure size 1440x216 with 1 Axes>"
      ]
     },
     "metadata": {
      "needs_background": "light"
     },
     "output_type": "display_data"
    }
   ],
   "source": [
    "plt.figure(figsize=(20,3))\n",
    "plt.scatter(dataset['oldbalanceOrg'], dataset['newbalanceOrig'], c='red');"
   ]
  },
  {
   "cell_type": "markdown",
   "metadata": {
    "id": "Sn8FRdgqfDAg"
   },
   "source": [
    "hue olarak amountı eklediğimizde ortaya çıkan grafik gösterilmiştir."
   ]
  },
  {
   "cell_type": "code",
   "execution_count": 19,
   "metadata": {
    "colab": {
     "base_uri": "https://localhost:8080/",
     "height": 290
    },
    "id": "XIYrnXygfDoG",
    "outputId": "77814dc3-63bf-4eed-b9c3-92ce92269067"
   },
   "outputs": [
    {
     "data": {
      "image/png": "[encoded data removed]",
      "text/plain": [
       "<Figure size 432x288 with 1 Axes>"
      ]
     },
     "metadata": {
      "needs_background": "light"
     },
     "output_type": "display_data"
    }
   ],
   "source": [
    "sns.scatterplot(x=\"newbalanceOrig\", y=\"oldbalanceOrg\", hue=\"amount\", data=dataset.sample(frac=0.001));"
   ]
  },
  {
   "cell_type": "markdown",
   "metadata": {
    "id": "3e9mJyngfENF"
   },
   "source": [
    "Sayısal Değişkenlerin Dağılımı gösterilmiştir."
   ]
  },
  {
   "cell_type": "code",
   "execution_count": 20,
   "metadata": {
    "colab": {
     "base_uri": "https://localhost:8080/",
     "height": 1000
    },
    "id": "iiWBJ4EIfEk4",
    "outputId": "36b82a30-6ad7-4147-cd8d-e30bcdc50309"
   },
   "outputs": [
    {
     "data": {
      "image/png": "[encoded data removed]",
      "text/plain": [
       "<Figure size 864x432 with 1 Axes>"
      ]
     },
     "metadata": {
      "needs_background": "light"
     },
     "output_type": "display_data"
    },
    {
     "data": {
      "image/png": "[encoded data removed]",
      "text/plain": [
       "<Figure size 864x432 with 1 Axes>"
      ]
     },
     "metadata": {
      "needs_background": "light"
     },
     "output_type": "display_data"
    },
    {
     "data": {
      "image/png": "[encoded data removed]",
      "text/plain": [
       "<Figure size 864x432 with 1 Axes>"
      ]
     },
     "metadata": {
      "needs_background": "light"
     },
     "output_type": "display_data"
    },
    {
     "data": {
      "image/png": "[encoded data removed]",
      "text/plain": [
       "<Figure size 864x432 with 1 Axes>"
      ]
     },
     "metadata": {
      "needs_background": "light"
     },
     "output_type": "display_data"
    },
    {
     "data": {
      "image/png": "[encoded data removed]",
      "text/plain": [
       "<Figure size 864x432 with 1 Axes>"
      ]
     },
     "metadata": {
      "needs_background": "light"
     },
     "output_type": "display_data"
    },
    {
     "data": {
      "image/png": "[encoded data removed]",
      "text/plain": [
       "<Figure size 864x432 with 1 Axes>"
      ]
     },
     "metadata": {
      "needs_background": "light"
     },
     "output_type": "display_data"
    }
   ],
   "source": [
    "columns=['step','amount','oldbalanceOrg','newbalanceOrig','oldbalanceDest','newbalanceDest']\n",
    "\n",
    "for column in columns:\n",
    "    plt.xlabel(column)\n",
    "    dataset[column].plot(kind='hist', bins=10, figsize=(12,6), facecolor='red',edgecolor='black')\n",
    "    plt.title(f\"{column} Dağılımı\")\n",
    "    plt.show()"
   ]
  },
  {
   "cell_type": "markdown",
   "metadata": {
    "id": "CtFgnCd3moWa"
   },
   "source": [
    "# **Özellik Ölçekleme**\n",
    "\n",
    "Aralarında değer farkı çok yüksek olan özellikleri ölçekleyerek, aralarındaki sayısal farkı azaltmış olduk."
   ]
  },
  {
   "cell_type": "code",
   "execution_count": 21,
   "metadata": {
    "id": "15LXwa9RmtfQ"
   },
   "outputs": [],
   "source": [
    "from sklearn import preprocessing"
   ]
  },
  {
   "cell_type": "markdown",
   "metadata": {
    "id": "eVChCcq78VME"
   },
   "source": [
    "MinMaxScaler ile normalizasyon yapılmıştır.\n",
    "\n",
    "Xn = (X - Xmin) / (Xmax - Xmin)"
   ]
  },
  {
   "cell_type": "code",
   "execution_count": 22,
   "metadata": {
    "colab": {
     "base_uri": "https://localhost:8080/"
    },
    "id": "ZeH-qqX6ng8Y",
    "outputId": "01d31449-6726-4b84-e47e-0dff667a333c"
   },
   "outputs": [
    {
     "data": {
      "text/plain": [
       "array([[9.83964000e+03, 1.70136000e+05],\n",
       "       [1.86428000e+03, 2.12490000e+04],\n",
       "       [1.81000000e+02, 1.81000000e+02],\n",
       "       ...,\n",
       "       [6.31140928e+06, 6.31140928e+06],\n",
       "       [8.50002520e+05, 8.50002520e+05],\n",
       "       [8.50002520e+05, 8.50002520e+05]])"
      ]
     },
     "execution_count": 22,
     "metadata": {},
     "output_type": "execute_result"
    }
   ],
   "source": [
    "data = dataset.loc[:, [\"amount\", \"oldbalanceOrg\"]].values\n",
    "data"
   ]
  },
  {
   "cell_type": "code",
   "execution_count": 23,
   "metadata": {
    "colab": {
     "base_uri": "https://localhost:8080/"
    },
    "id": "DNQy5iQPt2E4",
    "outputId": "a3cd8d77-7a9d-4bd5-fd45-2bb016342405"
   },
   "outputs": [
    {
     "data": {
      "text/plain": [
       "array([[1.06437179e-04, 2.85534757e-03],\n",
       "       [2.01662565e-05, 3.56616357e-04],\n",
       "       [1.95790998e-06, 3.03767521e-06],\n",
       "       ...,\n",
       "       [6.82716643e-02, 1.05922716e-01],\n",
       "       [9.19463216e-03, 1.42653679e-02],\n",
       "       [9.19463216e-03, 1.42653679e-02]])"
      ]
     },
     "execution_count": 23,
     "metadata": {},
     "output_type": "execute_result"
    }
   ],
   "source": [
    "MinMaxScaler = preprocessing.MinMaxScaler(feature_range =(0, 1))\n",
    "scaledData = MinMaxScaler.fit_transform(data)\n",
    "scaledData"
   ]
  },
  {
   "cell_type": "markdown",
   "metadata": {
    "id": "hxy0ARD98jTl"
   },
   "source": [
    "StandardScalser ile Standardazasyon yapılmıştır.\n",
    "\n",
    "X' = (X - mean) / (Standard Devation)"
   ]
  },
  {
   "cell_type": "code",
   "execution_count": 24,
   "metadata": {
    "colab": {
     "base_uri": "https://localhost:8080/"
    },
    "id": "pHuY276L8jID",
    "outputId": "afa29ee5-0971-4abb-9a50-f4eb464dd388"
   },
   "outputs": [
    {
     "data": {
      "text/plain": [
       "array([[1.06437179e-04, 2.85534757e-03],\n",
       "       [2.01662565e-05, 3.56616357e-04],\n",
       "       [1.95790998e-06, 3.03767521e-06],\n",
       "       ...,\n",
       "       [6.82716643e-02, 1.05922716e-01],\n",
       "       [9.19463216e-03, 1.42653679e-02],\n",
       "       [9.19463216e-03, 1.42653679e-02]])"
      ]
     },
     "execution_count": 24,
     "metadata": {},
     "output_type": "execute_result"
    }
   ],
   "source": [
    "Standardisation = preprocessing.StandardScaler()\n",
    "scaledData = MinMaxScaler.fit_transform(data)\n",
    "scaledData"
   ]
  },
  {
   "cell_type": "code",
   "execution_count": 25,
   "metadata": {
    "colab": {
     "base_uri": "https://localhost:8080/"
    },
    "id": "W2Dztyy29SXO",
    "outputId": "1e6d731a-867a-471f-dcb6-cdfb9627f1d6"
   },
   "outputs": [
    {
     "data": {
      "text/plain": [
       "array([[0.00000000e+00, 1.06437179e-04, 2.85534757e-03, 3.23275647e-03,\n",
       "        0.00000000e+00, 0.00000000e+00],\n",
       "       [0.00000000e+00, 2.01662565e-05, 3.56616357e-04, 3.90938877e-04,\n",
       "        0.00000000e+00, 0.00000000e+00],\n",
       "       [0.00000000e+00, 1.95790998e-06, 3.03767521e-06, 0.00000000e+00,\n",
       "        0.00000000e+00, 0.00000000e+00],\n",
       "       ...,\n",
       "       [1.00000000e+00, 6.82716643e-02, 1.05922716e-01, 0.00000000e+00,\n",
       "        1.92375796e-04, 1.79120417e-02],\n",
       "       [1.00000000e+00, 9.19463216e-03, 1.42653679e-02, 0.00000000e+00,\n",
       "        0.00000000e+00, 0.00000000e+00],\n",
       "       [1.00000000e+00, 9.19463216e-03, 1.42653679e-02, 0.00000000e+00,\n",
       "        1.82859791e-02, 2.06640365e-02]])"
      ]
     },
     "execution_count": 25,
     "metadata": {},
     "output_type": "execute_result"
    }
   ],
   "source": [
    "numericColumns = dataset.loc[:, [\"step\", \"amount\", \"oldbalanceOrg\", \"newbalanceOrig\", \"oldbalanceDest\", \"newbalanceDest\"]]\n",
    "norm = preprocessing.MinMaxScaler().fit(numericColumns)\n",
    "datasetNorm = norm.transform(numericColumns)\n",
    "datasetNorm"
   ]
  },
  {
   "cell_type": "code",
   "execution_count": 26,
   "metadata": {
    "colab": {
     "base_uri": "https://localhost:8080/",
     "height": 393
    },
    "id": "SJvhhPzloAx6",
    "outputId": "efef3f6b-67e1-4274-aaf7-8b599004730c"
   },
   "outputs": [
    {
     "data": {
      "image/png": "[encoded data removed]",
      "text/plain": [
       "<Figure size 1440x360 with 1 Axes>"
      ]
     },
     "metadata": {
      "needs_background": "light"
     },
     "output_type": "display_data"
    }
   ],
   "source": [
    "pd.DataFrame(datasetNorm, columns=numericColumns.columns).plot.box(figsize=(20,5), rot=90);"
   ]
  },
  {
   "cell_type": "code",
   "execution_count": 27,
   "metadata": {
    "colab": {
     "base_uri": "https://localhost:8080/"
    },
    "id": "6wmmcosJWSz1",
    "outputId": "2baee1f4-0187-4257-b0a3-4b9cce6b172d"
   },
   "outputs": [
    {
     "data": {
      "text/plain": [
       "array([[-1.70304158e+00, -2.81559923e-01, -2.29810037e-01,\n",
       "        -2.37621696e-01, -3.23813895e-01, -3.33411405e-01],\n",
       "       [-1.70304158e+00, -2.94767262e-01, -2.81359380e-01,\n",
       "        -2.85812295e-01, -3.23813895e-01, -3.33411405e-01],\n",
       "       [-1.70304158e+00, -2.97554804e-01, -2.88653782e-01,\n",
       "        -2.92441707e-01, -3.23813895e-01, -3.33411405e-01],\n",
       "       ...,\n",
       "       [ 3.51012348e+00,  1.01539526e+01,  1.89649113e+00,\n",
       "        -2.92441707e-01, -3.03665258e-01,  1.40302700e+00],\n",
       "       [ 3.51012348e+00,  1.10976490e+00,  5.58104668e-03,\n",
       "        -2.92441707e-01, -3.23813895e-01, -3.33411405e-01],\n",
       "       [ 3.51012348e+00,  1.10976490e+00,  5.58104668e-03,\n",
       "        -2.92441707e-01,  1.59138312e+00,  1.66981230e+00]])"
      ]
     },
     "execution_count": 27,
     "metadata": {},
     "output_type": "execute_result"
    }
   ],
   "source": [
    "numericColumns = dataset.loc[:, [\"step\", \"amount\", \"oldbalanceOrg\", \"newbalanceOrig\", \"oldbalanceDest\", \"newbalanceDest\"]]\n",
    "norm = preprocessing.StandardScaler().fit(numericColumns)\n",
    "datasetStd = norm.transform(numericColumns)\n",
    "datasetStd"
   ]
  },
  {
   "cell_type": "code",
   "execution_count": 28,
   "metadata": {
    "colab": {
     "base_uri": "https://localhost:8080/",
     "height": 396
    },
    "id": "UgUk9KStoJIL",
    "outputId": "d8569eba-2c2c-4156-8c8c-fb6990b39697"
   },
   "outputs": [
    {
     "data": {
      "image/png": "[encoded data removed]",
      "text/plain": [
       "<Figure size 1440x360 with 1 Axes>"
      ]
     },
     "metadata": {
      "needs_background": "light"
     },
     "output_type": "display_data"
    }
   ],
   "source": [
    "pd.DataFrame(datasetStd, columns=numericColumns.columns).plot.box(figsize=(20,5), rot=90);"
   ]
  }
 ],
 "metadata": {
  "colab": {
   "provenance": []
  },
  "kernelspec": {
   "display_name": "Python 3 (ipykernel)",
   "language": "python",
   "name": "python3"
  },
  "language_info": {
   "codemirror_mode": {
    "name": "ipython",
    "version": 3
   },
   "file_extension": ".py",
   "mimetype": "text/x-python",
   "name": "python",
   "nbconvert_exporter": "python",
   "pygments_lexer": "ipython3",
   "version": "3.9.13"
  }
 },
 "nbformat": 4,
 "nbformat_minor": 1
}
