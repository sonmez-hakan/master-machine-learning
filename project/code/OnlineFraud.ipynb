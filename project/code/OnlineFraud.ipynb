{
  "nbformat": 4,
  "nbformat_minor": 0,
  "metadata": {
    "colab": {
      "provenance": []
    },
    "kernelspec": {
      "name": "python3",
      "display_name": "Python 3"
    },
    "language_info": {
      "name": "python"
    }
  },
  "cells": [
    {
      "cell_type": "markdown",
      "source": [
        "# OnlineFraud Veri Setinin Analizinin yapılması\n"
      ],
      "metadata": {
        "id": "nt6lDmoLZvRA"
      }
    },
    {
      "cell_type": "code",
      "execution_count": 40,
      "metadata": {
        "id": "YHCjXKBykp-V"
      },
      "outputs": [],
      "source": [
        "import pandas as pd\n",
        "import seaborn as sns\n",
        "import matplotlib.pyplot as plt\n",
        "import plotly.express as px\n",
        "\n",
        "pd.set_option(\"display.precision\", 2)\n",
        "frac = 0.000002"
      ]
    },
    {
      "cell_type": "code",
      "source": [
        "dataset = pd.read_csv('/content/drive/MyDrive/Colab Notebooks/Project/Datasets/onlinefraud.csv');"
      ],
      "metadata": {
        "id": "WN6rLrKkoB1Y"
      },
      "execution_count": 41,
      "outputs": []
    },
    {
      "cell_type": "markdown",
      "source": [
        "## Özniteliklerin incelenmesi"
      ],
      "metadata": {
        "id": "q60QQBYeZ-tw"
      }
    },
    {
      "cell_type": "code",
      "source": [
        "dataset.columns"
      ],
      "metadata": {
        "colab": {
          "base_uri": "https://localhost:8080/"
        },
        "id": "U4SwAhF4rv1L",
        "outputId": "48f9977b-787c-44bb-ca99-0bb96cb3ee49"
      },
      "execution_count": 42,
      "outputs": [
        {
          "output_type": "execute_result",
          "data": {
            "text/plain": [
              "Index(['step', 'type', 'amount', 'nameOrig', 'oldbalanceOrg', 'newbalanceOrig',\n",
              "       'nameDest', 'oldbalanceDest', 'newbalanceDest', 'isFraud',\n",
              "       'isFlaggedFraud'],\n",
              "      dtype='object')"
            ]
          },
          "metadata": {},
          "execution_count": 42
        }
      ]
    },
    {
      "cell_type": "markdown",
      "source": [
        "***step***: 1 adımın 1 saate eşit olduğu bir zaman birimini temsil eder.\n",
        "\n",
        "***type***: İşlemin tipi\n",
        "\n",
        "***amount***: İşlemin miktarı\n",
        "\n",
        "***nameOrig***: Müşternin işleme başlaması\n",
        "\n",
        "***oldbalanceOrg***: İşlemden önce bakiye\n",
        "\n",
        "***newbalanceOrig***: İşlemden sonra bakiye\n",
        "\n",
        "***nameDest***: İşlemin alıcısı\n",
        "\n",
        "***oldbalanceDest***: İşlemden önce alıcının ilk bakiyesi\n",
        "\n",
        "***newbalanceDest***: İşlemden sonra alıcının ilk bakiyesi\n",
        "\n",
        "***isFraud***: Sahtecilik mi değil mi\n",
        "\n",
        "**isFlaggedFraud**: -"
      ],
      "metadata": {
        "id": "f6c-5ynUrrP0"
      }
    },
    {
      "cell_type": "markdown",
      "source": [
        "## Veri setinin içeriğini kontrol ediyoruz"
      ],
      "metadata": {
        "id": "fhrQ-LiPowOn"
      }
    },
    {
      "cell_type": "code",
      "source": [
        "print(\"Satır Sayısı: {}\".format(dataset.shape[0]))\n",
        "print(\"Öznitelik Syısı: {}\".format(dataset.shape[1]))\n",
        "print(\"Fraud İşlem Sayısı: {}\".format(dataset[dataset['isFraud'] == 1].shape[0]))\n",
        "print(\"FraudFlagged İşlem Sayısı: {}\".format(dataset[dataset['isFlaggedFraud'] == 1].shape[0]))"
      ],
      "metadata": {
        "colab": {
          "base_uri": "https://localhost:8080/"
        },
        "id": "utRQsrwmoTPM",
        "outputId": "5079fcde-ac51-4008-c6ad-7bb473123cce"
      },
      "execution_count": 43,
      "outputs": [
        {
          "output_type": "stream",
          "name": "stdout",
          "text": [
            "Satır Sayısı: 6362620\n",
            "Öznitelik Syısı: 11\n",
            "Fraud İşlem Sayısı: 8213\n",
            "FraudFlagged İşlem Sayısı: 16\n"
          ]
        }
      ]
    },
    {
      "cell_type": "code",
      "source": [
        "dataset.sample(frac=frac)"
      ],
      "metadata": {
        "colab": {
          "base_uri": "https://localhost:8080/",
          "height": 457
        },
        "id": "Ulo_XIWlodMb",
        "outputId": "a7907e1d-62e0-4994-ea3c-06db84797970"
      },
      "execution_count": 44,
      "outputs": [
        {
          "output_type": "execute_result",
          "data": {
            "text/plain": [
              "         step      type     amount     nameOrig  oldbalanceOrg  \\\n",
              "4164965   304   PAYMENT   10573.16  C1795662775       2.81e+04   \n",
              "2932276   229   PAYMENT   22260.29  C1866907879       0.00e+00   \n",
              "2929593   229   CASH_IN  189840.57  C1896514881       7.07e+04   \n",
              "5340971   374   PAYMENT    7090.87   C528624990       1.60e+04   \n",
              "1689335   159   CASH_IN  318699.21   C379365748       1.17e+07   \n",
              "5477038   379   CASH_IN   37983.40   C294577631       3.17e+06   \n",
              "4241638   306  CASH_OUT  160587.28  C2039829067       2.08e+04   \n",
              "3926703   285   PAYMENT    8820.64  C1569856572       5.11e+04   \n",
              "3670117   276   PAYMENT    4291.23    C67590104       7.36e+05   \n",
              "1476979   141   PAYMENT   16065.89  C2027413825       0.00e+00   \n",
              "5787470   401  CASH_OUT  217394.82  C1254435999       0.00e+00   \n",
              "687969     36  CASH_OUT  297326.37   C813017611       0.00e+00   \n",
              "1257978   134   PAYMENT    6970.61   C493722740       0.00e+00   \n",
              "\n",
              "         newbalanceOrig     nameDest  oldbalanceDest  newbalanceDest  isFraud  \\\n",
              "4164965        1.75e+04  M1512896463        0.00e+00        0.00e+00        0   \n",
              "2932276        0.00e+00   M444446702        0.00e+00        0.00e+00        0   \n",
              "2929593        2.61e+05  C1456703215        0.00e+00        0.00e+00        0   \n",
              "5340971        8.94e+03   M550800393        0.00e+00        0.00e+00        0   \n",
              "1689335        1.21e+07   C944707257        4.50e+05        1.32e+05        0   \n",
              "5477038        3.21e+06    C30182016        4.01e+05        3.63e+05        0   \n",
              "4241638        0.00e+00   C893448711        0.00e+00        1.61e+05        0   \n",
              "3926703        4.23e+04  M1689675913        0.00e+00        0.00e+00        0   \n",
              "3670117        7.32e+05   M597299529        0.00e+00        0.00e+00        0   \n",
              "1476979        0.00e+00  M1335451829        0.00e+00        0.00e+00        0   \n",
              "5787470        0.00e+00   C893496496        3.28e+05        5.45e+05        0   \n",
              "687969         0.00e+00  C1508456612        1.44e+07        1.47e+07        0   \n",
              "1257978        0.00e+00   M990932621        0.00e+00        0.00e+00        0   \n",
              "\n",
              "         isFlaggedFraud  \n",
              "4164965               0  \n",
              "2932276               0  \n",
              "2929593               0  \n",
              "5340971               0  \n",
              "1689335               0  \n",
              "5477038               0  \n",
              "4241638               0  \n",
              "3926703               0  \n",
              "3670117               0  \n",
              "1476979               0  \n",
              "5787470               0  \n",
              "687969                0  \n",
              "1257978               0  "
            ],
            "text/html": [
              "\n",
              "  <div id=\"df-9f1156da-356e-4b1c-9e47-859c7a0ea698\">\n",
              "    <div class=\"colab-df-container\">\n",
              "      <div>\n",
              "<style scoped>\n",
              "    .dataframe tbody tr th:only-of-type {\n",
              "        vertical-align: middle;\n",
              "    }\n",
              "\n",
              "    .dataframe tbody tr th {\n",
              "        vertical-align: top;\n",
              "    }\n",
              "\n",
              "    .dataframe thead th {\n",
              "        text-align: right;\n",
              "    }\n",
              "</style>\n",
              "<table border=\"1\" class=\"dataframe\">\n",
              "  <thead>\n",
              "    <tr style=\"text-align: right;\">\n",
              "      <th></th>\n",
              "      <th>step</th>\n",
              "      <th>type</th>\n",
              "      <th>amount</th>\n",
              "      <th>nameOrig</th>\n",
              "      <th>oldbalanceOrg</th>\n",
              "      <th>newbalanceOrig</th>\n",
              "      <th>nameDest</th>\n",
              "      <th>oldbalanceDest</th>\n",
              "      <th>newbalanceDest</th>\n",
              "      <th>isFraud</th>\n",
              "      <th>isFlaggedFraud</th>\n",
              "    </tr>\n",
              "  </thead>\n",
              "  <tbody>\n",
              "    <tr>\n",
              "      <th>4164965</th>\n",
              "      <td>304</td>\n",
              "      <td>PAYMENT</td>\n",
              "      <td>10573.16</td>\n",
              "      <td>C1795662775</td>\n",
              "      <td>2.81e+04</td>\n",
              "      <td>1.75e+04</td>\n",
              "      <td>M1512896463</td>\n",
              "      <td>0.00e+00</td>\n",
              "      <td>0.00e+00</td>\n",
              "      <td>0</td>\n",
              "      <td>0</td>\n",
              "    </tr>\n",
              "    <tr>\n",
              "      <th>2932276</th>\n",
              "      <td>229</td>\n",
              "      <td>PAYMENT</td>\n",
              "      <td>22260.29</td>\n",
              "      <td>C1866907879</td>\n",
              "      <td>0.00e+00</td>\n",
              "      <td>0.00e+00</td>\n",
              "      <td>M444446702</td>\n",
              "      <td>0.00e+00</td>\n",
              "      <td>0.00e+00</td>\n",
              "      <td>0</td>\n",
              "      <td>0</td>\n",
              "    </tr>\n",
              "    <tr>\n",
              "      <th>2929593</th>\n",
              "      <td>229</td>\n",
              "      <td>CASH_IN</td>\n",
              "      <td>189840.57</td>\n",
              "      <td>C1896514881</td>\n",
              "      <td>7.07e+04</td>\n",
              "      <td>2.61e+05</td>\n",
              "      <td>C1456703215</td>\n",
              "      <td>0.00e+00</td>\n",
              "      <td>0.00e+00</td>\n",
              "      <td>0</td>\n",
              "      <td>0</td>\n",
              "    </tr>\n",
              "    <tr>\n",
              "      <th>5340971</th>\n",
              "      <td>374</td>\n",
              "      <td>PAYMENT</td>\n",
              "      <td>7090.87</td>\n",
              "      <td>C528624990</td>\n",
              "      <td>1.60e+04</td>\n",
              "      <td>8.94e+03</td>\n",
              "      <td>M550800393</td>\n",
              "      <td>0.00e+00</td>\n",
              "      <td>0.00e+00</td>\n",
              "      <td>0</td>\n",
              "      <td>0</td>\n",
              "    </tr>\n",
              "    <tr>\n",
              "      <th>1689335</th>\n",
              "      <td>159</td>\n",
              "      <td>CASH_IN</td>\n",
              "      <td>318699.21</td>\n",
              "      <td>C379365748</td>\n",
              "      <td>1.17e+07</td>\n",
              "      <td>1.21e+07</td>\n",
              "      <td>C944707257</td>\n",
              "      <td>4.50e+05</td>\n",
              "      <td>1.32e+05</td>\n",
              "      <td>0</td>\n",
              "      <td>0</td>\n",
              "    </tr>\n",
              "    <tr>\n",
              "      <th>5477038</th>\n",
              "      <td>379</td>\n",
              "      <td>CASH_IN</td>\n",
              "      <td>37983.40</td>\n",
              "      <td>C294577631</td>\n",
              "      <td>3.17e+06</td>\n",
              "      <td>3.21e+06</td>\n",
              "      <td>C30182016</td>\n",
              "      <td>4.01e+05</td>\n",
              "      <td>3.63e+05</td>\n",
              "      <td>0</td>\n",
              "      <td>0</td>\n",
              "    </tr>\n",
              "    <tr>\n",
              "      <th>4241638</th>\n",
              "      <td>306</td>\n",
              "      <td>CASH_OUT</td>\n",
              "      <td>160587.28</td>\n",
              "      <td>C2039829067</td>\n",
              "      <td>2.08e+04</td>\n",
              "      <td>0.00e+00</td>\n",
              "      <td>C893448711</td>\n",
              "      <td>0.00e+00</td>\n",
              "      <td>1.61e+05</td>\n",
              "      <td>0</td>\n",
              "      <td>0</td>\n",
              "    </tr>\n",
              "    <tr>\n",
              "      <th>3926703</th>\n",
              "      <td>285</td>\n",
              "      <td>PAYMENT</td>\n",
              "      <td>8820.64</td>\n",
              "      <td>C1569856572</td>\n",
              "      <td>5.11e+04</td>\n",
              "      <td>4.23e+04</td>\n",
              "      <td>M1689675913</td>\n",
              "      <td>0.00e+00</td>\n",
              "      <td>0.00e+00</td>\n",
              "      <td>0</td>\n",
              "      <td>0</td>\n",
              "    </tr>\n",
              "    <tr>\n",
              "      <th>3670117</th>\n",
              "      <td>276</td>\n",
              "      <td>PAYMENT</td>\n",
              "      <td>4291.23</td>\n",
              "      <td>C67590104</td>\n",
              "      <td>7.36e+05</td>\n",
              "      <td>7.32e+05</td>\n",
              "      <td>M597299529</td>\n",
              "      <td>0.00e+00</td>\n",
              "      <td>0.00e+00</td>\n",
              "      <td>0</td>\n",
              "      <td>0</td>\n",
              "    </tr>\n",
              "    <tr>\n",
              "      <th>1476979</th>\n",
              "      <td>141</td>\n",
              "      <td>PAYMENT</td>\n",
              "      <td>16065.89</td>\n",
              "      <td>C2027413825</td>\n",
              "      <td>0.00e+00</td>\n",
              "      <td>0.00e+00</td>\n",
              "      <td>M1335451829</td>\n",
              "      <td>0.00e+00</td>\n",
              "      <td>0.00e+00</td>\n",
              "      <td>0</td>\n",
              "      <td>0</td>\n",
              "    </tr>\n",
              "    <tr>\n",
              "      <th>5787470</th>\n",
              "      <td>401</td>\n",
              "      <td>CASH_OUT</td>\n",
              "      <td>217394.82</td>\n",
              "      <td>C1254435999</td>\n",
              "      <td>0.00e+00</td>\n",
              "      <td>0.00e+00</td>\n",
              "      <td>C893496496</td>\n",
              "      <td>3.28e+05</td>\n",
              "      <td>5.45e+05</td>\n",
              "      <td>0</td>\n",
              "      <td>0</td>\n",
              "    </tr>\n",
              "    <tr>\n",
              "      <th>687969</th>\n",
              "      <td>36</td>\n",
              "      <td>CASH_OUT</td>\n",
              "      <td>297326.37</td>\n",
              "      <td>C813017611</td>\n",
              "      <td>0.00e+00</td>\n",
              "      <td>0.00e+00</td>\n",
              "      <td>C1508456612</td>\n",
              "      <td>1.44e+07</td>\n",
              "      <td>1.47e+07</td>\n",
              "      <td>0</td>\n",
              "      <td>0</td>\n",
              "    </tr>\n",
              "    <tr>\n",
              "      <th>1257978</th>\n",
              "      <td>134</td>\n",
              "      <td>PAYMENT</td>\n",
              "      <td>6970.61</td>\n",
              "      <td>C493722740</td>\n",
              "      <td>0.00e+00</td>\n",
              "      <td>0.00e+00</td>\n",
              "      <td>M990932621</td>\n",
              "      <td>0.00e+00</td>\n",
              "      <td>0.00e+00</td>\n",
              "      <td>0</td>\n",
              "      <td>0</td>\n",
              "    </tr>\n",
              "  </tbody>\n",
              "</table>\n",
              "</div>\n",
              "      <button class=\"colab-df-convert\" onclick=\"convertToInteractive('df-9f1156da-356e-4b1c-9e47-859c7a0ea698')\"\n",
              "              title=\"Convert this dataframe to an interactive table.\"\n",
              "              style=\"display:none;\">\n",
              "        \n",
              "  <svg xmlns=\"http://www.w3.org/2000/svg\" height=\"24px\"viewBox=\"0 0 24 24\"\n",
              "       width=\"24px\">\n",
              "    <path d=\"M0 0h24v24H0V0z\" fill=\"none\"/>\n",
              "    <path d=\"M18.56 5.44l.94 2.06.94-2.06 2.06-.94-2.06-.94-.94-2.06-.94 2.06-2.06.94zm-11 1L8.5 8.5l.94-2.06 2.06-.94-2.06-.94L8.5 2.5l-.94 2.06-2.06.94zm10 10l.94 2.06.94-2.06 2.06-.94-2.06-.94-.94-2.06-.94 2.06-2.06.94z\"/><path d=\"M17.41 7.96l-1.37-1.37c-.4-.4-.92-.59-1.43-.59-.52 0-1.04.2-1.43.59L10.3 9.45l-7.72 7.72c-.78.78-.78 2.05 0 2.83L4 21.41c.39.39.9.59 1.41.59.51 0 1.02-.2 1.41-.59l7.78-7.78 2.81-2.81c.8-.78.8-2.07 0-2.86zM5.41 20L4 18.59l7.72-7.72 1.47 1.35L5.41 20z\"/>\n",
              "  </svg>\n",
              "      </button>\n",
              "      \n",
              "  <style>\n",
              "    .colab-df-container {\n",
              "      display:flex;\n",
              "      flex-wrap:wrap;\n",
              "      gap: 12px;\n",
              "    }\n",
              "\n",
              "    .colab-df-convert {\n",
              "      background-color: #E8F0FE;\n",
              "      border: none;\n",
              "      border-radius: 50%;\n",
              "      cursor: pointer;\n",
              "      display: none;\n",
              "      fill: #1967D2;\n",
              "      height: 32px;\n",
              "      padding: 0 0 0 0;\n",
              "      width: 32px;\n",
              "    }\n",
              "\n",
              "    .colab-df-convert:hover {\n",
              "      background-color: #E2EBFA;\n",
              "      box-shadow: 0px 1px 2px rgba(60, 64, 67, 0.3), 0px 1px 3px 1px rgba(60, 64, 67, 0.15);\n",
              "      fill: #174EA6;\n",
              "    }\n",
              "\n",
              "    [theme=dark] .colab-df-convert {\n",
              "      background-color: #3B4455;\n",
              "      fill: #D2E3FC;\n",
              "    }\n",
              "\n",
              "    [theme=dark] .colab-df-convert:hover {\n",
              "      background-color: #434B5C;\n",
              "      box-shadow: 0px 1px 3px 1px rgba(0, 0, 0, 0.15);\n",
              "      filter: drop-shadow(0px 1px 2px rgba(0, 0, 0, 0.3));\n",
              "      fill: #FFFFFF;\n",
              "    }\n",
              "  </style>\n",
              "\n",
              "      <script>\n",
              "        const buttonEl =\n",
              "          document.querySelector('#df-9f1156da-356e-4b1c-9e47-859c7a0ea698 button.colab-df-convert');\n",
              "        buttonEl.style.display =\n",
              "          google.colab.kernel.accessAllowed ? 'block' : 'none';\n",
              "\n",
              "        async function convertToInteractive(key) {\n",
              "          const element = document.querySelector('#df-9f1156da-356e-4b1c-9e47-859c7a0ea698');\n",
              "          const dataTable =\n",
              "            await google.colab.kernel.invokeFunction('convertToInteractive',\n",
              "                                                     [key], {});\n",
              "          if (!dataTable) return;\n",
              "\n",
              "          const docLinkHtml = 'Like what you see? Visit the ' +\n",
              "            '<a target=\"_blank\" href=https://colab.research.google.com/notebooks/data_table.ipynb>data table notebook</a>'\n",
              "            + ' to learn more about interactive tables.';\n",
              "          element.innerHTML = '';\n",
              "          dataTable['output_type'] = 'display_data';\n",
              "          await google.colab.output.renderOutput(dataTable, element);\n",
              "          const docLink = document.createElement('div');\n",
              "          docLink.innerHTML = docLinkHtml;\n",
              "          element.appendChild(docLink);\n",
              "        }\n",
              "      </script>\n",
              "    </div>\n",
              "  </div>\n",
              "  "
            ]
          },
          "metadata": {},
          "execution_count": 44
        }
      ]
    },
    {
      "cell_type": "code",
      "source": [
        "dataset.loc[:,\"type\":\"newbalanceOrig\"].sample(frac=frac)"
      ],
      "metadata": {
        "colab": {
          "base_uri": "https://localhost:8080/",
          "height": 457
        },
        "id": "SW9xkI_upCJo",
        "outputId": "6018d994-0a6e-4efb-fa17-5066761f3c56"
      },
      "execution_count": 45,
      "outputs": [
        {
          "output_type": "execute_result",
          "data": {
            "text/plain": [
              "             type     amount     nameOrig  oldbalanceOrg  newbalanceOrig\n",
              "1062961   PAYMENT   15039.17  C1857516932       9.60e+01        0.00e+00\n",
              "5442151  CASH_OUT   99832.34  C1085747903       0.00e+00        0.00e+00\n",
              "3989512   CASH_IN  125538.84    C49587874       5.24e+03        1.31e+05\n",
              "2161262   CASH_IN   88784.93   C936047729       2.49e+06        2.58e+06\n",
              "372730    CASH_IN  225213.11   C381719787       2.58e+05        4.83e+05\n",
              "2274056   PAYMENT    8274.80   C947560278       1.45e+04        6.21e+03\n",
              "2914647   CASH_IN  266152.74   C879883576       1.07e+05        3.73e+05\n",
              "1830980  CASH_OUT  225980.32  C2030564413       0.00e+00        0.00e+00\n",
              "4269007   CASH_IN  284116.58  C1549618409       2.48e+07        2.51e+07\n",
              "692378    CASH_IN   18600.41  C1141392529       1.61e+06        1.63e+06\n",
              "3895644  CASH_OUT  106810.79  C1023675142       0.00e+00        0.00e+00\n",
              "6000945  CASH_OUT  272019.02  C1664241473       2.51e+04        0.00e+00\n",
              "4825215  CASH_OUT  107028.75   C495246576       0.00e+00        0.00e+00"
            ],
            "text/html": [
              "\n",
              "  <div id=\"df-e925dcdf-2fe3-4806-81ae-34a48fa045b4\">\n",
              "    <div class=\"colab-df-container\">\n",
              "      <div>\n",
              "<style scoped>\n",
              "    .dataframe tbody tr th:only-of-type {\n",
              "        vertical-align: middle;\n",
              "    }\n",
              "\n",
              "    .dataframe tbody tr th {\n",
              "        vertical-align: top;\n",
              "    }\n",
              "\n",
              "    .dataframe thead th {\n",
              "        text-align: right;\n",
              "    }\n",
              "</style>\n",
              "<table border=\"1\" class=\"dataframe\">\n",
              "  <thead>\n",
              "    <tr style=\"text-align: right;\">\n",
              "      <th></th>\n",
              "      <th>type</th>\n",
              "      <th>amount</th>\n",
              "      <th>nameOrig</th>\n",
              "      <th>oldbalanceOrg</th>\n",
              "      <th>newbalanceOrig</th>\n",
              "    </tr>\n",
              "  </thead>\n",
              "  <tbody>\n",
              "    <tr>\n",
              "      <th>1062961</th>\n",
              "      <td>PAYMENT</td>\n",
              "      <td>15039.17</td>\n",
              "      <td>C1857516932</td>\n",
              "      <td>9.60e+01</td>\n",
              "      <td>0.00e+00</td>\n",
              "    </tr>\n",
              "    <tr>\n",
              "      <th>5442151</th>\n",
              "      <td>CASH_OUT</td>\n",
              "      <td>99832.34</td>\n",
              "      <td>C1085747903</td>\n",
              "      <td>0.00e+00</td>\n",
              "      <td>0.00e+00</td>\n",
              "    </tr>\n",
              "    <tr>\n",
              "      <th>3989512</th>\n",
              "      <td>CASH_IN</td>\n",
              "      <td>125538.84</td>\n",
              "      <td>C49587874</td>\n",
              "      <td>5.24e+03</td>\n",
              "      <td>1.31e+05</td>\n",
              "    </tr>\n",
              "    <tr>\n",
              "      <th>2161262</th>\n",
              "      <td>CASH_IN</td>\n",
              "      <td>88784.93</td>\n",
              "      <td>C936047729</td>\n",
              "      <td>2.49e+06</td>\n",
              "      <td>2.58e+06</td>\n",
              "    </tr>\n",
              "    <tr>\n",
              "      <th>372730</th>\n",
              "      <td>CASH_IN</td>\n",
              "      <td>225213.11</td>\n",
              "      <td>C381719787</td>\n",
              "      <td>2.58e+05</td>\n",
              "      <td>4.83e+05</td>\n",
              "    </tr>\n",
              "    <tr>\n",
              "      <th>2274056</th>\n",
              "      <td>PAYMENT</td>\n",
              "      <td>8274.80</td>\n",
              "      <td>C947560278</td>\n",
              "      <td>1.45e+04</td>\n",
              "      <td>6.21e+03</td>\n",
              "    </tr>\n",
              "    <tr>\n",
              "      <th>2914647</th>\n",
              "      <td>CASH_IN</td>\n",
              "      <td>266152.74</td>\n",
              "      <td>C879883576</td>\n",
              "      <td>1.07e+05</td>\n",
              "      <td>3.73e+05</td>\n",
              "    </tr>\n",
              "    <tr>\n",
              "      <th>1830980</th>\n",
              "      <td>CASH_OUT</td>\n",
              "      <td>225980.32</td>\n",
              "      <td>C2030564413</td>\n",
              "      <td>0.00e+00</td>\n",
              "      <td>0.00e+00</td>\n",
              "    </tr>\n",
              "    <tr>\n",
              "      <th>4269007</th>\n",
              "      <td>CASH_IN</td>\n",
              "      <td>284116.58</td>\n",
              "      <td>C1549618409</td>\n",
              "      <td>2.48e+07</td>\n",
              "      <td>2.51e+07</td>\n",
              "    </tr>\n",
              "    <tr>\n",
              "      <th>692378</th>\n",
              "      <td>CASH_IN</td>\n",
              "      <td>18600.41</td>\n",
              "      <td>C1141392529</td>\n",
              "      <td>1.61e+06</td>\n",
              "      <td>1.63e+06</td>\n",
              "    </tr>\n",
              "    <tr>\n",
              "      <th>3895644</th>\n",
              "      <td>CASH_OUT</td>\n",
              "      <td>106810.79</td>\n",
              "      <td>C1023675142</td>\n",
              "      <td>0.00e+00</td>\n",
              "      <td>0.00e+00</td>\n",
              "    </tr>\n",
              "    <tr>\n",
              "      <th>6000945</th>\n",
              "      <td>CASH_OUT</td>\n",
              "      <td>272019.02</td>\n",
              "      <td>C1664241473</td>\n",
              "      <td>2.51e+04</td>\n",
              "      <td>0.00e+00</td>\n",
              "    </tr>\n",
              "    <tr>\n",
              "      <th>4825215</th>\n",
              "      <td>CASH_OUT</td>\n",
              "      <td>107028.75</td>\n",
              "      <td>C495246576</td>\n",
              "      <td>0.00e+00</td>\n",
              "      <td>0.00e+00</td>\n",
              "    </tr>\n",
              "  </tbody>\n",
              "</table>\n",
              "</div>\n",
              "      <button class=\"colab-df-convert\" onclick=\"convertToInteractive('df-e925dcdf-2fe3-4806-81ae-34a48fa045b4')\"\n",
              "              title=\"Convert this dataframe to an interactive table.\"\n",
              "              style=\"display:none;\">\n",
              "        \n",
              "  <svg xmlns=\"http://www.w3.org/2000/svg\" height=\"24px\"viewBox=\"0 0 24 24\"\n",
              "       width=\"24px\">\n",
              "    <path d=\"M0 0h24v24H0V0z\" fill=\"none\"/>\n",
              "    <path d=\"M18.56 5.44l.94 2.06.94-2.06 2.06-.94-2.06-.94-.94-2.06-.94 2.06-2.06.94zm-11 1L8.5 8.5l.94-2.06 2.06-.94-2.06-.94L8.5 2.5l-.94 2.06-2.06.94zm10 10l.94 2.06.94-2.06 2.06-.94-2.06-.94-.94-2.06-.94 2.06-2.06.94z\"/><path d=\"M17.41 7.96l-1.37-1.37c-.4-.4-.92-.59-1.43-.59-.52 0-1.04.2-1.43.59L10.3 9.45l-7.72 7.72c-.78.78-.78 2.05 0 2.83L4 21.41c.39.39.9.59 1.41.59.51 0 1.02-.2 1.41-.59l7.78-7.78 2.81-2.81c.8-.78.8-2.07 0-2.86zM5.41 20L4 18.59l7.72-7.72 1.47 1.35L5.41 20z\"/>\n",
              "  </svg>\n",
              "      </button>\n",
              "      \n",
              "  <style>\n",
              "    .colab-df-container {\n",
              "      display:flex;\n",
              "      flex-wrap:wrap;\n",
              "      gap: 12px;\n",
              "    }\n",
              "\n",
              "    .colab-df-convert {\n",
              "      background-color: #E8F0FE;\n",
              "      border: none;\n",
              "      border-radius: 50%;\n",
              "      cursor: pointer;\n",
              "      display: none;\n",
              "      fill: #1967D2;\n",
              "      height: 32px;\n",
              "      padding: 0 0 0 0;\n",
              "      width: 32px;\n",
              "    }\n",
              "\n",
              "    .colab-df-convert:hover {\n",
              "      background-color: #E2EBFA;\n",
              "      box-shadow: 0px 1px 2px rgba(60, 64, 67, 0.3), 0px 1px 3px 1px rgba(60, 64, 67, 0.15);\n",
              "      fill: #174EA6;\n",
              "    }\n",
              "\n",
              "    [theme=dark] .colab-df-convert {\n",
              "      background-color: #3B4455;\n",
              "      fill: #D2E3FC;\n",
              "    }\n",
              "\n",
              "    [theme=dark] .colab-df-convert:hover {\n",
              "      background-color: #434B5C;\n",
              "      box-shadow: 0px 1px 3px 1px rgba(0, 0, 0, 0.15);\n",
              "      filter: drop-shadow(0px 1px 2px rgba(0, 0, 0, 0.3));\n",
              "      fill: #FFFFFF;\n",
              "    }\n",
              "  </style>\n",
              "\n",
              "      <script>\n",
              "        const buttonEl =\n",
              "          document.querySelector('#df-e925dcdf-2fe3-4806-81ae-34a48fa045b4 button.colab-df-convert');\n",
              "        buttonEl.style.display =\n",
              "          google.colab.kernel.accessAllowed ? 'block' : 'none';\n",
              "\n",
              "        async function convertToInteractive(key) {\n",
              "          const element = document.querySelector('#df-e925dcdf-2fe3-4806-81ae-34a48fa045b4');\n",
              "          const dataTable =\n",
              "            await google.colab.kernel.invokeFunction('convertToInteractive',\n",
              "                                                     [key], {});\n",
              "          if (!dataTable) return;\n",
              "\n",
              "          const docLinkHtml = 'Like what you see? Visit the ' +\n",
              "            '<a target=\"_blank\" href=https://colab.research.google.com/notebooks/data_table.ipynb>data table notebook</a>'\n",
              "            + ' to learn more about interactive tables.';\n",
              "          element.innerHTML = '';\n",
              "          dataTable['output_type'] = 'display_data';\n",
              "          await google.colab.output.renderOutput(dataTable, element);\n",
              "          const docLink = document.createElement('div');\n",
              "          docLink.innerHTML = docLinkHtml;\n",
              "          element.appendChild(docLink);\n",
              "        }\n",
              "      </script>\n",
              "    </div>\n",
              "  </div>\n",
              "  "
            ]
          },
          "metadata": {},
          "execution_count": 45
        }
      ]
    },
    {
      "cell_type": "markdown",
      "source": [
        "Verilerin sütunlara göre kaç adet non-null veri içerdiği ve veri tipinin gösterimi yapılmıştır."
      ],
      "metadata": {
        "id": "u-xlO871pb8m"
      }
    },
    {
      "cell_type": "code",
      "source": [
        "dataset.info(show_counts=True)"
      ],
      "metadata": {
        "colab": {
          "base_uri": "https://localhost:8080/"
        },
        "id": "QMCUSmAEpd7G",
        "outputId": "a2e53427-c143-4279-c81e-02faeb1df33c"
      },
      "execution_count": 46,
      "outputs": [
        {
          "output_type": "stream",
          "name": "stdout",
          "text": [
            "<class 'pandas.core.frame.DataFrame'>\n",
            "RangeIndex: 6362620 entries, 0 to 6362619\n",
            "Data columns (total 11 columns):\n",
            " #   Column          Non-Null Count    Dtype  \n",
            "---  ------          --------------    -----  \n",
            " 0   step            6362620 non-null  int64  \n",
            " 1   type            6362620 non-null  object \n",
            " 2   amount          6362620 non-null  float64\n",
            " 3   nameOrig        6362620 non-null  object \n",
            " 4   oldbalanceOrg   6362620 non-null  float64\n",
            " 5   newbalanceOrig  6362620 non-null  float64\n",
            " 6   nameDest        6362620 non-null  object \n",
            " 7   oldbalanceDest  6362620 non-null  float64\n",
            " 8   newbalanceDest  6362620 non-null  float64\n",
            " 9   isFraud         6362620 non-null  int64  \n",
            " 10  isFlaggedFraud  6362620 non-null  int64  \n",
            "dtypes: float64(5), int64(3), object(3)\n",
            "memory usage: 534.0+ MB\n"
          ]
        }
      ]
    },
    {
      "cell_type": "markdown",
      "source": [
        "Veri setinin istatiksel bilgilerinin gösterilmiştir (count mean std vb)"
      ],
      "metadata": {
        "id": "tS2CbsPYp7rt"
      }
    },
    {
      "cell_type": "code",
      "source": [
        "dataset.describe().T"
      ],
      "metadata": {
        "colab": {
          "base_uri": "https://localhost:8080/",
          "height": 300
        },
        "id": "gw1lG0capeKl",
        "outputId": "d9b4b3c6-1af0-44d2-87d2-20fb45fcc9fb"
      },
      "execution_count": 47,
      "outputs": [
        {
          "output_type": "execute_result",
          "data": {
            "text/plain": [
              "                   count      mean       std  min       25%        50%  \\\n",
              "step            6.36e+06  2.43e+02  1.42e+02  1.0    156.00     239.00   \n",
              "amount          6.36e+06  1.80e+05  6.04e+05  0.0  13389.57   74871.94   \n",
              "oldbalanceOrg   6.36e+06  8.34e+05  2.89e+06  0.0      0.00   14208.00   \n",
              "newbalanceOrig  6.36e+06  8.55e+05  2.92e+06  0.0      0.00       0.00   \n",
              "oldbalanceDest  6.36e+06  1.10e+06  3.40e+06  0.0      0.00  132705.66   \n",
              "newbalanceDest  6.36e+06  1.22e+06  3.67e+06  0.0      0.00  214661.44   \n",
              "isFraud         6.36e+06  1.29e-03  3.59e-02  0.0      0.00       0.00   \n",
              "isFlaggedFraud  6.36e+06  2.51e-06  1.59e-03  0.0      0.00       0.00   \n",
              "\n",
              "                     75%       max  \n",
              "step            3.35e+02  7.43e+02  \n",
              "amount          2.09e+05  9.24e+07  \n",
              "oldbalanceOrg   1.07e+05  5.96e+07  \n",
              "newbalanceOrig  1.44e+05  4.96e+07  \n",
              "oldbalanceDest  9.43e+05  3.56e+08  \n",
              "newbalanceDest  1.11e+06  3.56e+08  \n",
              "isFraud         0.00e+00  1.00e+00  \n",
              "isFlaggedFraud  0.00e+00  1.00e+00  "
            ],
            "text/html": [
              "\n",
              "  <div id=\"df-592c4bcf-b2f6-4384-bbd8-5b6ead1f3f37\">\n",
              "    <div class=\"colab-df-container\">\n",
              "      <div>\n",
              "<style scoped>\n",
              "    .dataframe tbody tr th:only-of-type {\n",
              "        vertical-align: middle;\n",
              "    }\n",
              "\n",
              "    .dataframe tbody tr th {\n",
              "        vertical-align: top;\n",
              "    }\n",
              "\n",
              "    .dataframe thead th {\n",
              "        text-align: right;\n",
              "    }\n",
              "</style>\n",
              "<table border=\"1\" class=\"dataframe\">\n",
              "  <thead>\n",
              "    <tr style=\"text-align: right;\">\n",
              "      <th></th>\n",
              "      <th>count</th>\n",
              "      <th>mean</th>\n",
              "      <th>std</th>\n",
              "      <th>min</th>\n",
              "      <th>25%</th>\n",
              "      <th>50%</th>\n",
              "      <th>75%</th>\n",
              "      <th>max</th>\n",
              "    </tr>\n",
              "  </thead>\n",
              "  <tbody>\n",
              "    <tr>\n",
              "      <th>step</th>\n",
              "      <td>6.36e+06</td>\n",
              "      <td>2.43e+02</td>\n",
              "      <td>1.42e+02</td>\n",
              "      <td>1.0</td>\n",
              "      <td>156.00</td>\n",
              "      <td>239.00</td>\n",
              "      <td>3.35e+02</td>\n",
              "      <td>7.43e+02</td>\n",
              "    </tr>\n",
              "    <tr>\n",
              "      <th>amount</th>\n",
              "      <td>6.36e+06</td>\n",
              "      <td>1.80e+05</td>\n",
              "      <td>6.04e+05</td>\n",
              "      <td>0.0</td>\n",
              "      <td>13389.57</td>\n",
              "      <td>74871.94</td>\n",
              "      <td>2.09e+05</td>\n",
              "      <td>9.24e+07</td>\n",
              "    </tr>\n",
              "    <tr>\n",
              "      <th>oldbalanceOrg</th>\n",
              "      <td>6.36e+06</td>\n",
              "      <td>8.34e+05</td>\n",
              "      <td>2.89e+06</td>\n",
              "      <td>0.0</td>\n",
              "      <td>0.00</td>\n",
              "      <td>14208.00</td>\n",
              "      <td>1.07e+05</td>\n",
              "      <td>5.96e+07</td>\n",
              "    </tr>\n",
              "    <tr>\n",
              "      <th>newbalanceOrig</th>\n",
              "      <td>6.36e+06</td>\n",
              "      <td>8.55e+05</td>\n",
              "      <td>2.92e+06</td>\n",
              "      <td>0.0</td>\n",
              "      <td>0.00</td>\n",
              "      <td>0.00</td>\n",
              "      <td>1.44e+05</td>\n",
              "      <td>4.96e+07</td>\n",
              "    </tr>\n",
              "    <tr>\n",
              "      <th>oldbalanceDest</th>\n",
              "      <td>6.36e+06</td>\n",
              "      <td>1.10e+06</td>\n",
              "      <td>3.40e+06</td>\n",
              "      <td>0.0</td>\n",
              "      <td>0.00</td>\n",
              "      <td>132705.66</td>\n",
              "      <td>9.43e+05</td>\n",
              "      <td>3.56e+08</td>\n",
              "    </tr>\n",
              "    <tr>\n",
              "      <th>newbalanceDest</th>\n",
              "      <td>6.36e+06</td>\n",
              "      <td>1.22e+06</td>\n",
              "      <td>3.67e+06</td>\n",
              "      <td>0.0</td>\n",
              "      <td>0.00</td>\n",
              "      <td>214661.44</td>\n",
              "      <td>1.11e+06</td>\n",
              "      <td>3.56e+08</td>\n",
              "    </tr>\n",
              "    <tr>\n",
              "      <th>isFraud</th>\n",
              "      <td>6.36e+06</td>\n",
              "      <td>1.29e-03</td>\n",
              "      <td>3.59e-02</td>\n",
              "      <td>0.0</td>\n",
              "      <td>0.00</td>\n",
              "      <td>0.00</td>\n",
              "      <td>0.00e+00</td>\n",
              "      <td>1.00e+00</td>\n",
              "    </tr>\n",
              "    <tr>\n",
              "      <th>isFlaggedFraud</th>\n",
              "      <td>6.36e+06</td>\n",
              "      <td>2.51e-06</td>\n",
              "      <td>1.59e-03</td>\n",
              "      <td>0.0</td>\n",
              "      <td>0.00</td>\n",
              "      <td>0.00</td>\n",
              "      <td>0.00e+00</td>\n",
              "      <td>1.00e+00</td>\n",
              "    </tr>\n",
              "  </tbody>\n",
              "</table>\n",
              "</div>\n",
              "      <button class=\"colab-df-convert\" onclick=\"convertToInteractive('df-592c4bcf-b2f6-4384-bbd8-5b6ead1f3f37')\"\n",
              "              title=\"Convert this dataframe to an interactive table.\"\n",
              "              style=\"display:none;\">\n",
              "        \n",
              "  <svg xmlns=\"http://www.w3.org/2000/svg\" height=\"24px\"viewBox=\"0 0 24 24\"\n",
              "       width=\"24px\">\n",
              "    <path d=\"M0 0h24v24H0V0z\" fill=\"none\"/>\n",
              "    <path d=\"M18.56 5.44l.94 2.06.94-2.06 2.06-.94-2.06-.94-.94-2.06-.94 2.06-2.06.94zm-11 1L8.5 8.5l.94-2.06 2.06-.94-2.06-.94L8.5 2.5l-.94 2.06-2.06.94zm10 10l.94 2.06.94-2.06 2.06-.94-2.06-.94-.94-2.06-.94 2.06-2.06.94z\"/><path d=\"M17.41 7.96l-1.37-1.37c-.4-.4-.92-.59-1.43-.59-.52 0-1.04.2-1.43.59L10.3 9.45l-7.72 7.72c-.78.78-.78 2.05 0 2.83L4 21.41c.39.39.9.59 1.41.59.51 0 1.02-.2 1.41-.59l7.78-7.78 2.81-2.81c.8-.78.8-2.07 0-2.86zM5.41 20L4 18.59l7.72-7.72 1.47 1.35L5.41 20z\"/>\n",
              "  </svg>\n",
              "      </button>\n",
              "      \n",
              "  <style>\n",
              "    .colab-df-container {\n",
              "      display:flex;\n",
              "      flex-wrap:wrap;\n",
              "      gap: 12px;\n",
              "    }\n",
              "\n",
              "    .colab-df-convert {\n",
              "      background-color: #E8F0FE;\n",
              "      border: none;\n",
              "      border-radius: 50%;\n",
              "      cursor: pointer;\n",
              "      display: none;\n",
              "      fill: #1967D2;\n",
              "      height: 32px;\n",
              "      padding: 0 0 0 0;\n",
              "      width: 32px;\n",
              "    }\n",
              "\n",
              "    .colab-df-convert:hover {\n",
              "      background-color: #E2EBFA;\n",
              "      box-shadow: 0px 1px 2px rgba(60, 64, 67, 0.3), 0px 1px 3px 1px rgba(60, 64, 67, 0.15);\n",
              "      fill: #174EA6;\n",
              "    }\n",
              "\n",
              "    [theme=dark] .colab-df-convert {\n",
              "      background-color: #3B4455;\n",
              "      fill: #D2E3FC;\n",
              "    }\n",
              "\n",
              "    [theme=dark] .colab-df-convert:hover {\n",
              "      background-color: #434B5C;\n",
              "      box-shadow: 0px 1px 3px 1px rgba(0, 0, 0, 0.15);\n",
              "      filter: drop-shadow(0px 1px 2px rgba(0, 0, 0, 0.3));\n",
              "      fill: #FFFFFF;\n",
              "    }\n",
              "  </style>\n",
              "\n",
              "      <script>\n",
              "        const buttonEl =\n",
              "          document.querySelector('#df-592c4bcf-b2f6-4384-bbd8-5b6ead1f3f37 button.colab-df-convert');\n",
              "        buttonEl.style.display =\n",
              "          google.colab.kernel.accessAllowed ? 'block' : 'none';\n",
              "\n",
              "        async function convertToInteractive(key) {\n",
              "          const element = document.querySelector('#df-592c4bcf-b2f6-4384-bbd8-5b6ead1f3f37');\n",
              "          const dataTable =\n",
              "            await google.colab.kernel.invokeFunction('convertToInteractive',\n",
              "                                                     [key], {});\n",
              "          if (!dataTable) return;\n",
              "\n",
              "          const docLinkHtml = 'Like what you see? Visit the ' +\n",
              "            '<a target=\"_blank\" href=https://colab.research.google.com/notebooks/data_table.ipynb>data table notebook</a>'\n",
              "            + ' to learn more about interactive tables.';\n",
              "          element.innerHTML = '';\n",
              "          dataTable['output_type'] = 'display_data';\n",
              "          await google.colab.output.renderOutput(dataTable, element);\n",
              "          const docLink = document.createElement('div');\n",
              "          docLink.innerHTML = docLinkHtml;\n",
              "          element.appendChild(docLink);\n",
              "        }\n",
              "      </script>\n",
              "    </div>\n",
              "  </div>\n",
              "  "
            ]
          },
          "metadata": {},
          "execution_count": 47
        }
      ]
    },
    {
      "cell_type": "markdown",
      "source": [
        "Kategorik Değişkenlerin de incelenmesi görülmüştür."
      ],
      "metadata": {
        "id": "W1fR13XvtF2s"
      }
    },
    {
      "cell_type": "code",
      "source": [
        "dataset.describe(include = \"all\").T"
      ],
      "metadata": {
        "colab": {
          "base_uri": "https://localhost:8080/",
          "height": 394
        },
        "id": "LUY7dgIetGmU",
        "outputId": "5972963b-c0f9-465a-d7a4-c25ef82fd0cd"
      },
      "execution_count": 48,
      "outputs": [
        {
          "output_type": "execute_result",
          "data": {
            "text/plain": [
              "                    count   unique          top     freq        mean  \\\n",
              "step            6362620.0      NaN          NaN      NaN       243.4   \n",
              "type              6362620        5     CASH_OUT  2237500         NaN   \n",
              "amount          6362620.0      NaN          NaN      NaN    179861.9   \n",
              "nameOrig          6362620  6353307  C1902386530        3         NaN   \n",
              "oldbalanceOrg   6362620.0      NaN          NaN      NaN    833883.1   \n",
              "newbalanceOrig  6362620.0      NaN          NaN      NaN   855113.67   \n",
              "nameDest          6362620  2722362  C1286084959      113         NaN   \n",
              "oldbalanceDest  6362620.0      NaN          NaN      NaN  1100701.67   \n",
              "newbalanceDest  6362620.0      NaN          NaN      NaN   1224996.4   \n",
              "isFraud         6362620.0      NaN          NaN      NaN         0.0   \n",
              "isFlaggedFraud  6362620.0      NaN          NaN      NaN         0.0   \n",
              "\n",
              "                       std  min       25%        50%         75%           max  \n",
              "step                142.33  1.0     156.0      239.0       335.0         743.0  \n",
              "type                   NaN  NaN       NaN        NaN         NaN           NaN  \n",
              "amount           603858.23  0.0  13389.57   74871.94   208721.48   92445516.64  \n",
              "nameOrig               NaN  NaN       NaN        NaN         NaN           NaN  \n",
              "oldbalanceOrg   2888242.67  0.0       0.0    14208.0   107315.18   59585040.37  \n",
              "newbalanceOrig   2924048.5  0.0       0.0        0.0   144258.41   49585040.37  \n",
              "nameDest               NaN  NaN       NaN        NaN         NaN           NaN  \n",
              "oldbalanceDest  3399180.11  0.0       0.0  132705.66   943036.71  356015889.35  \n",
              "newbalanceDest  3674128.94  0.0       0.0  214661.44  1111909.25  356179278.92  \n",
              "isFraud               0.04  0.0       0.0        0.0         0.0           1.0  \n",
              "isFlaggedFraud         0.0  0.0       0.0        0.0         0.0           1.0  "
            ],
            "text/html": [
              "\n",
              "  <div id=\"df-be886c40-7404-4951-91d4-3a3b2953ae35\">\n",
              "    <div class=\"colab-df-container\">\n",
              "      <div>\n",
              "<style scoped>\n",
              "    .dataframe tbody tr th:only-of-type {\n",
              "        vertical-align: middle;\n",
              "    }\n",
              "\n",
              "    .dataframe tbody tr th {\n",
              "        vertical-align: top;\n",
              "    }\n",
              "\n",
              "    .dataframe thead th {\n",
              "        text-align: right;\n",
              "    }\n",
              "</style>\n",
              "<table border=\"1\" class=\"dataframe\">\n",
              "  <thead>\n",
              "    <tr style=\"text-align: right;\">\n",
              "      <th></th>\n",
              "      <th>count</th>\n",
              "      <th>unique</th>\n",
              "      <th>top</th>\n",
              "      <th>freq</th>\n",
              "      <th>mean</th>\n",
              "      <th>std</th>\n",
              "      <th>min</th>\n",
              "      <th>25%</th>\n",
              "      <th>50%</th>\n",
              "      <th>75%</th>\n",
              "      <th>max</th>\n",
              "    </tr>\n",
              "  </thead>\n",
              "  <tbody>\n",
              "    <tr>\n",
              "      <th>step</th>\n",
              "      <td>6362620.0</td>\n",
              "      <td>NaN</td>\n",
              "      <td>NaN</td>\n",
              "      <td>NaN</td>\n",
              "      <td>243.4</td>\n",
              "      <td>142.33</td>\n",
              "      <td>1.0</td>\n",
              "      <td>156.0</td>\n",
              "      <td>239.0</td>\n",
              "      <td>335.0</td>\n",
              "      <td>743.0</td>\n",
              "    </tr>\n",
              "    <tr>\n",
              "      <th>type</th>\n",
              "      <td>6362620</td>\n",
              "      <td>5</td>\n",
              "      <td>CASH_OUT</td>\n",
              "      <td>2237500</td>\n",
              "      <td>NaN</td>\n",
              "      <td>NaN</td>\n",
              "      <td>NaN</td>\n",
              "      <td>NaN</td>\n",
              "      <td>NaN</td>\n",
              "      <td>NaN</td>\n",
              "      <td>NaN</td>\n",
              "    </tr>\n",
              "    <tr>\n",
              "      <th>amount</th>\n",
              "      <td>6362620.0</td>\n",
              "      <td>NaN</td>\n",
              "      <td>NaN</td>\n",
              "      <td>NaN</td>\n",
              "      <td>179861.9</td>\n",
              "      <td>603858.23</td>\n",
              "      <td>0.0</td>\n",
              "      <td>13389.57</td>\n",
              "      <td>74871.94</td>\n",
              "      <td>208721.48</td>\n",
              "      <td>92445516.64</td>\n",
              "    </tr>\n",
              "    <tr>\n",
              "      <th>nameOrig</th>\n",
              "      <td>6362620</td>\n",
              "      <td>6353307</td>\n",
              "      <td>C1902386530</td>\n",
              "      <td>3</td>\n",
              "      <td>NaN</td>\n",
              "      <td>NaN</td>\n",
              "      <td>NaN</td>\n",
              "      <td>NaN</td>\n",
              "      <td>NaN</td>\n",
              "      <td>NaN</td>\n",
              "      <td>NaN</td>\n",
              "    </tr>\n",
              "    <tr>\n",
              "      <th>oldbalanceOrg</th>\n",
              "      <td>6362620.0</td>\n",
              "      <td>NaN</td>\n",
              "      <td>NaN</td>\n",
              "      <td>NaN</td>\n",
              "      <td>833883.1</td>\n",
              "      <td>2888242.67</td>\n",
              "      <td>0.0</td>\n",
              "      <td>0.0</td>\n",
              "      <td>14208.0</td>\n",
              "      <td>107315.18</td>\n",
              "      <td>59585040.37</td>\n",
              "    </tr>\n",
              "    <tr>\n",
              "      <th>newbalanceOrig</th>\n",
              "      <td>6362620.0</td>\n",
              "      <td>NaN</td>\n",
              "      <td>NaN</td>\n",
              "      <td>NaN</td>\n",
              "      <td>855113.67</td>\n",
              "      <td>2924048.5</td>\n",
              "      <td>0.0</td>\n",
              "      <td>0.0</td>\n",
              "      <td>0.0</td>\n",
              "      <td>144258.41</td>\n",
              "      <td>49585040.37</td>\n",
              "    </tr>\n",
              "    <tr>\n",
              "      <th>nameDest</th>\n",
              "      <td>6362620</td>\n",
              "      <td>2722362</td>\n",
              "      <td>C1286084959</td>\n",
              "      <td>113</td>\n",
              "      <td>NaN</td>\n",
              "      <td>NaN</td>\n",
              "      <td>NaN</td>\n",
              "      <td>NaN</td>\n",
              "      <td>NaN</td>\n",
              "      <td>NaN</td>\n",
              "      <td>NaN</td>\n",
              "    </tr>\n",
              "    <tr>\n",
              "      <th>oldbalanceDest</th>\n",
              "      <td>6362620.0</td>\n",
              "      <td>NaN</td>\n",
              "      <td>NaN</td>\n",
              "      <td>NaN</td>\n",
              "      <td>1100701.67</td>\n",
              "      <td>3399180.11</td>\n",
              "      <td>0.0</td>\n",
              "      <td>0.0</td>\n",
              "      <td>132705.66</td>\n",
              "      <td>943036.71</td>\n",
              "      <td>356015889.35</td>\n",
              "    </tr>\n",
              "    <tr>\n",
              "      <th>newbalanceDest</th>\n",
              "      <td>6362620.0</td>\n",
              "      <td>NaN</td>\n",
              "      <td>NaN</td>\n",
              "      <td>NaN</td>\n",
              "      <td>1224996.4</td>\n",
              "      <td>3674128.94</td>\n",
              "      <td>0.0</td>\n",
              "      <td>0.0</td>\n",
              "      <td>214661.44</td>\n",
              "      <td>1111909.25</td>\n",
              "      <td>356179278.92</td>\n",
              "    </tr>\n",
              "    <tr>\n",
              "      <th>isFraud</th>\n",
              "      <td>6362620.0</td>\n",
              "      <td>NaN</td>\n",
              "      <td>NaN</td>\n",
              "      <td>NaN</td>\n",
              "      <td>0.0</td>\n",
              "      <td>0.04</td>\n",
              "      <td>0.0</td>\n",
              "      <td>0.0</td>\n",
              "      <td>0.0</td>\n",
              "      <td>0.0</td>\n",
              "      <td>1.0</td>\n",
              "    </tr>\n",
              "    <tr>\n",
              "      <th>isFlaggedFraud</th>\n",
              "      <td>6362620.0</td>\n",
              "      <td>NaN</td>\n",
              "      <td>NaN</td>\n",
              "      <td>NaN</td>\n",
              "      <td>0.0</td>\n",
              "      <td>0.0</td>\n",
              "      <td>0.0</td>\n",
              "      <td>0.0</td>\n",
              "      <td>0.0</td>\n",
              "      <td>0.0</td>\n",
              "      <td>1.0</td>\n",
              "    </tr>\n",
              "  </tbody>\n",
              "</table>\n",
              "</div>\n",
              "      <button class=\"colab-df-convert\" onclick=\"convertToInteractive('df-be886c40-7404-4951-91d4-3a3b2953ae35')\"\n",
              "              title=\"Convert this dataframe to an interactive table.\"\n",
              "              style=\"display:none;\">\n",
              "        \n",
              "  <svg xmlns=\"http://www.w3.org/2000/svg\" height=\"24px\"viewBox=\"0 0 24 24\"\n",
              "       width=\"24px\">\n",
              "    <path d=\"M0 0h24v24H0V0z\" fill=\"none\"/>\n",
              "    <path d=\"M18.56 5.44l.94 2.06.94-2.06 2.06-.94-2.06-.94-.94-2.06-.94 2.06-2.06.94zm-11 1L8.5 8.5l.94-2.06 2.06-.94-2.06-.94L8.5 2.5l-.94 2.06-2.06.94zm10 10l.94 2.06.94-2.06 2.06-.94-2.06-.94-.94-2.06-.94 2.06-2.06.94z\"/><path d=\"M17.41 7.96l-1.37-1.37c-.4-.4-.92-.59-1.43-.59-.52 0-1.04.2-1.43.59L10.3 9.45l-7.72 7.72c-.78.78-.78 2.05 0 2.83L4 21.41c.39.39.9.59 1.41.59.51 0 1.02-.2 1.41-.59l7.78-7.78 2.81-2.81c.8-.78.8-2.07 0-2.86zM5.41 20L4 18.59l7.72-7.72 1.47 1.35L5.41 20z\"/>\n",
              "  </svg>\n",
              "      </button>\n",
              "      \n",
              "  <style>\n",
              "    .colab-df-container {\n",
              "      display:flex;\n",
              "      flex-wrap:wrap;\n",
              "      gap: 12px;\n",
              "    }\n",
              "\n",
              "    .colab-df-convert {\n",
              "      background-color: #E8F0FE;\n",
              "      border: none;\n",
              "      border-radius: 50%;\n",
              "      cursor: pointer;\n",
              "      display: none;\n",
              "      fill: #1967D2;\n",
              "      height: 32px;\n",
              "      padding: 0 0 0 0;\n",
              "      width: 32px;\n",
              "    }\n",
              "\n",
              "    .colab-df-convert:hover {\n",
              "      background-color: #E2EBFA;\n",
              "      box-shadow: 0px 1px 2px rgba(60, 64, 67, 0.3), 0px 1px 3px 1px rgba(60, 64, 67, 0.15);\n",
              "      fill: #174EA6;\n",
              "    }\n",
              "\n",
              "    [theme=dark] .colab-df-convert {\n",
              "      background-color: #3B4455;\n",
              "      fill: #D2E3FC;\n",
              "    }\n",
              "\n",
              "    [theme=dark] .colab-df-convert:hover {\n",
              "      background-color: #434B5C;\n",
              "      box-shadow: 0px 1px 3px 1px rgba(0, 0, 0, 0.15);\n",
              "      filter: drop-shadow(0px 1px 2px rgba(0, 0, 0, 0.3));\n",
              "      fill: #FFFFFF;\n",
              "    }\n",
              "  </style>\n",
              "\n",
              "      <script>\n",
              "        const buttonEl =\n",
              "          document.querySelector('#df-be886c40-7404-4951-91d4-3a3b2953ae35 button.colab-df-convert');\n",
              "        buttonEl.style.display =\n",
              "          google.colab.kernel.accessAllowed ? 'block' : 'none';\n",
              "\n",
              "        async function convertToInteractive(key) {\n",
              "          const element = document.querySelector('#df-be886c40-7404-4951-91d4-3a3b2953ae35');\n",
              "          const dataTable =\n",
              "            await google.colab.kernel.invokeFunction('convertToInteractive',\n",
              "                                                     [key], {});\n",
              "          if (!dataTable) return;\n",
              "\n",
              "          const docLinkHtml = 'Like what you see? Visit the ' +\n",
              "            '<a target=\"_blank\" href=https://colab.research.google.com/notebooks/data_table.ipynb>data table notebook</a>'\n",
              "            + ' to learn more about interactive tables.';\n",
              "          element.innerHTML = '';\n",
              "          dataTable['output_type'] = 'display_data';\n",
              "          await google.colab.output.renderOutput(dataTable, element);\n",
              "          const docLink = document.createElement('div');\n",
              "          docLink.innerHTML = docLinkHtml;\n",
              "          element.appendChild(docLink);\n",
              "        }\n",
              "      </script>\n",
              "    </div>\n",
              "  </div>\n",
              "  "
            ]
          },
          "metadata": {},
          "execution_count": 48
        }
      ]
    },
    {
      "cell_type": "markdown",
      "source": [
        "## Kategorik Özniteliklerin incelenmesi\n",
        "\n",
        "nameOrig ve nameDest değişkenlerinin,yukarıda gördüğümüz üzer benzersiz değerleri çok fazla olduğu için incelenmemiştir."
      ],
      "metadata": {
        "id": "diawjLwbsL-I"
      }
    },
    {
      "cell_type": "code",
      "source": [
        "categoricalColumns = dataset.select_dtypes(include = [\"object\"])\n"
      ],
      "metadata": {
        "id": "ZCXJiRMgr-Fh"
      },
      "execution_count": 49,
      "outputs": []
    },
    {
      "cell_type": "code",
      "source": [
        "categoricalColumns.sample(frac=frac)"
      ],
      "metadata": {
        "colab": {
          "base_uri": "https://localhost:8080/",
          "height": 457
        },
        "id": "W01dHo3zsFeS",
        "outputId": "e9012c06-10b5-4ecb-f045-ac99355a6366"
      },
      "execution_count": 50,
      "outputs": [
        {
          "output_type": "execute_result",
          "data": {
            "text/plain": [
              "             type     nameOrig     nameDest\n",
              "2312446   PAYMENT  C1150859414   M143846127\n",
              "3115721   CASH_IN   C362203093   C640767201\n",
              "916793    CASH_IN  C2080042808  C1608855651\n",
              "2066154   CASH_IN  C1936742275  C1364989375\n",
              "6084572  CASH_OUT  C1368176982  C1951377141\n",
              "5099446  CASH_OUT  C1969275429  C1728410642\n",
              "617810    CASH_IN  C1110268083   C703911064\n",
              "1783844   PAYMENT  C1355845383   M106894821\n",
              "67918     CASH_IN  C2053287697  C1593812215\n",
              "2194356  CASH_OUT   C104811060  C1906897029\n",
              "979644    PAYMENT   C552797130  M1338961116\n",
              "6089617  CASH_OUT  C2082865961  C1970484709\n",
              "5562916   PAYMENT   C388653548   M822469474"
            ],
            "text/html": [
              "\n",
              "  <div id=\"df-ef715a88-78a4-4ccd-9914-fd2da68cb4f1\">\n",
              "    <div class=\"colab-df-container\">\n",
              "      <div>\n",
              "<style scoped>\n",
              "    .dataframe tbody tr th:only-of-type {\n",
              "        vertical-align: middle;\n",
              "    }\n",
              "\n",
              "    .dataframe tbody tr th {\n",
              "        vertical-align: top;\n",
              "    }\n",
              "\n",
              "    .dataframe thead th {\n",
              "        text-align: right;\n",
              "    }\n",
              "</style>\n",
              "<table border=\"1\" class=\"dataframe\">\n",
              "  <thead>\n",
              "    <tr style=\"text-align: right;\">\n",
              "      <th></th>\n",
              "      <th>type</th>\n",
              "      <th>nameOrig</th>\n",
              "      <th>nameDest</th>\n",
              "    </tr>\n",
              "  </thead>\n",
              "  <tbody>\n",
              "    <tr>\n",
              "      <th>2312446</th>\n",
              "      <td>PAYMENT</td>\n",
              "      <td>C1150859414</td>\n",
              "      <td>M143846127</td>\n",
              "    </tr>\n",
              "    <tr>\n",
              "      <th>3115721</th>\n",
              "      <td>CASH_IN</td>\n",
              "      <td>C362203093</td>\n",
              "      <td>C640767201</td>\n",
              "    </tr>\n",
              "    <tr>\n",
              "      <th>916793</th>\n",
              "      <td>CASH_IN</td>\n",
              "      <td>C2080042808</td>\n",
              "      <td>C1608855651</td>\n",
              "    </tr>\n",
              "    <tr>\n",
              "      <th>2066154</th>\n",
              "      <td>CASH_IN</td>\n",
              "      <td>C1936742275</td>\n",
              "      <td>C1364989375</td>\n",
              "    </tr>\n",
              "    <tr>\n",
              "      <th>6084572</th>\n",
              "      <td>CASH_OUT</td>\n",
              "      <td>C1368176982</td>\n",
              "      <td>C1951377141</td>\n",
              "    </tr>\n",
              "    <tr>\n",
              "      <th>5099446</th>\n",
              "      <td>CASH_OUT</td>\n",
              "      <td>C1969275429</td>\n",
              "      <td>C1728410642</td>\n",
              "    </tr>\n",
              "    <tr>\n",
              "      <th>617810</th>\n",
              "      <td>CASH_IN</td>\n",
              "      <td>C1110268083</td>\n",
              "      <td>C703911064</td>\n",
              "    </tr>\n",
              "    <tr>\n",
              "      <th>1783844</th>\n",
              "      <td>PAYMENT</td>\n",
              "      <td>C1355845383</td>\n",
              "      <td>M106894821</td>\n",
              "    </tr>\n",
              "    <tr>\n",
              "      <th>67918</th>\n",
              "      <td>CASH_IN</td>\n",
              "      <td>C2053287697</td>\n",
              "      <td>C1593812215</td>\n",
              "    </tr>\n",
              "    <tr>\n",
              "      <th>2194356</th>\n",
              "      <td>CASH_OUT</td>\n",
              "      <td>C104811060</td>\n",
              "      <td>C1906897029</td>\n",
              "    </tr>\n",
              "    <tr>\n",
              "      <th>979644</th>\n",
              "      <td>PAYMENT</td>\n",
              "      <td>C552797130</td>\n",
              "      <td>M1338961116</td>\n",
              "    </tr>\n",
              "    <tr>\n",
              "      <th>6089617</th>\n",
              "      <td>CASH_OUT</td>\n",
              "      <td>C2082865961</td>\n",
              "      <td>C1970484709</td>\n",
              "    </tr>\n",
              "    <tr>\n",
              "      <th>5562916</th>\n",
              "      <td>PAYMENT</td>\n",
              "      <td>C388653548</td>\n",
              "      <td>M822469474</td>\n",
              "    </tr>\n",
              "  </tbody>\n",
              "</table>\n",
              "</div>\n",
              "      <button class=\"colab-df-convert\" onclick=\"convertToInteractive('df-ef715a88-78a4-4ccd-9914-fd2da68cb4f1')\"\n",
              "              title=\"Convert this dataframe to an interactive table.\"\n",
              "              style=\"display:none;\">\n",
              "        \n",
              "  <svg xmlns=\"http://www.w3.org/2000/svg\" height=\"24px\"viewBox=\"0 0 24 24\"\n",
              "       width=\"24px\">\n",
              "    <path d=\"M0 0h24v24H0V0z\" fill=\"none\"/>\n",
              "    <path d=\"M18.56 5.44l.94 2.06.94-2.06 2.06-.94-2.06-.94-.94-2.06-.94 2.06-2.06.94zm-11 1L8.5 8.5l.94-2.06 2.06-.94-2.06-.94L8.5 2.5l-.94 2.06-2.06.94zm10 10l.94 2.06.94-2.06 2.06-.94-2.06-.94-.94-2.06-.94 2.06-2.06.94z\"/><path d=\"M17.41 7.96l-1.37-1.37c-.4-.4-.92-.59-1.43-.59-.52 0-1.04.2-1.43.59L10.3 9.45l-7.72 7.72c-.78.78-.78 2.05 0 2.83L4 21.41c.39.39.9.59 1.41.59.51 0 1.02-.2 1.41-.59l7.78-7.78 2.81-2.81c.8-.78.8-2.07 0-2.86zM5.41 20L4 18.59l7.72-7.72 1.47 1.35L5.41 20z\"/>\n",
              "  </svg>\n",
              "      </button>\n",
              "      \n",
              "  <style>\n",
              "    .colab-df-container {\n",
              "      display:flex;\n",
              "      flex-wrap:wrap;\n",
              "      gap: 12px;\n",
              "    }\n",
              "\n",
              "    .colab-df-convert {\n",
              "      background-color: #E8F0FE;\n",
              "      border: none;\n",
              "      border-radius: 50%;\n",
              "      cursor: pointer;\n",
              "      display: none;\n",
              "      fill: #1967D2;\n",
              "      height: 32px;\n",
              "      padding: 0 0 0 0;\n",
              "      width: 32px;\n",
              "    }\n",
              "\n",
              "    .colab-df-convert:hover {\n",
              "      background-color: #E2EBFA;\n",
              "      box-shadow: 0px 1px 2px rgba(60, 64, 67, 0.3), 0px 1px 3px 1px rgba(60, 64, 67, 0.15);\n",
              "      fill: #174EA6;\n",
              "    }\n",
              "\n",
              "    [theme=dark] .colab-df-convert {\n",
              "      background-color: #3B4455;\n",
              "      fill: #D2E3FC;\n",
              "    }\n",
              "\n",
              "    [theme=dark] .colab-df-convert:hover {\n",
              "      background-color: #434B5C;\n",
              "      box-shadow: 0px 1px 3px 1px rgba(0, 0, 0, 0.15);\n",
              "      filter: drop-shadow(0px 1px 2px rgba(0, 0, 0, 0.3));\n",
              "      fill: #FFFFFF;\n",
              "    }\n",
              "  </style>\n",
              "\n",
              "      <script>\n",
              "        const buttonEl =\n",
              "          document.querySelector('#df-ef715a88-78a4-4ccd-9914-fd2da68cb4f1 button.colab-df-convert');\n",
              "        buttonEl.style.display =\n",
              "          google.colab.kernel.accessAllowed ? 'block' : 'none';\n",
              "\n",
              "        async function convertToInteractive(key) {\n",
              "          const element = document.querySelector('#df-ef715a88-78a4-4ccd-9914-fd2da68cb4f1');\n",
              "          const dataTable =\n",
              "            await google.colab.kernel.invokeFunction('convertToInteractive',\n",
              "                                                     [key], {});\n",
              "          if (!dataTable) return;\n",
              "\n",
              "          const docLinkHtml = 'Like what you see? Visit the ' +\n",
              "            '<a target=\"_blank\" href=https://colab.research.google.com/notebooks/data_table.ipynb>data table notebook</a>'\n",
              "            + ' to learn more about interactive tables.';\n",
              "          element.innerHTML = '';\n",
              "          dataTable['output_type'] = 'display_data';\n",
              "          await google.colab.output.renderOutput(dataTable, element);\n",
              "          const docLink = document.createElement('div');\n",
              "          docLink.innerHTML = docLinkHtml;\n",
              "          element.appendChild(docLink);\n",
              "        }\n",
              "      </script>\n",
              "    </div>\n",
              "  </div>\n",
              "  "
            ]
          },
          "metadata": {},
          "execution_count": 50
        }
      ]
    },
    {
      "cell_type": "code",
      "source": [
        "categoricalColumns[\"type\"].unique()"
      ],
      "metadata": {
        "colab": {
          "base_uri": "https://localhost:8080/"
        },
        "id": "SsI4zUzysWqG",
        "outputId": "18008eed-ec1b-4661-8c98-e01b871de023"
      },
      "execution_count": 51,
      "outputs": [
        {
          "output_type": "execute_result",
          "data": {
            "text/plain": [
              "array(['PAYMENT', 'TRANSFER', 'CASH_OUT', 'DEBIT', 'CASH_IN'],\n",
              "      dtype=object)"
            ]
          },
          "metadata": {},
          "execution_count": 51
        }
      ]
    },
    {
      "cell_type": "code",
      "source": [
        "categoricalColumns[\"type\"].value_counts()"
      ],
      "metadata": {
        "colab": {
          "base_uri": "https://localhost:8080/"
        },
        "id": "0eOFKYZnse0d",
        "outputId": "85e3194c-05af-4a05-86df-71b990e60b77"
      },
      "execution_count": 52,
      "outputs": [
        {
          "output_type": "execute_result",
          "data": {
            "text/plain": [
              "CASH_OUT    2237500\n",
              "PAYMENT     2151495\n",
              "CASH_IN     1399284\n",
              "TRANSFER     532909\n",
              "DEBIT         41432\n",
              "Name: type, dtype: int64"
            ]
          },
          "metadata": {},
          "execution_count": 52
        }
      ]
    },
    {
      "cell_type": "code",
      "source": [
        "categoricalColumns[\"type\"].value_counts().plot.barh();"
      ],
      "metadata": {
        "colab": {
          "base_uri": "https://localhost:8080/",
          "height": 278
        },
        "id": "4j-2sQxFs3FF",
        "outputId": "2e6a6001-4c03-4ddb-c844-945cb198f2f9"
      },
      "execution_count": 53,
      "outputs": [
        {
          "output_type": "display_data",
          "data": {
            "text/plain": [
              "<Figure size 432x288 with 1 Axes>"
            ],
            "image/png": "[encoded data removed]"
          },
          "metadata": {
            "needs_background": "light"
          }
        }
      ]
    },
    {
      "cell_type": "code",
      "source": [
        "type = dataset[\"type\"].value_counts()\n",
        "transactions = type.index\n",
        "quantity = type.values\n",
        "figure = px.pie(dataset, values=quantity, names=transactions, hole = 0.5, title=\"İşlemlerin Dağılımı\")\n",
        "figure.show()"
      ],
      "metadata": {
        "colab": {
          "base_uri": "https://localhost:8080/",
          "height": 542
        },
        "id": "NxlRwcMGthAH",
        "outputId": "2eb99943-78df-4500-d577-dd2e1152c1b8"
      },
      "execution_count": 54,
      "outputs": [
        {
          "output_type": "display_data",
          "data": {
            "text/html": [
              "<html>\n",
              "<head><meta charset=\"utf-8\" /></head>\n",
              "<body>\n",
              "    <div>            <script src=\"https://cdnjs.cloudflare.com/ajax/libs/mathjax/2.7.5/MathJax.js?config=TeX-AMS-MML_SVG\"></script><script type=\"text/javascript\">if (window.MathJax) {MathJax.Hub.Config({SVG: {font: \"STIX-Web\"}});}</script>                <script type=\"text/javascript\">window.PlotlyConfig = {MathJaxConfig: 'local'};</script>\n",
              "        <script src=\"https://cdn.plot.ly/plotly-2.8.3.min.js\"></script>                <div id=\"a6331f6c-0d83-4974-8b68-70ef09f3ea39\" class=\"plotly-graph-div\" style=\"height:525px; width:100%;\"></div>            <script type=\"text/javascript\">                                    window.PLOTLYENV=window.PLOTLYENV || {};                                    if (document.getElementById(\"a6331f6c-0d83-4974-8b68-70ef09f3ea39\")) {                    Plotly.newPlot(                        \"a6331f6c-0d83-4974-8b68-70ef09f3ea39\",                        [{\"domain\":{\"x\":[0.0,1.0],\"y\":[0.0,1.0]},\"hole\":0.5,\"hovertemplate\":\"label=%{label}<br>value=%{value}<extra></extra>\",\"labels\":[\"CASH_OUT\",\"PAYMENT\",\"CASH_IN\",\"TRANSFER\",\"DEBIT\"],\"legendgroup\":\"\",\"name\":\"\",\"showlegend\":true,\"values\":[2237500,2151495,1399284,532909,41432],\"type\":\"pie\"}],                        {\"template\":{\"data\":{\"bar\":[{\"error_x\":{\"color\":\"#2a3f5f\"},\"error_y\":{\"color\":\"#2a3f5f\"},\"marker\":{\"line\":{\"color\":\"#E5ECF6\",\"width\":0.5},\"pattern\":{\"fillmode\":\"overlay\",\"size\":10,\"solidity\":0.2}},\"type\":\"bar\"}],\"barpolar\":[{\"marker\":{\"line\":{\"color\":\"#E5ECF6\",\"width\":0.5},\"pattern\":{\"fillmode\":\"overlay\",\"size\":10,\"solidity\":0.2}},\"type\":\"barpolar\"}],\"carpet\":[{\"aaxis\":{\"endlinecolor\":\"#2a3f5f\",\"gridcolor\":\"white\",\"linecolor\":\"white\",\"minorgridcolor\":\"white\",\"startlinecolor\":\"#2a3f5f\"},\"baxis\":{\"endlinecolor\":\"#2a3f5f\",\"gridcolor\":\"white\",\"linecolor\":\"white\",\"minorgridcolor\":\"white\",\"startlinecolor\":\"#2a3f5f\"},\"type\":\"carpet\"}],\"choropleth\":[{\"colorbar\":{\"outlinewidth\":0,\"ticks\":\"\"},\"type\":\"choropleth\"}],\"contour\":[{\"colorbar\":{\"outlinewidth\":0,\"ticks\":\"\"},\"colorscale\":[[0.0,\"#0d0887\"],[0.1111111111111111,\"#46039f\"],[0.2222222222222222,\"#7201a8\"],[0.3333333333333333,\"#9c179e\"],[0.4444444444444444,\"#bd3786\"],[0.5555555555555556,\"#d8576b\"],[0.6666666666666666,\"#ed7953\"],[0.7777777777777778,\"#fb9f3a\"],[0.8888888888888888,\"#fdca26\"],[1.0,\"#f0f921\"]],\"type\":\"contour\"}],\"contourcarpet\":[{\"colorbar\":{\"outlinewidth\":0,\"ticks\":\"\"},\"type\":\"contourcarpet\"}],\"heatmap\":[{\"colorbar\":{\"outlinewidth\":0,\"ticks\":\"\"},\"colorscale\":[[0.0,\"#0d0887\"],[0.1111111111111111,\"#46039f\"],[0.2222222222222222,\"#7201a8\"],[0.3333333333333333,\"#9c179e\"],[0.4444444444444444,\"#bd3786\"],[0.5555555555555556,\"#d8576b\"],[0.6666666666666666,\"#ed7953\"],[0.7777777777777778,\"#fb9f3a\"],[0.8888888888888888,\"#fdca26\"],[1.0,\"#f0f921\"]],\"type\":\"heatmap\"}],\"heatmapgl\":[{\"colorbar\":{\"outlinewidth\":0,\"ticks\":\"\"},\"colorscale\":[[0.0,\"#0d0887\"],[0.1111111111111111,\"#46039f\"],[0.2222222222222222,\"#7201a8\"],[0.3333333333333333,\"#9c179e\"],[0.4444444444444444,\"#bd3786\"],[0.5555555555555556,\"#d8576b\"],[0.6666666666666666,\"#ed7953\"],[0.7777777777777778,\"#fb9f3a\"],[0.8888888888888888,\"#fdca26\"],[1.0,\"#f0f921\"]],\"type\":\"heatmapgl\"}],\"histogram\":[{\"marker\":{\"pattern\":{\"fillmode\":\"overlay\",\"size\":10,\"solidity\":0.2}},\"type\":\"histogram\"}],\"histogram2d\":[{\"colorbar\":{\"outlinewidth\":0,\"ticks\":\"\"},\"colorscale\":[[0.0,\"#0d0887\"],[0.1111111111111111,\"#46039f\"],[0.2222222222222222,\"#7201a8\"],[0.3333333333333333,\"#9c179e\"],[0.4444444444444444,\"#bd3786\"],[0.5555555555555556,\"#d8576b\"],[0.6666666666666666,\"#ed7953\"],[0.7777777777777778,\"#fb9f3a\"],[0.8888888888888888,\"#fdca26\"],[1.0,\"#f0f921\"]],\"type\":\"histogram2d\"}],\"histogram2dcontour\":[{\"colorbar\":{\"outlinewidth\":0,\"ticks\":\"\"},\"colorscale\":[[0.0,\"#0d0887\"],[0.1111111111111111,\"#46039f\"],[0.2222222222222222,\"#7201a8\"],[0.3333333333333333,\"#9c179e\"],[0.4444444444444444,\"#bd3786\"],[0.5555555555555556,\"#d8576b\"],[0.6666666666666666,\"#ed7953\"],[0.7777777777777778,\"#fb9f3a\"],[0.8888888888888888,\"#fdca26\"],[1.0,\"#f0f921\"]],\"type\":\"histogram2dcontour\"}],\"mesh3d\":[{\"colorbar\":{\"outlinewidth\":0,\"ticks\":\"\"},\"type\":\"mesh3d\"}],\"parcoords\":[{\"line\":{\"colorbar\":{\"outlinewidth\":0,\"ticks\":\"\"}},\"type\":\"parcoords\"}],\"pie\":[{\"automargin\":true,\"type\":\"pie\"}],\"scatter\":[{\"marker\":{\"colorbar\":{\"outlinewidth\":0,\"ticks\":\"\"}},\"type\":\"scatter\"}],\"scatter3d\":[{\"line\":{\"colorbar\":{\"outlinewidth\":0,\"ticks\":\"\"}},\"marker\":{\"colorbar\":{\"outlinewidth\":0,\"ticks\":\"\"}},\"type\":\"scatter3d\"}],\"scattercarpet\":[{\"marker\":{\"colorbar\":{\"outlinewidth\":0,\"ticks\":\"\"}},\"type\":\"scattercarpet\"}],\"scattergeo\":[{\"marker\":{\"colorbar\":{\"outlinewidth\":0,\"ticks\":\"\"}},\"type\":\"scattergeo\"}],\"scattergl\":[{\"marker\":{\"colorbar\":{\"outlinewidth\":0,\"ticks\":\"\"}},\"type\":\"scattergl\"}],\"scattermapbox\":[{\"marker\":{\"colorbar\":{\"outlinewidth\":0,\"ticks\":\"\"}},\"type\":\"scattermapbox\"}],\"scatterpolar\":[{\"marker\":{\"colorbar\":{\"outlinewidth\":0,\"ticks\":\"\"}},\"type\":\"scatterpolar\"}],\"scatterpolargl\":[{\"marker\":{\"colorbar\":{\"outlinewidth\":0,\"ticks\":\"\"}},\"type\":\"scatterpolargl\"}],\"scatterternary\":[{\"marker\":{\"colorbar\":{\"outlinewidth\":0,\"ticks\":\"\"}},\"type\":\"scatterternary\"}],\"surface\":[{\"colorbar\":{\"outlinewidth\":0,\"ticks\":\"\"},\"colorscale\":[[0.0,\"#0d0887\"],[0.1111111111111111,\"#46039f\"],[0.2222222222222222,\"#7201a8\"],[0.3333333333333333,\"#9c179e\"],[0.4444444444444444,\"#bd3786\"],[0.5555555555555556,\"#d8576b\"],[0.6666666666666666,\"#ed7953\"],[0.7777777777777778,\"#fb9f3a\"],[0.8888888888888888,\"#fdca26\"],[1.0,\"#f0f921\"]],\"type\":\"surface\"}],\"table\":[{\"cells\":{\"fill\":{\"color\":\"#EBF0F8\"},\"line\":{\"color\":\"white\"}},\"header\":{\"fill\":{\"color\":\"#C8D4E3\"},\"line\":{\"color\":\"white\"}},\"type\":\"table\"}]},\"layout\":{\"annotationdefaults\":{\"arrowcolor\":\"#2a3f5f\",\"arrowhead\":0,\"arrowwidth\":1},\"autotypenumbers\":\"strict\",\"coloraxis\":{\"colorbar\":{\"outlinewidth\":0,\"ticks\":\"\"}},\"colorscale\":{\"diverging\":[[0,\"#8e0152\"],[0.1,\"#c51b7d\"],[0.2,\"#de77ae\"],[0.3,\"#f1b6da\"],[0.4,\"#fde0ef\"],[0.5,\"#f7f7f7\"],[0.6,\"#e6f5d0\"],[0.7,\"#b8e186\"],[0.8,\"#7fbc41\"],[0.9,\"#4d9221\"],[1,\"#276419\"]],\"sequential\":[[0.0,\"#0d0887\"],[0.1111111111111111,\"#46039f\"],[0.2222222222222222,\"#7201a8\"],[0.3333333333333333,\"#9c179e\"],[0.4444444444444444,\"#bd3786\"],[0.5555555555555556,\"#d8576b\"],[0.6666666666666666,\"#ed7953\"],[0.7777777777777778,\"#fb9f3a\"],[0.8888888888888888,\"#fdca26\"],[1.0,\"#f0f921\"]],\"sequentialminus\":[[0.0,\"#0d0887\"],[0.1111111111111111,\"#46039f\"],[0.2222222222222222,\"#7201a8\"],[0.3333333333333333,\"#9c179e\"],[0.4444444444444444,\"#bd3786\"],[0.5555555555555556,\"#d8576b\"],[0.6666666666666666,\"#ed7953\"],[0.7777777777777778,\"#fb9f3a\"],[0.8888888888888888,\"#fdca26\"],[1.0,\"#f0f921\"]]},\"colorway\":[\"#636efa\",\"#EF553B\",\"#00cc96\",\"#ab63fa\",\"#FFA15A\",\"#19d3f3\",\"#FF6692\",\"#B6E880\",\"#FF97FF\",\"#FECB52\"],\"font\":{\"color\":\"#2a3f5f\"},\"geo\":{\"bgcolor\":\"white\",\"lakecolor\":\"white\",\"landcolor\":\"#E5ECF6\",\"showlakes\":true,\"showland\":true,\"subunitcolor\":\"white\"},\"hoverlabel\":{\"align\":\"left\"},\"hovermode\":\"closest\",\"mapbox\":{\"style\":\"light\"},\"paper_bgcolor\":\"white\",\"plot_bgcolor\":\"#E5ECF6\",\"polar\":{\"angularaxis\":{\"gridcolor\":\"white\",\"linecolor\":\"white\",\"ticks\":\"\"},\"bgcolor\":\"#E5ECF6\",\"radialaxis\":{\"gridcolor\":\"white\",\"linecolor\":\"white\",\"ticks\":\"\"}},\"scene\":{\"xaxis\":{\"backgroundcolor\":\"#E5ECF6\",\"gridcolor\":\"white\",\"gridwidth\":2,\"linecolor\":\"white\",\"showbackground\":true,\"ticks\":\"\",\"zerolinecolor\":\"white\"},\"yaxis\":{\"backgroundcolor\":\"#E5ECF6\",\"gridcolor\":\"white\",\"gridwidth\":2,\"linecolor\":\"white\",\"showbackground\":true,\"ticks\":\"\",\"zerolinecolor\":\"white\"},\"zaxis\":{\"backgroundcolor\":\"#E5ECF6\",\"gridcolor\":\"white\",\"gridwidth\":2,\"linecolor\":\"white\",\"showbackground\":true,\"ticks\":\"\",\"zerolinecolor\":\"white\"}},\"shapedefaults\":{\"line\":{\"color\":\"#2a3f5f\"}},\"ternary\":{\"aaxis\":{\"gridcolor\":\"white\",\"linecolor\":\"white\",\"ticks\":\"\"},\"baxis\":{\"gridcolor\":\"white\",\"linecolor\":\"white\",\"ticks\":\"\"},\"bgcolor\":\"#E5ECF6\",\"caxis\":{\"gridcolor\":\"white\",\"linecolor\":\"white\",\"ticks\":\"\"}},\"title\":{\"x\":0.05},\"xaxis\":{\"automargin\":true,\"gridcolor\":\"white\",\"linecolor\":\"white\",\"ticks\":\"\",\"title\":{\"standoff\":15},\"zerolinecolor\":\"white\",\"zerolinewidth\":2},\"yaxis\":{\"automargin\":true,\"gridcolor\":\"white\",\"linecolor\":\"white\",\"ticks\":\"\",\"title\":{\"standoff\":15},\"zerolinecolor\":\"white\",\"zerolinewidth\":2}}},\"legend\":{\"tracegroupgap\":0},\"title\":{\"text\":\"\\u0130\\u015flemlerin Da\\u011f\\u0131l\\u0131m\\u0131\"}},                        {\"responsive\": true}                    ).then(function(){\n",
              "                            \n",
              "var gd = document.getElementById('a6331f6c-0d83-4974-8b68-70ef09f3ea39');\n",
              "var x = new MutationObserver(function (mutations, observer) {{\n",
              "        var display = window.getComputedStyle(gd).display;\n",
              "        if (!display || display === 'none') {{\n",
              "            console.log([gd, 'removed!']);\n",
              "            Plotly.purge(gd);\n",
              "            observer.disconnect();\n",
              "        }}\n",
              "}});\n",
              "\n",
              "// Listen for the removal of the full notebook cells\n",
              "var notebookContainer = gd.closest('#notebook-container');\n",
              "if (notebookContainer) {{\n",
              "    x.observe(notebookContainer, {childList: true});\n",
              "}}\n",
              "\n",
              "// Listen for the clearing of the current output cell\n",
              "var outputEl = gd.closest('.output');\n",
              "if (outputEl) {{\n",
              "    x.observe(outputEl, {childList: true});\n",
              "}}\n",
              "\n",
              "                        })                };                            </script>        </div>\n",
              "</body>\n",
              "</html>"
            ]
          },
          "metadata": {}
        }
      ]
    },
    {
      "cell_type": "markdown",
      "source": [
        "## Veri setinin özniteliklerinin arasındaki ilişkinin incelenmesi"
      ],
      "metadata": {
        "id": "Iy9ag5tcqalt"
      }
    },
    {
      "cell_type": "code",
      "source": [
        "dataset.corr()"
      ],
      "metadata": {
        "colab": {
          "base_uri": "https://localhost:8080/",
          "height": 300
        },
        "id": "KIPdj33TqTL-",
        "outputId": "882f94ec-b04a-490a-b971-a5c4f34100f2"
      },
      "execution_count": 55,
      "outputs": [
        {
          "output_type": "execute_result",
          "data": {
            "text/plain": [
              "                    step    amount  oldbalanceOrg  newbalanceOrig  \\\n",
              "step            1.00e+00  2.24e-02      -1.01e-02       -1.03e-02   \n",
              "amount          2.24e-02  1.00e+00      -2.76e-03       -7.86e-03   \n",
              "oldbalanceOrg  -1.01e-02 -2.76e-03       1.00e+00        9.99e-01   \n",
              "newbalanceOrig -1.03e-02 -7.86e-03       9.99e-01        1.00e+00   \n",
              "oldbalanceDest  2.77e-02  2.94e-01       6.62e-02        6.78e-02   \n",
              "newbalanceDest  2.59e-02  4.59e-01       4.20e-02        4.18e-02   \n",
              "isFraud         3.16e-02  7.67e-02       1.02e-02       -8.15e-03   \n",
              "isFlaggedFraud  3.28e-03  1.23e-02       3.83e-03        3.78e-03   \n",
              "\n",
              "                oldbalanceDest  newbalanceDest   isFraud  isFlaggedFraud  \n",
              "step                  2.77e-02        2.59e-02  3.16e-02        3.28e-03  \n",
              "amount                2.94e-01        4.59e-01  7.67e-02        1.23e-02  \n",
              "oldbalanceOrg         6.62e-02        4.20e-02  1.02e-02        3.83e-03  \n",
              "newbalanceOrig        6.78e-02        4.18e-02 -8.15e-03        3.78e-03  \n",
              "oldbalanceDest        1.00e+00        9.77e-01 -5.89e-03       -5.13e-04  \n",
              "newbalanceDest        9.77e-01        1.00e+00  5.35e-04       -5.29e-04  \n",
              "isFraud              -5.89e-03        5.35e-04  1.00e+00        4.41e-02  \n",
              "isFlaggedFraud       -5.13e-04       -5.29e-04  4.41e-02        1.00e+00  "
            ],
            "text/html": [
              "\n",
              "  <div id=\"df-141aab75-bbe4-47af-a8ee-96e6739b54a8\">\n",
              "    <div class=\"colab-df-container\">\n",
              "      <div>\n",
              "<style scoped>\n",
              "    .dataframe tbody tr th:only-of-type {\n",
              "        vertical-align: middle;\n",
              "    }\n",
              "\n",
              "    .dataframe tbody tr th {\n",
              "        vertical-align: top;\n",
              "    }\n",
              "\n",
              "    .dataframe thead th {\n",
              "        text-align: right;\n",
              "    }\n",
              "</style>\n",
              "<table border=\"1\" class=\"dataframe\">\n",
              "  <thead>\n",
              "    <tr style=\"text-align: right;\">\n",
              "      <th></th>\n",
              "      <th>step</th>\n",
              "      <th>amount</th>\n",
              "      <th>oldbalanceOrg</th>\n",
              "      <th>newbalanceOrig</th>\n",
              "      <th>oldbalanceDest</th>\n",
              "      <th>newbalanceDest</th>\n",
              "      <th>isFraud</th>\n",
              "      <th>isFlaggedFraud</th>\n",
              "    </tr>\n",
              "  </thead>\n",
              "  <tbody>\n",
              "    <tr>\n",
              "      <th>step</th>\n",
              "      <td>1.00e+00</td>\n",
              "      <td>2.24e-02</td>\n",
              "      <td>-1.01e-02</td>\n",
              "      <td>-1.03e-02</td>\n",
              "      <td>2.77e-02</td>\n",
              "      <td>2.59e-02</td>\n",
              "      <td>3.16e-02</td>\n",
              "      <td>3.28e-03</td>\n",
              "    </tr>\n",
              "    <tr>\n",
              "      <th>amount</th>\n",
              "      <td>2.24e-02</td>\n",
              "      <td>1.00e+00</td>\n",
              "      <td>-2.76e-03</td>\n",
              "      <td>-7.86e-03</td>\n",
              "      <td>2.94e-01</td>\n",
              "      <td>4.59e-01</td>\n",
              "      <td>7.67e-02</td>\n",
              "      <td>1.23e-02</td>\n",
              "    </tr>\n",
              "    <tr>\n",
              "      <th>oldbalanceOrg</th>\n",
              "      <td>-1.01e-02</td>\n",
              "      <td>-2.76e-03</td>\n",
              "      <td>1.00e+00</td>\n",
              "      <td>9.99e-01</td>\n",
              "      <td>6.62e-02</td>\n",
              "      <td>4.20e-02</td>\n",
              "      <td>1.02e-02</td>\n",
              "      <td>3.83e-03</td>\n",
              "    </tr>\n",
              "    <tr>\n",
              "      <th>newbalanceOrig</th>\n",
              "      <td>-1.03e-02</td>\n",
              "      <td>-7.86e-03</td>\n",
              "      <td>9.99e-01</td>\n",
              "      <td>1.00e+00</td>\n",
              "      <td>6.78e-02</td>\n",
              "      <td>4.18e-02</td>\n",
              "      <td>-8.15e-03</td>\n",
              "      <td>3.78e-03</td>\n",
              "    </tr>\n",
              "    <tr>\n",
              "      <th>oldbalanceDest</th>\n",
              "      <td>2.77e-02</td>\n",
              "      <td>2.94e-01</td>\n",
              "      <td>6.62e-02</td>\n",
              "      <td>6.78e-02</td>\n",
              "      <td>1.00e+00</td>\n",
              "      <td>9.77e-01</td>\n",
              "      <td>-5.89e-03</td>\n",
              "      <td>-5.13e-04</td>\n",
              "    </tr>\n",
              "    <tr>\n",
              "      <th>newbalanceDest</th>\n",
              "      <td>2.59e-02</td>\n",
              "      <td>4.59e-01</td>\n",
              "      <td>4.20e-02</td>\n",
              "      <td>4.18e-02</td>\n",
              "      <td>9.77e-01</td>\n",
              "      <td>1.00e+00</td>\n",
              "      <td>5.35e-04</td>\n",
              "      <td>-5.29e-04</td>\n",
              "    </tr>\n",
              "    <tr>\n",
              "      <th>isFraud</th>\n",
              "      <td>3.16e-02</td>\n",
              "      <td>7.67e-02</td>\n",
              "      <td>1.02e-02</td>\n",
              "      <td>-8.15e-03</td>\n",
              "      <td>-5.89e-03</td>\n",
              "      <td>5.35e-04</td>\n",
              "      <td>1.00e+00</td>\n",
              "      <td>4.41e-02</td>\n",
              "    </tr>\n",
              "    <tr>\n",
              "      <th>isFlaggedFraud</th>\n",
              "      <td>3.28e-03</td>\n",
              "      <td>1.23e-02</td>\n",
              "      <td>3.83e-03</td>\n",
              "      <td>3.78e-03</td>\n",
              "      <td>-5.13e-04</td>\n",
              "      <td>-5.29e-04</td>\n",
              "      <td>4.41e-02</td>\n",
              "      <td>1.00e+00</td>\n",
              "    </tr>\n",
              "  </tbody>\n",
              "</table>\n",
              "</div>\n",
              "      <button class=\"colab-df-convert\" onclick=\"convertToInteractive('df-141aab75-bbe4-47af-a8ee-96e6739b54a8')\"\n",
              "              title=\"Convert this dataframe to an interactive table.\"\n",
              "              style=\"display:none;\">\n",
              "        \n",
              "  <svg xmlns=\"http://www.w3.org/2000/svg\" height=\"24px\"viewBox=\"0 0 24 24\"\n",
              "       width=\"24px\">\n",
              "    <path d=\"M0 0h24v24H0V0z\" fill=\"none\"/>\n",
              "    <path d=\"M18.56 5.44l.94 2.06.94-2.06 2.06-.94-2.06-.94-.94-2.06-.94 2.06-2.06.94zm-11 1L8.5 8.5l.94-2.06 2.06-.94-2.06-.94L8.5 2.5l-.94 2.06-2.06.94zm10 10l.94 2.06.94-2.06 2.06-.94-2.06-.94-.94-2.06-.94 2.06-2.06.94z\"/><path d=\"M17.41 7.96l-1.37-1.37c-.4-.4-.92-.59-1.43-.59-.52 0-1.04.2-1.43.59L10.3 9.45l-7.72 7.72c-.78.78-.78 2.05 0 2.83L4 21.41c.39.39.9.59 1.41.59.51 0 1.02-.2 1.41-.59l7.78-7.78 2.81-2.81c.8-.78.8-2.07 0-2.86zM5.41 20L4 18.59l7.72-7.72 1.47 1.35L5.41 20z\"/>\n",
              "  </svg>\n",
              "      </button>\n",
              "      \n",
              "  <style>\n",
              "    .colab-df-container {\n",
              "      display:flex;\n",
              "      flex-wrap:wrap;\n",
              "      gap: 12px;\n",
              "    }\n",
              "\n",
              "    .colab-df-convert {\n",
              "      background-color: #E8F0FE;\n",
              "      border: none;\n",
              "      border-radius: 50%;\n",
              "      cursor: pointer;\n",
              "      display: none;\n",
              "      fill: #1967D2;\n",
              "      height: 32px;\n",
              "      padding: 0 0 0 0;\n",
              "      width: 32px;\n",
              "    }\n",
              "\n",
              "    .colab-df-convert:hover {\n",
              "      background-color: #E2EBFA;\n",
              "      box-shadow: 0px 1px 2px rgba(60, 64, 67, 0.3), 0px 1px 3px 1px rgba(60, 64, 67, 0.15);\n",
              "      fill: #174EA6;\n",
              "    }\n",
              "\n",
              "    [theme=dark] .colab-df-convert {\n",
              "      background-color: #3B4455;\n",
              "      fill: #D2E3FC;\n",
              "    }\n",
              "\n",
              "    [theme=dark] .colab-df-convert:hover {\n",
              "      background-color: #434B5C;\n",
              "      box-shadow: 0px 1px 3px 1px rgba(0, 0, 0, 0.15);\n",
              "      filter: drop-shadow(0px 1px 2px rgba(0, 0, 0, 0.3));\n",
              "      fill: #FFFFFF;\n",
              "    }\n",
              "  </style>\n",
              "\n",
              "      <script>\n",
              "        const buttonEl =\n",
              "          document.querySelector('#df-141aab75-bbe4-47af-a8ee-96e6739b54a8 button.colab-df-convert');\n",
              "        buttonEl.style.display =\n",
              "          google.colab.kernel.accessAllowed ? 'block' : 'none';\n",
              "\n",
              "        async function convertToInteractive(key) {\n",
              "          const element = document.querySelector('#df-141aab75-bbe4-47af-a8ee-96e6739b54a8');\n",
              "          const dataTable =\n",
              "            await google.colab.kernel.invokeFunction('convertToInteractive',\n",
              "                                                     [key], {});\n",
              "          if (!dataTable) return;\n",
              "\n",
              "          const docLinkHtml = 'Like what you see? Visit the ' +\n",
              "            '<a target=\"_blank\" href=https://colab.research.google.com/notebooks/data_table.ipynb>data table notebook</a>'\n",
              "            + ' to learn more about interactive tables.';\n",
              "          element.innerHTML = '';\n",
              "          dataTable['output_type'] = 'display_data';\n",
              "          await google.colab.output.renderOutput(dataTable, element);\n",
              "          const docLink = document.createElement('div');\n",
              "          docLink.innerHTML = docLinkHtml;\n",
              "          element.appendChild(docLink);\n",
              "        }\n",
              "      </script>\n",
              "    </div>\n",
              "  </div>\n",
              "  "
            ]
          },
          "metadata": {},
          "execution_count": 55
        }
      ]
    },
    {
      "cell_type": "code",
      "source": [
        "sns.heatmap(dataset.corr(), annot=True, cmap=\"coolwarm\");"
      ],
      "metadata": {
        "colab": {
          "base_uri": "https://localhost:8080/",
          "height": 342
        },
        "id": "6j_tegE9qftW",
        "outputId": "58ecfdde-24b7-4409-d4b3-82e1c503888f"
      },
      "execution_count": 56,
      "outputs": [
        {
          "output_type": "display_data",
          "data": {
            "text/plain": [
              "<Figure size 432x288 with 2 Axes>"
            ],
            "image/png": "[encoded data removed]"
          },
          "metadata": {
            "needs_background": "light"
          }
        }
      ]
    },
    {
      "cell_type": "code",
      "source": [
        "plt.figure(figsize=(20,3))\n",
        "plt.scatter(dataset['oldbalanceOrg'], dataset['newbalanceOrig'], c='red');"
      ],
      "metadata": {
        "colab": {
          "base_uri": "https://localhost:8080/",
          "height": 235
        },
        "id": "W1dcOwWYqiWd",
        "outputId": "c8515676-2f15-4a92-ecf6-c0afdf879f19"
      },
      "execution_count": 57,
      "outputs": [
        {
          "output_type": "display_data",
          "data": {
            "text/plain": [
              "<Figure size 1440x216 with 1 Axes>"
            ],
            "image/png": "[encoded data removed]"
          },
          "metadata": {
            "needs_background": "light"
          }
        }
      ]
    },
    {
      "cell_type": "markdown",
      "source": [
        "hue olarak amountı eklediğimizde ortaya çıkan grafik gösterilmiştir."
      ],
      "metadata": {
        "id": "Sn8FRdgqfDAg"
      }
    },
    {
      "cell_type": "code",
      "source": [
        "sns.scatterplot(x=\"newbalanceOrig\", y=\"oldbalanceOrg\", hue=\"amount\", data=dataset.sample(frac=0.001));"
      ],
      "metadata": {
        "colab": {
          "base_uri": "https://localhost:8080/",
          "height": 290
        },
        "id": "XIYrnXygfDoG",
        "outputId": "4d46b945-7a0e-449c-e849-1e3521d0ffd0"
      },
      "execution_count": 58,
      "outputs": [
        {
          "output_type": "display_data",
          "data": {
            "text/plain": [
              "<Figure size 432x288 with 1 Axes>"
            ],
            "image/png": "[encoded data removed]"
          },
          "metadata": {
            "needs_background": "light"
          }
        }
      ]
    },
    {
      "cell_type": "markdown",
      "source": [
        "Sayısal Değişkenlerin Dağılımı gösterilmiştir."
      ],
      "metadata": {
        "id": "3e9mJyngfENF"
      }
    },
    {
      "cell_type": "code",
      "source": [
        "columns=['step','amount','oldbalanceOrg','newbalanceOrig','oldbalanceDest','newbalanceDest']\n",
        "\n",
        "for column in columns:\n",
        "    plt.xlabel(column)\n",
        "    dataset[column].plot(kind='hist', bins=10, figsize=(12,6), facecolor='red',edgecolor='black')\n",
        "    plt.title(f\"{column} Dağılımı\")\n",
        "    plt.show()"
      ],
      "metadata": {
        "colab": {
          "base_uri": "https://localhost:8080/",
          "height": 1000
        },
        "id": "iiWBJ4EIfEk4",
        "outputId": "e326435f-4b08-412c-c62f-80a550a06674"
      },
      "execution_count": 59,
      "outputs": [
        {
          "output_type": "display_data",
          "data": {
            "text/plain": [
              "<Figure size 864x432 with 1 Axes>"
            ],
            "image/png": "[encoded data removed]"
          },
          "metadata": {
            "needs_background": "light"
          }
        },
        {
          "output_type": "display_data",
          "data": {
            "text/plain": [
              "<Figure size 864x432 with 1 Axes>"
            ],
            "image/png": "[encoded data removed]"
          },
          "metadata": {
            "needs_background": "light"
          }
        },
        {
          "output_type": "display_data",
          "data": {
            "text/plain": [
              "<Figure size 864x432 with 1 Axes>"
            ],
            "image/png": "[encoded data removed]"
          },
          "metadata": {
            "needs_background": "light"
          }
        },
        {
          "output_type": "display_data",
          "data": {
            "text/plain": [
              "<Figure size 864x432 with 1 Axes>"
            ],
            "image/png": "[encoded data removed]"
          },
          "metadata": {
            "needs_background": "light"
          }
        },
        {
          "output_type": "display_data",
          "data": {
            "text/plain": [
              "<Figure size 864x432 with 1 Axes>"
            ],
            "image/png": "[encoded data removed]"
          },
          "metadata": {
            "needs_background": "light"
          }
        },
        {
          "output_type": "display_data",
          "data": {
            "text/plain": [
              "<Figure size 864x432 with 1 Axes>"
            ],
            "image/png": "[encoded data removed]"
          },
          "metadata": {
            "needs_background": "light"
          }
        }
      ]
    },
    {
      "cell_type": "markdown",
      "source": [
        "# **Özellik Ölçekleme**\n",
        "\n",
        "Aralarında değer farkı çok yüksek olan özellikleri ölçekleyerek, aralarındaki sayısal farkı azaltmış olduk."
      ],
      "metadata": {
        "id": "CtFgnCd3moWa"
      }
    },
    {
      "cell_type": "code",
      "source": [
        "from sklearn import preprocessing"
      ],
      "metadata": {
        "id": "15LXwa9RmtfQ"
      },
      "execution_count": 60,
      "outputs": []
    },
    {
      "cell_type": "markdown",
      "source": [
        "MinMaxScaler ile normalizasyon yapılmıştır.\n",
        "\n",
        "Xn = (X - Xmin) / (Xmax - Xmin)"
      ],
      "metadata": {
        "id": "eVChCcq78VME"
      }
    },
    {
      "cell_type": "code",
      "source": [
        "data = dataset.loc[:, [\"amount\", \"oldbalanceOrg\"]].values\n",
        "data"
      ],
      "metadata": {
        "colab": {
          "base_uri": "https://localhost:8080/"
        },
        "id": "ZeH-qqX6ng8Y",
        "outputId": "bd367984-25b4-4caf-a3ab-91a3ae873ecf"
      },
      "execution_count": 61,
      "outputs": [
        {
          "output_type": "execute_result",
          "data": {
            "text/plain": [
              "array([[9.83964000e+03, 1.70136000e+05],\n",
              "       [1.86428000e+03, 2.12490000e+04],\n",
              "       [1.81000000e+02, 1.81000000e+02],\n",
              "       ...,\n",
              "       [6.31140928e+06, 6.31140928e+06],\n",
              "       [8.50002520e+05, 8.50002520e+05],\n",
              "       [8.50002520e+05, 8.50002520e+05]])"
            ]
          },
          "metadata": {},
          "execution_count": 61
        }
      ]
    },
    {
      "cell_type": "code",
      "source": [
        "MinMaxScaler = preprocessing.MinMaxScaler(feature_range =(0, 1))\n",
        "scaledData = MinMaxScaler.fit_transform(data)\n",
        "scaledData"
      ],
      "metadata": {
        "colab": {
          "base_uri": "https://localhost:8080/"
        },
        "id": "DNQy5iQPt2E4",
        "outputId": "8ee88e9e-9894-4376-855f-1e0b82d446c5"
      },
      "execution_count": 62,
      "outputs": [
        {
          "output_type": "execute_result",
          "data": {
            "text/plain": [
              "array([[1.06437179e-04, 2.85534757e-03],\n",
              "       [2.01662565e-05, 3.56616357e-04],\n",
              "       [1.95790998e-06, 3.03767521e-06],\n",
              "       ...,\n",
              "       [6.82716643e-02, 1.05922716e-01],\n",
              "       [9.19463216e-03, 1.42653679e-02],\n",
              "       [9.19463216e-03, 1.42653679e-02]])"
            ]
          },
          "metadata": {},
          "execution_count": 62
        }
      ]
    },
    {
      "cell_type": "markdown",
      "source": [
        "StandardScalser ile Standardazasyon yapılmıştır.\n",
        "\n",
        "X' = (X - mean) / (Standard Devation)"
      ],
      "metadata": {
        "id": "hxy0ARD98jTl"
      }
    },
    {
      "cell_type": "code",
      "source": [
        "Standardisation = preprocessing.StandardScaler()\n",
        "scaledData = MinMaxScaler.fit_transform(data)\n",
        "scaledData"
      ],
      "metadata": {
        "colab": {
          "base_uri": "https://localhost:8080/"
        },
        "id": "pHuY276L8jID",
        "outputId": "c59e594b-6d8e-4a44-9465-a573539ec245"
      },
      "execution_count": 63,
      "outputs": [
        {
          "output_type": "execute_result",
          "data": {
            "text/plain": [
              "array([[1.06437179e-04, 2.85534757e-03],\n",
              "       [2.01662565e-05, 3.56616357e-04],\n",
              "       [1.95790998e-06, 3.03767521e-06],\n",
              "       ...,\n",
              "       [6.82716643e-02, 1.05922716e-01],\n",
              "       [9.19463216e-03, 1.42653679e-02],\n",
              "       [9.19463216e-03, 1.42653679e-02]])"
            ]
          },
          "metadata": {},
          "execution_count": 63
        }
      ]
    },
    {
      "cell_type": "code",
      "source": [
        "numericColumns = dataset.loc[:, [\"step\", \"amount\", \"oldbalanceOrg\", \"newbalanceOrig\", \"oldbalanceDest\", \"newbalanceDest\"]]\n",
        "norm = preprocessing.MinMaxScaler().fit(numericColumns)\n",
        "datasetNorm = norm.transform(numericColumns)\n",
        "datasetNorm"
      ],
      "metadata": {
        "colab": {
          "base_uri": "https://localhost:8080/"
        },
        "id": "W2Dztyy29SXO",
        "outputId": "63a38763-bdf8-4497-9153-a2eab885e6a3"
      },
      "execution_count": 67,
      "outputs": [
        {
          "output_type": "execute_result",
          "data": {
            "text/plain": [
              "array([[0.00000000e+00, 1.06437179e-04, 2.85534757e-03, 3.23275647e-03,\n",
              "        0.00000000e+00, 0.00000000e+00],\n",
              "       [0.00000000e+00, 2.01662565e-05, 3.56616357e-04, 3.90938877e-04,\n",
              "        0.00000000e+00, 0.00000000e+00],\n",
              "       [0.00000000e+00, 1.95790998e-06, 3.03767521e-06, 0.00000000e+00,\n",
              "        0.00000000e+00, 0.00000000e+00],\n",
              "       ...,\n",
              "       [1.00000000e+00, 6.82716643e-02, 1.05922716e-01, 0.00000000e+00,\n",
              "        1.92375796e-04, 1.79120417e-02],\n",
              "       [1.00000000e+00, 9.19463216e-03, 1.42653679e-02, 0.00000000e+00,\n",
              "        0.00000000e+00, 0.00000000e+00],\n",
              "       [1.00000000e+00, 9.19463216e-03, 1.42653679e-02, 0.00000000e+00,\n",
              "        1.82859791e-02, 2.06640365e-02]])"
            ]
          },
          "metadata": {},
          "execution_count": 67
        }
      ]
    },
    {
      "cell_type": "code",
      "source": [
        "pd.DataFrame(datasetNorm, columns=numericColumns.columns).plot.box(figsize=(20,5), rot=90);"
      ],
      "metadata": {
        "colab": {
          "base_uri": "https://localhost:8080/",
          "height": 396
        },
        "id": "SJvhhPzloAx6",
        "outputId": "35582c47-c5d0-41c8-cf7a-707ec4a7e531"
      },
      "execution_count": 66,
      "outputs": [
        {
          "output_type": "display_data",
          "data": {
            "text/plain": [
              "<Figure size 1440x360 with 1 Axes>"
            ],
            "image/png": "[encoded data removed]"
          },
          "metadata": {
            "needs_background": "light"
          }
        }
      ]
    },
    {
      "cell_type": "code",
      "source": [
        "numericColumns = dataset.loc[:, [\"step\", \"amount\", \"oldbalanceOrg\", \"newbalanceOrig\", \"oldbalanceDest\", \"newbalanceDest\"]]\n",
        "norm = preprocessing.StandardScaler().fit(numericColumns)\n",
        "datasetStd = norm.transform(numericColumns)\n",
        "datasetStd"
      ],
      "metadata": {
        "colab": {
          "base_uri": "https://localhost:8080/"
        },
        "id": "6wmmcosJWSz1",
        "outputId": "cef181bb-9f50-4b75-dbcd-cb5a0487e2bc"
      },
      "execution_count": 68,
      "outputs": [
        {
          "output_type": "execute_result",
          "data": {
            "text/plain": [
              "array([[-1.70304158e+00, -2.81559923e-01, -2.29810037e-01,\n",
              "        -2.37621696e-01, -3.23813895e-01, -3.33411405e-01],\n",
              "       [-1.70304158e+00, -2.94767262e-01, -2.81359380e-01,\n",
              "        -2.85812295e-01, -3.23813895e-01, -3.33411405e-01],\n",
              "       [-1.70304158e+00, -2.97554804e-01, -2.88653782e-01,\n",
              "        -2.92441707e-01, -3.23813895e-01, -3.33411405e-01],\n",
              "       ...,\n",
              "       [ 3.51012348e+00,  1.01539526e+01,  1.89649113e+00,\n",
              "        -2.92441707e-01, -3.03665258e-01,  1.40302700e+00],\n",
              "       [ 3.51012348e+00,  1.10976490e+00,  5.58104668e-03,\n",
              "        -2.92441707e-01, -3.23813895e-01, -3.33411405e-01],\n",
              "       [ 3.51012348e+00,  1.10976490e+00,  5.58104668e-03,\n",
              "        -2.92441707e-01,  1.59138312e+00,  1.66981230e+00]])"
            ]
          },
          "metadata": {},
          "execution_count": 68
        }
      ]
    },
    {
      "cell_type": "code",
      "source": [
        "pd.DataFrame(datasetStd, columns=numericColumns.columns).plot.box(figsize=(20,5), rot=90);"
      ],
      "metadata": {
        "colab": {
          "base_uri": "https://localhost:8080/",
          "height": 396
        },
        "id": "UgUk9KStoJIL",
        "outputId": "3f56cf1e-0648-409a-d19c-aa453ebb21e0"
      },
      "execution_count": 69,
      "outputs": [
        {
          "output_type": "display_data",
          "data": {
            "text/plain": [
              "<Figure size 1440x360 with 1 Axes>"
            ],
            "image/png": "[encoded data removed]"
          },
          "metadata": {
            "needs_background": "light"
          }
        }
      ]
    }
  ]
}